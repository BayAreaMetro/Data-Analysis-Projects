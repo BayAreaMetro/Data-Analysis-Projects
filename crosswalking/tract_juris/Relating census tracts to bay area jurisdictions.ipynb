{
 "cells": [
  {
   "cell_type": "markdown",
   "id": "sticky-reconstruction",
   "metadata": {},
   "source": [
    "### Crosswalking census tracts to jurisdictions using census block population as weights\n",
    "\n",
    "Notebook relates census tracts to Bay Area jurisdictions, including the remainder of counties when incorporated areas are subtracted. The `jurisdictions` file fully encompasses the 9-county bay area.\n",
    "\n",
    "To do the disaggregation, it assigns a tract to any jurisdictions that may contain parts of it not by land area but by the census block population, so we can answer the question:\n",
    "\n",
    "`For tract x, what share of its population (accounted for at the block level) falls with jurisdiction A, B, C...`\n",
    "\n",
    "An example is then provided showing the disaggregation using tenure data from the ACS.\n",
    "\n",
    "`aolsen at bayareametro.gov`"
   ]
  },
  {
   "cell_type": "code",
   "execution_count": 1,
   "id": "unnecessary-substitute",
   "metadata": {},
   "outputs": [
    {
     "name": "stderr",
     "output_type": "stream",
     "text": [
      "/Users/aolsen/opt/anaconda3/envs/geo_env/lib/python3.8/site-packages/geopandas/_compat.py:84: UserWarning: The Shapely GEOS version (3.8.1-CAPI-1.13.3) is incompatible with the GEOS version PyGEOS was compiled with (3.9.0-CAPI-1.16.2). Conversions between both will be slow.\n",
      "  warnings.warn(\n"
     ]
    }
   ],
   "source": [
    "import pandas as pd\n",
    "import requests\n",
    "import os\n",
    "import feather as ft\n",
    "import geopandas as gpd\n",
    "apikey = os.getenv('CENSUS_API_KEY')"
   ]
  },
  {
   "cell_type": "code",
   "execution_count": 2,
   "id": "behind-cooler",
   "metadata": {},
   "outputs": [],
   "source": [
    "bayareafips_full ={'06001':'Alameda', '06013':'Contra Costa', '06041':'Marin', '06055':'Napa', '06075':'San Francisco', '06081':'San Mateo', '06085':'Santa Clara', '06097':'Sonoma', '06095':'Solano'}"
   ]
  },
  {
   "cell_type": "code",
   "execution_count": 3,
   "id": "golden-democracy",
   "metadata": {},
   "outputs": [],
   "source": [
    "def pct(x): return x/x.sum()"
   ]
  },
  {
   "cell_type": "code",
   "execution_count": 4,
   "id": "graduate-bronze",
   "metadata": {},
   "outputs": [],
   "source": [
    "censusblocks_xy = gpd.read_file(\n",
    "    'data/tl_2015_06_tabblock10_bayarea_xy.shp')\n"
   ]
  },
  {
   "cell_type": "code",
   "execution_count": null,
   "id": "recovered-norfolk",
   "metadata": {},
   "outputs": [],
   "source": []
  },
  {
   "cell_type": "code",
   "execution_count": 5,
   "id": "split-amendment",
   "metadata": {},
   "outputs": [
    {
     "data": {
      "text/plain": [
       "<AxesSubplot:>"
      ]
     },
     "execution_count": 5,
     "metadata": {},
     "output_type": "execute_result"
    },
    {
     "data": {
      "image/png": "[encoded data removed]",
      "text/plain": [
       "<Figure size 432x288 with 1 Axes>"
      ]
     },
     "metadata": {
      "needs_background": "light"
     },
     "output_type": "display_data"
    }
   ],
   "source": [
    "# made from 2020 tiger files\n",
    "jurisdictions = gpd.read_file(\n",
    "    'data/places_w_remainder_uninc_complete_2020_vintage.shp')\n",
    "jurisdictions.plot()"
   ]
  },
  {
   "cell_type": "markdown",
   "id": "forced-uruguay",
   "metadata": {},
   "source": [
    "### Get Census Data at Tract Level"
   ]
  },
  {
   "cell_type": "code",
   "execution_count": 29,
   "id": "important-syracuse",
   "metadata": {},
   "outputs": [],
   "source": [
    "# set inputs for census call\n",
    "units_tbl = ['B25003_002E','B25003_003E']\n",
    "units_tbl_str =','.join(units_tbl)\n",
    "vintage=2019\n",
    "dataset='acs5'\n",
    "survey='acs'\n",
    "geo='tract'"
   ]
  },
  {
   "cell_type": "code",
   "execution_count": 30,
   "id": "civil-investigator",
   "metadata": {},
   "outputs": [],
   "source": [
    "acs_url='https://api.census.gov/data/{vintage}/{survey}/{dataset}?key={key}&get={tbl}&for={geo}&in=state:06'.format(key=apikey,tbl=units_tbl_str,vintage=vintage,dataset=dataset,geo=geo,survey=survey)\n",
    "dict_url=['https://api.census.gov/data/{vintage}/{survey}/{dataset}/variables/{tbl}.json'.format(tbl=t,vintage=vintage,survey=survey,dataset=dataset) for t in units_tbl]"
   ]
  },
  {
   "cell_type": "code",
   "execution_count": 31,
   "id": "seasonal-sheriff",
   "metadata": {},
   "outputs": [
    {
     "data": {
      "text/plain": [
       "{'B25003_002E': 'Estimate!!Total:!!Owner occupied',\n",
       " 'B25003_003E': 'Estimate!!Total:!!Renter occupied'}"
      ]
     },
     "execution_count": 31,
     "metadata": {},
     "output_type": "execute_result"
    }
   ],
   "source": [
    "datadicts = [pd.read_json(d, typ='series', orient='columns')\n",
    "             for d in dict_url]\n",
    "datadict = pd.DataFrame(datadicts).set_index('name').label.to_dict()\n",
    "datadict"
   ]
  },
  {
   "cell_type": "code",
   "execution_count": 9,
   "id": "compound-drilling",
   "metadata": {},
   "outputs": [],
   "source": [
    "# get data from api\n",
    "resp = requests.get(acs_url)\n",
    "raw_data = pd.read_json(resp.text)"
   ]
  },
  {
   "cell_type": "code",
   "execution_count": 32,
   "id": "unauthorized-bradley",
   "metadata": {},
   "outputs": [
    {
     "data": {
      "text/plain": [
       "GEOID10      variable       \n",
       "06085507904  Owner occupied      969\n",
       "             Renter occupied     115\n",
       "06085508504  Owner occupied      512\n",
       "             Renter occupied    2836\n",
       "06085508505  Owner occupied      873\n",
       "                                ... \n",
       "06037104204  Renter occupied     268\n",
       "06037104403  Owner occupied      415\n",
       "             Renter occupied     250\n",
       "06037104404  Owner occupied      309\n",
       "             Renter occupied     369\n",
       "Length: 16114, dtype: int64"
      ]
     },
     "execution_count": 32,
     "metadata": {},
     "output_type": "execute_result"
    }
   ],
   "source": [
    "# process it from json\n",
    "data = raw_data.copy()\n",
    "data.columns = data.iloc[0].tolist()\n",
    "data = data.iloc[1:].rename(columns=datadict).rename(columns=lambda x: x.split('!!')[-1])\n",
    "\n",
    "data['GEOID10']=data.state + data.county  + data.tract\n",
    "data = data.set_index('GEOID10').drop(['state','county','tract'],axis=1).stack()\n",
    "data_tenure = data = pd.to_numeric(data)\n",
    "data_tenure.index = data_tenure.index.set_names('variable',1)\n",
    "data_tenure"
   ]
  },
  {
   "cell_type": "markdown",
   "id": "banned-snake",
   "metadata": {},
   "source": [
    "### Make tract to jurisdiction correspondence"
   ]
  },
  {
   "cell_type": "code",
   "execution_count": 23,
   "id": "mobile-consultancy",
   "metadata": {},
   "outputs": [
    {
     "data": {
      "text/plain": [
       "GEOID10      juris                 \n",
       "06001400100  Berkeley                  0.000000\n",
       "             Oakland                   0.994212\n",
       "             Unincorporated Alameda    0.005788\n",
       "06001400200  Oakland                   1.000000\n",
       "06001400300  Oakland                   1.000000\n",
       "06001400400  Oakland                   1.000000\n",
       "06001400500  Oakland                   1.000000\n",
       "06001400600  Oakland                   1.000000\n",
       "06001400700  Berkeley                  0.000000\n",
       "             Oakland                   1.000000\n",
       "06001400800  Oakland                   1.000000\n",
       "06001400900  Emeryville                0.000000\n",
       "             Oakland                   1.000000\n",
       "06001401000  Oakland                   1.000000\n",
       "06001401100  Oakland                   1.000000\n",
       "Name: value, dtype: float64"
      ]
     },
     "execution_count": 23,
     "metadata": {},
     "output_type": "execute_result"
    }
   ],
   "source": [
    "# load census block population zzz\n",
    "\n",
    "\n",
    "block_pop_df = ft.read_dataframe('data/census2010sf1_blk_pop.feather')\n",
    "\n",
    "block_pop_df['tract'] = block_pop_df.GEOID10_blk.str.slice(0, 11)\n",
    "\n",
    "# relate census blocks to jurisdictions\n",
    "\n",
    "censusblocks_x_juris = gpd.sjoin(\n",
    "    censusblocks_xy, jurisdictions, how='inner', op='within')\n",
    "\n",
    "# assign jurisdiction back to block_pop_df\n",
    "\n",
    "block_pop_df['juris'] = block_pop_df.GEOID10_blk.map(\n",
    "    censusblocks_x_juris.groupby(['GEOID10']).jurisdicti.first())\n",
    "\n",
    "# prepare a tract-to-juris mapping that disaggregates the tract population into component jurisdictions\n",
    "# using block derived population weights - many to many\n",
    "\n",
    "tract_to_juris_v2 = block_pop_df.groupby(\n",
    "    ['tract', 'juris']).value.sum().groupby(level='tract', group_keys=False).apply(pct)\n",
    "\n",
    "tract_to_juris_v2.index = tract_to_juris_v2.index.set_names(\n",
    "    ['GEOID10'], level=[0])\n",
    "\n",
    "tract_to_juris_v2.head(15)"
   ]
  },
  {
   "cell_type": "markdown",
   "id": "detailed-payday",
   "metadata": {},
   "source": [
    "### Use tract to juris mapping to disaggregate a tract - level dataset"
   ]
  },
  {
   "cell_type": "code",
   "execution_count": 24,
   "id": "addressed-black",
   "metadata": {},
   "outputs": [],
   "source": [
    "# 1. merge on geoid - this will repeat the data value each time there is an entry in the mapping file\n",
    "# if a tract is in more than one jurisdiction, the data value will be copied for both jurisdictions\n",
    "\n",
    "data_tenure_jur = data_tenure.reset_index(name='units').merge(\n",
    "    tract_to_juris_v2.reset_index(), on=['GEOID10'])\n",
    "data_tenure_jur.head(2)\n",
    "\n",
    "\n",
    "# weigh units by the share given to a jurisdiction\n",
    "# if a tract is 99% in 1 juris and 1% in another, just 1% will be counted in the other jurisdiction\n",
    "\n",
    "data_tenure_jur['units_wt'] = data_tenure_jur['units'].astype(\n",
    "    float) * data_tenure_jur['value']\n",
    "data_tenure_jur['county'] = data_tenure_jur.GEOID10.str.slice(\n",
    "    0, 5).map(bayareafips_full)\n",
    "\n",
    "data_tenure_jur = data_tenure_jur.groupby(\n",
    "    ['county', 'juris', 'variable']).units_wt.sum()\n",
    "data_tenure_jur.sum(level=0)\n",
    "\n",
    "data_tenure_jur = data_tenure_jur.reset_index().merge(jurisdictions[['county', 'jurisdicti']], left_on=[\n",
    "    'county', 'juris'], right_on=['county', 'jurisdicti']).drop(labels=['jurisdicti'], axis=1)\n",
    "data_tenure_jur_summary = data_tenure_jur.groupby(\n",
    "    [u'county', u'juris', u'variable']).units_wt.sum().round(0).astype(int)"
   ]
  },
  {
   "cell_type": "markdown",
   "id": "suited-chain",
   "metadata": {},
   "source": [
    "### result - tract data, mapped to jurisdictions, based on a join of census blocks to those jurisdicions\n",
    "This includes the unincorporated areas which are otherwise difficult to get data for."
   ]
  },
  {
   "cell_type": "code",
   "execution_count": 33,
   "id": "egyptian-career",
   "metadata": {},
   "outputs": [
    {
     "data": {
      "text/plain": [
       "county   juris                  variable       \n",
       "Alameda  Alameda                Owner occupied     14588\n",
       "                                Renter occupied    15830\n",
       "         Albany                 Owner occupied      3499\n",
       "                                Renter occupied     3949\n",
       "         Berkeley               Owner occupied     19442\n",
       "                                                   ...  \n",
       "Sonoma   Sonoma                 Renter occupied     1809\n",
       "         Unincorporated Sonoma  Owner occupied     37476\n",
       "                                Renter occupied    18894\n",
       "         Windsor                Owner occupied      6928\n",
       "                                Renter occupied     2298\n",
       "Name: units_wt, Length: 218, dtype: int64"
      ]
     },
     "execution_count": 33,
     "metadata": {},
     "output_type": "execute_result"
    }
   ],
   "source": [
    "data_tenure_jur_summary"
   ]
  },
  {
   "cell_type": "code",
   "execution_count": 28,
   "id": "demographic-denmark",
   "metadata": {},
   "outputs": [
    {
     "data": {
      "text/plain": [
       "<AxesSubplot:xlabel='county'>"
      ]
     },
     "execution_count": 28,
     "metadata": {},
     "output_type": "execute_result"
    },
    {
     "data": {
      "image/png": "[encoded data removed]",
      "text/plain": [
       "<Figure size 432x288 with 1 Axes>"
      ]
     },
     "metadata": {
      "needs_background": "light"
     },
     "output_type": "display_data"
    }
   ],
   "source": [
    "data_tenure_jur_summary.sum(level=['county','variable']).groupby(level='county').apply(pct).unstack(1).plot(kind='bar',stacked=True)"
   ]
  },
  {
   "cell_type": "code",
   "execution_count": null,
   "id": "found-significance",
   "metadata": {},
   "outputs": [],
   "source": []
  }
 ],
 "metadata": {
  "kernelspec": {
   "display_name": "Python 3",
   "language": "python",
   "name": "python3"
  },
  "language_info": {
   "codemirror_mode": {
    "name": "ipython",
    "version": 3
   },
   "file_extension": ".py",
   "mimetype": "text/x-python",
   "name": "python",
   "nbconvert_exporter": "python",
   "pygments_lexer": "ipython3",
   "version": "3.8.6"
  },
  "toc": {
   "base_numbering": 1,
   "nav_menu": {},
   "number_sections": true,
   "sideBar": true,
   "skip_h1_title": false,
   "title_cell": "Table of Contents",
   "title_sidebar": "Contents",
   "toc_cell": false,
   "toc_position": {},
   "toc_section_display": true,
   "toc_window_display": false
  }
 },
 "nbformat": 4,
 "nbformat_minor": 5
}
