{
 "cells": [
  {
   "cell_type": "code",
   "execution_count": 1,
   "metadata": {},
   "outputs": [],
   "source": [
    "import os\n",
    "import sys\n",
    "import pandas as pd, geopandas as gp, matplotlib.pyplot as plt, numpy as np\n",
    "import json\n",
    "import fiona\n",
    "import sys\n",
    "import getpass\n",
    "import requests\n",
    "from shapely.geometry.polygon import Polygon\n",
    "from shapely.geometry.multipolygon import MultiPolygon\n",
    "import contextily as ctx\n",
    "\n",
    "user = getpass.getuser()\n",
    "sys.dont_write_bytecode = True\n",
    "\n",
    "sys.path.insert(0, '/Users/{}/Box/DataViz Projects/Utility Code'.format(user))\n",
    "\n",
    "from utils_io import *"
   ]
  },
  {
   "cell_type": "markdown",
   "metadata": {},
   "source": [
    "# RHNA Site Selection Pre-Screening Dataset Processing\n",
    "\n",
    "## Approach\n",
    "\n",
    "Develop a parcel-level dataset containing factors required by HCD as well as optional factors such as whether the site is located within a high opportunity area, or a transportation priority area, any floor area ratio requirements of the site, etc. The dataset will be developed from a combination of publically available datasets as well as datasets developed by MTC/ABAG from local governments and counties throughout the Bay Area.\n",
    "\n",
    "## Data Sources\n",
    "\n",
    "**[Data Sources Inventory](https://mtcdrive.app.box.com/file/700718735166)**"
   ]
  },
  {
   "cell_type": "markdown",
   "metadata": {},
   "source": [
    "## Pre-Processing Step\n",
    "- This notebook is intented to support the overlay processing work to create the full housing element site selection dataset. Most of this work will not take place in one session so this pre-processing step is meant to be run before proceeding with steps below.  "
   ]
  },
  {
   "cell_type": "code",
   "execution_count": 3,
   "metadata": {},
   "outputs": [],
   "source": [
    "#Box working directory path\n",
    "data_dir = '../../../Box/DataViz Projects/Data Analysis and Visualization/Housing Element Site Mapping and Pre-screening/data/'\n",
    "\n",
    "#Socrata housing site selection db 4x4\n",
    "housing_site_db_id = 'ce94-ebgq'\n",
    "\n",
    "#Pull housing site selection parcels from Socrata\n",
    "parcels_geojson = pull_geojson_from_socrata(housing_site_db_id)\n",
    "\n",
    "# Convert to geojson to geodataframe\n",
    "parcel_columns = ['joinid',\n",
    "                  'fipco',\n",
    "                  'jurisdict',\n",
    "                  'apn_frm',\n",
    "                  'acres',\n",
    "                  'tract_geoi',\n",
    "                  'blkgp_geoi',\n",
    "                  'reso_level',\n",
    "                  'x_centroid',\n",
    "                  'y_centroid',\n",
    "                  'geometry']\n",
    "\n",
    "parcels = gp.GeoDataFrame.from_features(parcels_geojson['features'],\n",
    "                                        columns=parcel_columns,\n",
    "                                        crs={'init': 'epsg:4326'})\n",
    "\n",
    "#Convert centroid columns to float data type\n",
    "parcels['x_centroid'] = parcels['x_centroid'].astype(float)\n",
    "parcels['y_centroid'] = parcels['y_centroid'].astype(float)\n",
    "\n",
    "parcels.head(5)"
   ]
  },
  {
   "cell_type": "markdown",
   "metadata": {},
   "source": [
    "## Step 4: Process opportunity datasets\n",
    "\n",
    "#### TCAC/HCD Resource Opportunity Areas 2020\n",
    "\n",
    "- TCAC/HCD Resource Opportunity Area data was last updated in early 2020. \n",
    "- TCAC/HCD Resource Opportunity Area dataset contains data for the entire Bay Area by census tract and block group. \n",
    "    - For this work, the 'finalcat' or final category column will be added to the parcels dataset. To associate these data with parcels, we will use a two-step join operation. \n",
    "        - 1st join: join tract-level data to parcels using the tract geoid added to the framework dataset in earlier steps. This will be an 'inner' join as we only care about the matching records. \n",
    "        - 2nd join: join block group-level data to parcels using the block geoid added to the framework dataset in earlier steps. This will be an 'inner' join as we again only care about matching records. \n",
    "        - Blocks and Tracts were added to the framework dataset using a point in polygon method. \n",
    "    - Urban Areas provide data at the tract level while rural area data were provided at the block group level.\n",
    "\n",
    "#### HUD Fair Market Rents\n",
    "\n",
    "- Fair Market Rents (FMRs) data was last updated in 2019.\n",
    "- Fair Market Rents (FMRs) are used to determine payment standard amounts for the Housing Choice Voucher program, to determine initial renewal rents for some expiring project-based Section 8 contracts, to determine initial rents for housing assistance payment (HAP) contracts in the Moderate Rehabilitation Single Room Occupancy program (Mod Rehab), rent ceilings for rental units in both the HOME Investment Partnerships program and the Emergency Solution Grants program, calculation of maximum award amounts for Continuum of Care recipients and the maximum amount of rent a recipient may pay for property leased with Continuum of Care funds, and calculation of flat rents in Public Housing units. \n",
    "- The U.S. Department of Housing and Urban Development (HUD) annually estimates FMRs for Office of Management and Budget (OMB) defined metropolitan areas, some HUD defined subdivisions of OMB metropolitan areas and each nonmetropolitan county. 42 USC 1437f requires FMRs be posted at least 30 days before they are effective and that they are effective at the start of the federal fiscal year (generally October 1)."
   ]
  },
  {
   "cell_type": "markdown",
   "metadata": {},
   "source": [
    "### Process TCAC/HCD Resource Opportunity Areas 2020"
   ]
  },
  {
   "cell_type": "code",
   "execution_count": 4,
   "metadata": {},
   "outputs": [
    {
     "data": {
      "text/plain": [
       "'../../../Box/DataViz Projects/Data Analysis and Visualization/Housing Element Site Mapping and Pre-screening/data/'"
      ]
     },
     "execution_count": 4,
     "metadata": {},
     "output_type": "execute_result"
    }
   ],
   "source": [
    "data_dir"
   ]
  },
  {
   "cell_type": "code",
   "execution_count": 5,
   "metadata": {},
   "outputs": [
    {
     "name": "stdout",
     "output_type": "stream",
     "text": [
      "ctcac_hcd_final_2020_public.xlsx\r\n"
     ]
    }
   ],
   "source": [
    "ls '../../../Box/DataViz Projects/Data Analysis and Visualization/Housing Element Site Mapping and Pre-screening/data/tabular'"
   ]
  },
  {
   "cell_type": "code",
   "execution_count": 40,
   "metadata": {},
   "outputs": [],
   "source": [
    "#Read in 2020 TCAC/HCD Resource Opportunity Areas\n",
    "\n",
    "resource_areas = pd.read_excel(os.path.join(data_dir,'tabular/ctcac_hcd_final_2020_public.xlsx'),\n",
    "                              dtype={'Census Tract':str,\n",
    "                                     'Census Block Group':str})"
   ]
  },
  {
   "cell_type": "code",
   "execution_count": 41,
   "metadata": {},
   "outputs": [
    {
     "data": {
      "text/html": [
       "<div>\n",
       "<style scoped>\n",
       "    .dataframe tbody tr th:only-of-type {\n",
       "        vertical-align: middle;\n",
       "    }\n",
       "\n",
       "    .dataframe tbody tr th {\n",
       "        vertical-align: top;\n",
       "    }\n",
       "\n",
       "    .dataframe thead th {\n",
       "        text-align: right;\n",
       "    }\n",
       "</style>\n",
       "<table border=\"1\" class=\"dataframe\">\n",
       "  <thead>\n",
       "    <tr style=\"text-align: right;\">\n",
       "      <th></th>\n",
       "      <th>Census Tract</th>\n",
       "      <th>Census Block Group</th>\n",
       "      <th>County</th>\n",
       "      <th>County ID</th>\n",
       "      <th>Region</th>\n",
       "      <th>Economic Domain Score (by region)</th>\n",
       "      <th>Environmental Domain Score (by region)</th>\n",
       "      <th>Education Domain Score (by region)</th>\n",
       "      <th>Composite Index Score</th>\n",
       "      <th>Final Category</th>\n",
       "    </tr>\n",
       "  </thead>\n",
       "  <tbody>\n",
       "    <tr>\n",
       "      <th>0</th>\n",
       "      <td>06001400100</td>\n",
       "      <td>NaN</td>\n",
       "      <td>Alameda</td>\n",
       "      <td>6001.0</td>\n",
       "      <td>Bay Area Region</td>\n",
       "      <td>0.826</td>\n",
       "      <td>0.406</td>\n",
       "      <td>0.736</td>\n",
       "      <td>0.433</td>\n",
       "      <td>High Resource</td>\n",
       "    </tr>\n",
       "    <tr>\n",
       "      <th>1</th>\n",
       "      <td>06001400200</td>\n",
       "      <td>NaN</td>\n",
       "      <td>Alameda</td>\n",
       "      <td>6001.0</td>\n",
       "      <td>Bay Area Region</td>\n",
       "      <td>0.935</td>\n",
       "      <td>0.754</td>\n",
       "      <td>0.794</td>\n",
       "      <td>0.683</td>\n",
       "      <td>Highest Resource</td>\n",
       "    </tr>\n",
       "    <tr>\n",
       "      <th>2</th>\n",
       "      <td>06001400300</td>\n",
       "      <td>NaN</td>\n",
       "      <td>Alameda</td>\n",
       "      <td>6001.0</td>\n",
       "      <td>Bay Area Region</td>\n",
       "      <td>0.911</td>\n",
       "      <td>0.741</td>\n",
       "      <td>0.340</td>\n",
       "      <td>0.235</td>\n",
       "      <td>High Resource</td>\n",
       "    </tr>\n",
       "    <tr>\n",
       "      <th>3</th>\n",
       "      <td>06001400400</td>\n",
       "      <td>NaN</td>\n",
       "      <td>Alameda</td>\n",
       "      <td>6001.0</td>\n",
       "      <td>Bay Area Region</td>\n",
       "      <td>0.877</td>\n",
       "      <td>0.747</td>\n",
       "      <td>0.429</td>\n",
       "      <td>0.289</td>\n",
       "      <td>High Resource</td>\n",
       "    </tr>\n",
       "    <tr>\n",
       "      <th>4</th>\n",
       "      <td>06001400500</td>\n",
       "      <td>NaN</td>\n",
       "      <td>Alameda</td>\n",
       "      <td>6001.0</td>\n",
       "      <td>Bay Area Region</td>\n",
       "      <td>0.802</td>\n",
       "      <td>0.865</td>\n",
       "      <td>0.586</td>\n",
       "      <td>0.397</td>\n",
       "      <td>High Resource</td>\n",
       "    </tr>\n",
       "  </tbody>\n",
       "</table>\n",
       "</div>"
      ],
      "text/plain": [
       "  Census Tract Census Block Group   County  County ID           Region  \\\n",
       "0  06001400100                NaN  Alameda     6001.0  Bay Area Region   \n",
       "1  06001400200                NaN  Alameda     6001.0  Bay Area Region   \n",
       "2  06001400300                NaN  Alameda     6001.0  Bay Area Region   \n",
       "3  06001400400                NaN  Alameda     6001.0  Bay Area Region   \n",
       "4  06001400500                NaN  Alameda     6001.0  Bay Area Region   \n",
       "\n",
       "   Economic Domain Score (by region)  Environmental Domain Score (by region)  \\\n",
       "0                              0.826                                   0.406   \n",
       "1                              0.935                                   0.754   \n",
       "2                              0.911                                   0.741   \n",
       "3                              0.877                                   0.747   \n",
       "4                              0.802                                   0.865   \n",
       "\n",
       "   Education Domain Score (by region)  Composite Index Score    Final Category  \n",
       "0                               0.736                  0.433     High Resource  \n",
       "1                               0.794                  0.683  Highest Resource  \n",
       "2                               0.340                  0.235     High Resource  \n",
       "3                               0.429                  0.289     High Resource  \n",
       "4                               0.586                  0.397     High Resource  "
      ]
     },
     "execution_count": 41,
     "metadata": {},
     "output_type": "execute_result"
    }
   ],
   "source": [
    "#Inspect resource areas\n",
    "resource_areas.head(5)"
   ]
  },
  {
   "cell_type": "code",
   "execution_count": 42,
   "metadata": {},
   "outputs": [
    {
     "name": "stdout",
     "output_type": "stream",
     "text": [
      "<class 'pandas.core.frame.DataFrame'>\n",
      "RangeIndex: 10144 entries, 0 to 10143\n",
      "Data columns (total 10 columns):\n",
      " #   Column                                  Non-Null Count  Dtype  \n",
      "---  ------                                  --------------  -----  \n",
      " 0   Census Tract                            10144 non-null  object \n",
      " 1   Census Block Group                      3093 non-null   object \n",
      " 2   County                                  10144 non-null  object \n",
      " 3   County ID                               10143 non-null  float64\n",
      " 4   Region                                  10144 non-null  object \n",
      " 5   Economic Domain Score (by region)       9635 non-null   float64\n",
      " 6   Environmental Domain Score (by region)  9635 non-null   float64\n",
      " 7   Education Domain Score (by region)      9635 non-null   float64\n",
      " 8   Composite Index Score                   8786 non-null   float64\n",
      " 9   Final Category                          9635 non-null   object \n",
      "dtypes: float64(5), object(5)\n",
      "memory usage: 792.6+ KB\n"
     ]
    }
   ],
   "source": [
    "#Return info about resource areas\n",
    "resource_areas.info()"
   ]
  },
  {
   "cell_type": "code",
   "execution_count": 43,
   "metadata": {},
   "outputs": [
    {
     "data": {
      "text/plain": [
       "(1513, 10)"
      ]
     },
     "execution_count": 43,
     "metadata": {},
     "output_type": "execute_result"
    }
   ],
   "source": [
    "resource_areas[resource_areas['Region'] == 'Bay Area Region'].shape"
   ]
  },
  {
   "cell_type": "code",
   "execution_count": 44,
   "metadata": {},
   "outputs": [
    {
     "data": {
      "text/plain": [
       "array(['High Resource', 'Highest Resource',\n",
       "       'Moderate Resource (Rapidly Changing)', 'Moderate Resource',\n",
       "       'Low Resource', 'High Segregation & Poverty', nan], dtype=object)"
      ]
     },
     "execution_count": 44,
     "metadata": {},
     "output_type": "execute_result"
    }
   ],
   "source": [
    "resource_areas['Final Category'].unique()"
   ]
  },
  {
   "cell_type": "code",
   "execution_count": 45,
   "metadata": {},
   "outputs": [
    {
     "data": {
      "text/plain": [
       "array(['Bay Area Region', 'Capital Region', 'Central Valley Region',\n",
       "       'Inland Empire Region', 'Los Angeles Region',\n",
       "       'Central Coast Region', 'Orange County Region', 'San Diego Region',\n",
       "       'Rural Areas'], dtype=object)"
      ]
     },
     "execution_count": 45,
     "metadata": {},
     "output_type": "execute_result"
    }
   ],
   "source": [
    "resource_areas['Region'].unique()"
   ]
  },
  {
   "cell_type": "code",
   "execution_count": 46,
   "metadata": {},
   "outputs": [],
   "source": [
    "#rename columns\n",
    "resource_areas.rename(columns={'Census Tract':'tract_geoi',\n",
    "                               'Census Block Group':'blkgp_geoi',\n",
    "                               'Final Category':'reso_level'},inplace=True)"
   ]
  },
  {
   "cell_type": "code",
   "execution_count": 47,
   "metadata": {},
   "outputs": [],
   "source": [
    "#subset resource areas at the tract level geography\n",
    "ra_tracts = resource_areas[(resource_areas['tract_geoi'].notnull()) & \n",
    "                           (resource_areas['Region'] == 'Bay Area Region')]"
   ]
  },
  {
   "cell_type": "code",
   "execution_count": 48,
   "metadata": {},
   "outputs": [
    {
     "data": {
      "text/html": [
       "<div>\n",
       "<style scoped>\n",
       "    .dataframe tbody tr th:only-of-type {\n",
       "        vertical-align: middle;\n",
       "    }\n",
       "\n",
       "    .dataframe tbody tr th {\n",
       "        vertical-align: top;\n",
       "    }\n",
       "\n",
       "    .dataframe thead th {\n",
       "        text-align: right;\n",
       "    }\n",
       "</style>\n",
       "<table border=\"1\" class=\"dataframe\">\n",
       "  <thead>\n",
       "    <tr style=\"text-align: right;\">\n",
       "      <th></th>\n",
       "      <th>tract_geoi</th>\n",
       "      <th>blkgp_geoi</th>\n",
       "      <th>County</th>\n",
       "      <th>County ID</th>\n",
       "      <th>Region</th>\n",
       "      <th>Economic Domain Score (by region)</th>\n",
       "      <th>Environmental Domain Score (by region)</th>\n",
       "      <th>Education Domain Score (by region)</th>\n",
       "      <th>Composite Index Score</th>\n",
       "      <th>reso_level</th>\n",
       "    </tr>\n",
       "  </thead>\n",
       "  <tbody>\n",
       "    <tr>\n",
       "      <th>0</th>\n",
       "      <td>06001400100</td>\n",
       "      <td>NaN</td>\n",
       "      <td>Alameda</td>\n",
       "      <td>6001.0</td>\n",
       "      <td>Bay Area Region</td>\n",
       "      <td>0.826</td>\n",
       "      <td>0.406</td>\n",
       "      <td>0.736</td>\n",
       "      <td>0.433</td>\n",
       "      <td>High Resource</td>\n",
       "    </tr>\n",
       "    <tr>\n",
       "      <th>1</th>\n",
       "      <td>06001400200</td>\n",
       "      <td>NaN</td>\n",
       "      <td>Alameda</td>\n",
       "      <td>6001.0</td>\n",
       "      <td>Bay Area Region</td>\n",
       "      <td>0.935</td>\n",
       "      <td>0.754</td>\n",
       "      <td>0.794</td>\n",
       "      <td>0.683</td>\n",
       "      <td>Highest Resource</td>\n",
       "    </tr>\n",
       "    <tr>\n",
       "      <th>2</th>\n",
       "      <td>06001400300</td>\n",
       "      <td>NaN</td>\n",
       "      <td>Alameda</td>\n",
       "      <td>6001.0</td>\n",
       "      <td>Bay Area Region</td>\n",
       "      <td>0.911</td>\n",
       "      <td>0.741</td>\n",
       "      <td>0.340</td>\n",
       "      <td>0.235</td>\n",
       "      <td>High Resource</td>\n",
       "    </tr>\n",
       "    <tr>\n",
       "      <th>3</th>\n",
       "      <td>06001400400</td>\n",
       "      <td>NaN</td>\n",
       "      <td>Alameda</td>\n",
       "      <td>6001.0</td>\n",
       "      <td>Bay Area Region</td>\n",
       "      <td>0.877</td>\n",
       "      <td>0.747</td>\n",
       "      <td>0.429</td>\n",
       "      <td>0.289</td>\n",
       "      <td>High Resource</td>\n",
       "    </tr>\n",
       "    <tr>\n",
       "      <th>4</th>\n",
       "      <td>06001400500</td>\n",
       "      <td>NaN</td>\n",
       "      <td>Alameda</td>\n",
       "      <td>6001.0</td>\n",
       "      <td>Bay Area Region</td>\n",
       "      <td>0.802</td>\n",
       "      <td>0.865</td>\n",
       "      <td>0.586</td>\n",
       "      <td>0.397</td>\n",
       "      <td>High Resource</td>\n",
       "    </tr>\n",
       "  </tbody>\n",
       "</table>\n",
       "</div>"
      ],
      "text/plain": [
       "    tract_geoi blkgp_geoi   County  County ID           Region  \\\n",
       "0  06001400100        NaN  Alameda     6001.0  Bay Area Region   \n",
       "1  06001400200        NaN  Alameda     6001.0  Bay Area Region   \n",
       "2  06001400300        NaN  Alameda     6001.0  Bay Area Region   \n",
       "3  06001400400        NaN  Alameda     6001.0  Bay Area Region   \n",
       "4  06001400500        NaN  Alameda     6001.0  Bay Area Region   \n",
       "\n",
       "   Economic Domain Score (by region)  Environmental Domain Score (by region)  \\\n",
       "0                              0.826                                   0.406   \n",
       "1                              0.935                                   0.754   \n",
       "2                              0.911                                   0.741   \n",
       "3                              0.877                                   0.747   \n",
       "4                              0.802                                   0.865   \n",
       "\n",
       "   Education Domain Score (by region)  Composite Index Score        reso_level  \n",
       "0                               0.736                  0.433     High Resource  \n",
       "1                               0.794                  0.683  Highest Resource  \n",
       "2                               0.340                  0.235     High Resource  \n",
       "3                               0.429                  0.289     High Resource  \n",
       "4                               0.586                  0.397     High Resource  "
      ]
     },
     "execution_count": 48,
     "metadata": {},
     "output_type": "execute_result"
    }
   ],
   "source": [
    "ra_tracts.head(5)"
   ]
  },
  {
   "cell_type": "code",
   "execution_count": 49,
   "metadata": {},
   "outputs": [],
   "source": [
    "ra_parcel_tracts = pd.merge(parcels[['joinid','tract_geoi']],\n",
    "                            ra_tracts[['tract_geoi','reso_level']], \n",
    "                            on='tract_geoi',\n",
    "                            how='inner')"
   ]
  },
  {
   "cell_type": "code",
   "execution_count": 50,
   "metadata": {},
   "outputs": [
    {
     "name": "stdout",
     "output_type": "stream",
     "text": [
      "<class 'pandas.core.frame.DataFrame'>\n",
      "Int64Index: 1982228 entries, 0 to 1982227\n",
      "Data columns (total 3 columns):\n",
      " #   Column      Dtype \n",
      "---  ------      ----- \n",
      " 0   joinid      object\n",
      " 1   tract_geoi  object\n",
      " 2   reso_level  object\n",
      "dtypes: object(3)\n",
      "memory usage: 60.5+ MB\n"
     ]
    }
   ],
   "source": [
    "ra_parcel_tracts.info()"
   ]
  },
  {
   "cell_type": "code",
   "execution_count": 51,
   "metadata": {},
   "outputs": [
    {
     "name": "stdout",
     "output_type": "stream",
     "text": [
      "<class 'geopandas.geodataframe.GeoDataFrame'>\n",
      "RangeIndex: 2142255 entries, 0 to 2142254\n",
      "Data columns (total 9 columns):\n",
      " #   Column      Dtype   \n",
      "---  ------      -----   \n",
      " 0   joinid      object  \n",
      " 1   fipco       object  \n",
      " 2   jurisdict   object  \n",
      " 3   apn_frm     object  \n",
      " 4   acres       object  \n",
      " 5   tract_geoi  object  \n",
      " 6   blkgp_geoi  object  \n",
      " 7   reso_level  object  \n",
      " 8   geometry    geometry\n",
      "dtypes: geometry(1), object(8)\n",
      "memory usage: 147.1+ MB\n"
     ]
    }
   ],
   "source": [
    "parcels.info()"
   ]
  },
  {
   "cell_type": "code",
   "execution_count": 52,
   "metadata": {},
   "outputs": [
    {
     "data": {
      "text/html": [
       "<div>\n",
       "<style scoped>\n",
       "    .dataframe tbody tr th:only-of-type {\n",
       "        vertical-align: middle;\n",
       "    }\n",
       "\n",
       "    .dataframe tbody tr th {\n",
       "        vertical-align: top;\n",
       "    }\n",
       "\n",
       "    .dataframe thead th {\n",
       "        text-align: right;\n",
       "    }\n",
       "</style>\n",
       "<table border=\"1\" class=\"dataframe\">\n",
       "  <thead>\n",
       "    <tr style=\"text-align: right;\">\n",
       "      <th></th>\n",
       "      <th>joinid</th>\n",
       "      <th>tract_geoi</th>\n",
       "      <th>reso_level</th>\n",
       "    </tr>\n",
       "  </thead>\n",
       "  <tbody>\n",
       "    <tr>\n",
       "      <th>0</th>\n",
       "      <td>SC257788</td>\n",
       "      <td>06085503218</td>\n",
       "      <td>Low Resource</td>\n",
       "    </tr>\n",
       "    <tr>\n",
       "      <th>1</th>\n",
       "      <td>SC257815</td>\n",
       "      <td>06085503218</td>\n",
       "      <td>Low Resource</td>\n",
       "    </tr>\n",
       "    <tr>\n",
       "      <th>2</th>\n",
       "      <td>SC257919</td>\n",
       "      <td>06085503218</td>\n",
       "      <td>Low Resource</td>\n",
       "    </tr>\n",
       "    <tr>\n",
       "      <th>3</th>\n",
       "      <td>SC257960</td>\n",
       "      <td>06085503218</td>\n",
       "      <td>Low Resource</td>\n",
       "    </tr>\n",
       "    <tr>\n",
       "      <th>4</th>\n",
       "      <td>SC258065</td>\n",
       "      <td>06085503218</td>\n",
       "      <td>Low Resource</td>\n",
       "    </tr>\n",
       "    <tr>\n",
       "      <th>5</th>\n",
       "      <td>SC260847</td>\n",
       "      <td>06085503218</td>\n",
       "      <td>Low Resource</td>\n",
       "    </tr>\n",
       "    <tr>\n",
       "      <th>6</th>\n",
       "      <td>SC260970</td>\n",
       "      <td>06085503218</td>\n",
       "      <td>Low Resource</td>\n",
       "    </tr>\n",
       "    <tr>\n",
       "      <th>7</th>\n",
       "      <td>SC262229</td>\n",
       "      <td>06085503218</td>\n",
       "      <td>Low Resource</td>\n",
       "    </tr>\n",
       "    <tr>\n",
       "      <th>8</th>\n",
       "      <td>SC262448</td>\n",
       "      <td>06085503218</td>\n",
       "      <td>Low Resource</td>\n",
       "    </tr>\n",
       "    <tr>\n",
       "      <th>9</th>\n",
       "      <td>SC263710</td>\n",
       "      <td>06085503218</td>\n",
       "      <td>Low Resource</td>\n",
       "    </tr>\n",
       "  </tbody>\n",
       "</table>\n",
       "</div>"
      ],
      "text/plain": [
       "     joinid   tract_geoi    reso_level\n",
       "0  SC257788  06085503218  Low Resource\n",
       "1  SC257815  06085503218  Low Resource\n",
       "2  SC257919  06085503218  Low Resource\n",
       "3  SC257960  06085503218  Low Resource\n",
       "4  SC258065  06085503218  Low Resource\n",
       "5  SC260847  06085503218  Low Resource\n",
       "6  SC260970  06085503218  Low Resource\n",
       "7  SC262229  06085503218  Low Resource\n",
       "8  SC262448  06085503218  Low Resource\n",
       "9  SC263710  06085503218  Low Resource"
      ]
     },
     "execution_count": 52,
     "metadata": {},
     "output_type": "execute_result"
    }
   ],
   "source": [
    "ra_parcel_tracts.head(10)"
   ]
  },
  {
   "cell_type": "code",
   "execution_count": 53,
   "metadata": {},
   "outputs": [],
   "source": [
    "#subset rural area block groups\n",
    "ra_blkgp = resource_areas[(resource_areas['blkgp_geoi'].notnull()) & \n",
    "                           (resource_areas['Region'] == 'Rural Areas')]"
   ]
  },
  {
   "cell_type": "code",
   "execution_count": 54,
   "metadata": {},
   "outputs": [
    {
     "data": {
      "text/html": [
       "<div>\n",
       "<style scoped>\n",
       "    .dataframe tbody tr th:only-of-type {\n",
       "        vertical-align: middle;\n",
       "    }\n",
       "\n",
       "    .dataframe tbody tr th {\n",
       "        vertical-align: top;\n",
       "    }\n",
       "\n",
       "    .dataframe thead th {\n",
       "        text-align: right;\n",
       "    }\n",
       "</style>\n",
       "<table border=\"1\" class=\"dataframe\">\n",
       "  <thead>\n",
       "    <tr style=\"text-align: right;\">\n",
       "      <th></th>\n",
       "      <th>tract_geoi</th>\n",
       "      <th>blkgp_geoi</th>\n",
       "      <th>County</th>\n",
       "      <th>County ID</th>\n",
       "      <th>Region</th>\n",
       "      <th>Economic Domain Score (by region)</th>\n",
       "      <th>Environmental Domain Score (by region)</th>\n",
       "      <th>Education Domain Score (by region)</th>\n",
       "      <th>Composite Index Score</th>\n",
       "      <th>reso_level</th>\n",
       "    </tr>\n",
       "  </thead>\n",
       "  <tbody>\n",
       "    <tr>\n",
       "      <th>7051</th>\n",
       "      <td>06003010000</td>\n",
       "      <td>060030100001</td>\n",
       "      <td>Alpine</td>\n",
       "      <td>6003.0</td>\n",
       "      <td>Rural Areas</td>\n",
       "      <td>NaN</td>\n",
       "      <td>NaN</td>\n",
       "      <td>NaN</td>\n",
       "      <td>NaN</td>\n",
       "      <td>NaN</td>\n",
       "    </tr>\n",
       "    <tr>\n",
       "      <th>7052</th>\n",
       "      <td>06003010000</td>\n",
       "      <td>060030100002</td>\n",
       "      <td>Alpine</td>\n",
       "      <td>6003.0</td>\n",
       "      <td>Rural Areas</td>\n",
       "      <td>NaN</td>\n",
       "      <td>NaN</td>\n",
       "      <td>NaN</td>\n",
       "      <td>NaN</td>\n",
       "      <td>NaN</td>\n",
       "    </tr>\n",
       "    <tr>\n",
       "      <th>7053</th>\n",
       "      <td>06005000101</td>\n",
       "      <td>060050001011</td>\n",
       "      <td>Amador</td>\n",
       "      <td>6005.0</td>\n",
       "      <td>Rural Areas</td>\n",
       "      <td>0.192</td>\n",
       "      <td>0.885</td>\n",
       "      <td>0.115</td>\n",
       "      <td>-0.163</td>\n",
       "      <td>Moderate Resource</td>\n",
       "    </tr>\n",
       "    <tr>\n",
       "      <th>7054</th>\n",
       "      <td>06005000101</td>\n",
       "      <td>060050001012</td>\n",
       "      <td>Amador</td>\n",
       "      <td>6005.0</td>\n",
       "      <td>Rural Areas</td>\n",
       "      <td>0.115</td>\n",
       "      <td>0.885</td>\n",
       "      <td>0.115</td>\n",
       "      <td>-0.170</td>\n",
       "      <td>Low Resource</td>\n",
       "    </tr>\n",
       "    <tr>\n",
       "      <th>7055</th>\n",
       "      <td>06005000101</td>\n",
       "      <td>060050001013</td>\n",
       "      <td>Amador</td>\n",
       "      <td>6005.0</td>\n",
       "      <td>Rural Areas</td>\n",
       "      <td>0.077</td>\n",
       "      <td>0.885</td>\n",
       "      <td>0.115</td>\n",
       "      <td>-0.271</td>\n",
       "      <td>Low Resource</td>\n",
       "    </tr>\n",
       "  </tbody>\n",
       "</table>\n",
       "</div>"
      ],
      "text/plain": [
       "       tract_geoi    blkgp_geoi  County  County ID       Region  \\\n",
       "7051  06003010000  060030100001  Alpine     6003.0  Rural Areas   \n",
       "7052  06003010000  060030100002  Alpine     6003.0  Rural Areas   \n",
       "7053  06005000101  060050001011  Amador     6005.0  Rural Areas   \n",
       "7054  06005000101  060050001012  Amador     6005.0  Rural Areas   \n",
       "7055  06005000101  060050001013  Amador     6005.0  Rural Areas   \n",
       "\n",
       "      Economic Domain Score (by region)  \\\n",
       "7051                                NaN   \n",
       "7052                                NaN   \n",
       "7053                              0.192   \n",
       "7054                              0.115   \n",
       "7055                              0.077   \n",
       "\n",
       "      Environmental Domain Score (by region)  \\\n",
       "7051                                     NaN   \n",
       "7052                                     NaN   \n",
       "7053                                   0.885   \n",
       "7054                                   0.885   \n",
       "7055                                   0.885   \n",
       "\n",
       "      Education Domain Score (by region)  Composite Index Score  \\\n",
       "7051                                 NaN                    NaN   \n",
       "7052                                 NaN                    NaN   \n",
       "7053                               0.115                 -0.163   \n",
       "7054                               0.115                 -0.170   \n",
       "7055                               0.115                 -0.271   \n",
       "\n",
       "             reso_level  \n",
       "7051                NaN  \n",
       "7052                NaN  \n",
       "7053  Moderate Resource  \n",
       "7054       Low Resource  \n",
       "7055       Low Resource  "
      ]
     },
     "execution_count": 54,
     "metadata": {},
     "output_type": "execute_result"
    }
   ],
   "source": [
    "ra_blkgp.head(5)"
   ]
  },
  {
   "cell_type": "code",
   "execution_count": 57,
   "metadata": {},
   "outputs": [],
   "source": [
    "#Join to parcels\n",
    "ra_parcel_blkgp = pd.merge(parcels[['joinid','blkgp_geoi']],\n",
    "                          ra_blkgp[['blkgp_geoi','reso_level']],\n",
    "                          on='blkgp_geoi',\n",
    "                          how='inner')"
   ]
  },
  {
   "cell_type": "code",
   "execution_count": 58,
   "metadata": {},
   "outputs": [
    {
     "name": "stdout",
     "output_type": "stream",
     "text": [
      "<class 'pandas.core.frame.DataFrame'>\n",
      "Int64Index: 158290 entries, 0 to 158289\n",
      "Data columns (total 3 columns):\n",
      " #   Column      Non-Null Count   Dtype \n",
      "---  ------      --------------   ----- \n",
      " 0   joinid      158290 non-null  object\n",
      " 1   blkgp_geoi  158290 non-null  object\n",
      " 2   reso_level  156251 non-null  object\n",
      "dtypes: object(3)\n",
      "memory usage: 4.8+ MB\n"
     ]
    }
   ],
   "source": [
    "ra_parcel_blkgp.info()"
   ]
  },
  {
   "cell_type": "code",
   "execution_count": 60,
   "metadata": {},
   "outputs": [
    {
     "data": {
      "text/html": [
       "<div>\n",
       "<style scoped>\n",
       "    .dataframe tbody tr th:only-of-type {\n",
       "        vertical-align: middle;\n",
       "    }\n",
       "\n",
       "    .dataframe tbody tr th {\n",
       "        vertical-align: top;\n",
       "    }\n",
       "\n",
       "    .dataframe thead th {\n",
       "        text-align: right;\n",
       "    }\n",
       "</style>\n",
       "<table border=\"1\" class=\"dataframe\">\n",
       "  <thead>\n",
       "    <tr style=\"text-align: right;\">\n",
       "      <th></th>\n",
       "      <th>joinid</th>\n",
       "      <th>blkgp_geoi</th>\n",
       "      <th>reso_level</th>\n",
       "    </tr>\n",
       "  </thead>\n",
       "  <tbody>\n",
       "    <tr>\n",
       "      <th>0</th>\n",
       "      <td>SC257886</td>\n",
       "      <td>060855135001</td>\n",
       "      <td>Low Resource</td>\n",
       "    </tr>\n",
       "    <tr>\n",
       "      <th>1</th>\n",
       "      <td>SC258294</td>\n",
       "      <td>060855135001</td>\n",
       "      <td>Low Resource</td>\n",
       "    </tr>\n",
       "    <tr>\n",
       "      <th>2</th>\n",
       "      <td>SC259092</td>\n",
       "      <td>060855135001</td>\n",
       "      <td>Low Resource</td>\n",
       "    </tr>\n",
       "    <tr>\n",
       "      <th>3</th>\n",
       "      <td>SC259228</td>\n",
       "      <td>060855135001</td>\n",
       "      <td>Low Resource</td>\n",
       "    </tr>\n",
       "    <tr>\n",
       "      <th>4</th>\n",
       "      <td>SC259712</td>\n",
       "      <td>060855135001</td>\n",
       "      <td>Low Resource</td>\n",
       "    </tr>\n",
       "  </tbody>\n",
       "</table>\n",
       "</div>"
      ],
      "text/plain": [
       "     joinid    blkgp_geoi    reso_level\n",
       "0  SC257886  060855135001  Low Resource\n",
       "1  SC258294  060855135001  Low Resource\n",
       "2  SC259092  060855135001  Low Resource\n",
       "3  SC259228  060855135001  Low Resource\n",
       "4  SC259712  060855135001  Low Resource"
      ]
     },
     "execution_count": 60,
     "metadata": {},
     "output_type": "execute_result"
    }
   ],
   "source": [
    "ra_parcel_blkgp.head(5)"
   ]
  },
  {
   "cell_type": "code",
   "execution_count": 61,
   "metadata": {},
   "outputs": [],
   "source": [
    "ra_parcels_tracts_blkgp = ra_parcel_tracts.append(ra_parcel_blkgp)"
   ]
  },
  {
   "cell_type": "code",
   "execution_count": 63,
   "metadata": {},
   "outputs": [
    {
     "data": {
      "text/html": [
       "<div>\n",
       "<style scoped>\n",
       "    .dataframe tbody tr th:only-of-type {\n",
       "        vertical-align: middle;\n",
       "    }\n",
       "\n",
       "    .dataframe tbody tr th {\n",
       "        vertical-align: top;\n",
       "    }\n",
       "\n",
       "    .dataframe thead th {\n",
       "        text-align: right;\n",
       "    }\n",
       "</style>\n",
       "<table border=\"1\" class=\"dataframe\">\n",
       "  <thead>\n",
       "    <tr style=\"text-align: right;\">\n",
       "      <th></th>\n",
       "      <th>joinid</th>\n",
       "      <th>tract_geoi</th>\n",
       "      <th>reso_level</th>\n",
       "      <th>blkgp_geoi</th>\n",
       "    </tr>\n",
       "  </thead>\n",
       "  <tbody>\n",
       "    <tr>\n",
       "      <th>0</th>\n",
       "      <td>SC257788</td>\n",
       "      <td>06085503218</td>\n",
       "      <td>Low Resource</td>\n",
       "      <td>NaN</td>\n",
       "    </tr>\n",
       "    <tr>\n",
       "      <th>1</th>\n",
       "      <td>SC257815</td>\n",
       "      <td>06085503218</td>\n",
       "      <td>Low Resource</td>\n",
       "      <td>NaN</td>\n",
       "    </tr>\n",
       "    <tr>\n",
       "      <th>2</th>\n",
       "      <td>SC257919</td>\n",
       "      <td>06085503218</td>\n",
       "      <td>Low Resource</td>\n",
       "      <td>NaN</td>\n",
       "    </tr>\n",
       "    <tr>\n",
       "      <th>3</th>\n",
       "      <td>SC257960</td>\n",
       "      <td>06085503218</td>\n",
       "      <td>Low Resource</td>\n",
       "      <td>NaN</td>\n",
       "    </tr>\n",
       "    <tr>\n",
       "      <th>4</th>\n",
       "      <td>SC258065</td>\n",
       "      <td>06085503218</td>\n",
       "      <td>Low Resource</td>\n",
       "      <td>NaN</td>\n",
       "    </tr>\n",
       "    <tr>\n",
       "      <th>5</th>\n",
       "      <td>SC260847</td>\n",
       "      <td>06085503218</td>\n",
       "      <td>Low Resource</td>\n",
       "      <td>NaN</td>\n",
       "    </tr>\n",
       "    <tr>\n",
       "      <th>6</th>\n",
       "      <td>SC260970</td>\n",
       "      <td>06085503218</td>\n",
       "      <td>Low Resource</td>\n",
       "      <td>NaN</td>\n",
       "    </tr>\n",
       "    <tr>\n",
       "      <th>7</th>\n",
       "      <td>SC262229</td>\n",
       "      <td>06085503218</td>\n",
       "      <td>Low Resource</td>\n",
       "      <td>NaN</td>\n",
       "    </tr>\n",
       "    <tr>\n",
       "      <th>8</th>\n",
       "      <td>SC262448</td>\n",
       "      <td>06085503218</td>\n",
       "      <td>Low Resource</td>\n",
       "      <td>NaN</td>\n",
       "    </tr>\n",
       "    <tr>\n",
       "      <th>9</th>\n",
       "      <td>SC263710</td>\n",
       "      <td>06085503218</td>\n",
       "      <td>Low Resource</td>\n",
       "      <td>NaN</td>\n",
       "    </tr>\n",
       "  </tbody>\n",
       "</table>\n",
       "</div>"
      ],
      "text/plain": [
       "     joinid   tract_geoi    reso_level blkgp_geoi\n",
       "0  SC257788  06085503218  Low Resource        NaN\n",
       "1  SC257815  06085503218  Low Resource        NaN\n",
       "2  SC257919  06085503218  Low Resource        NaN\n",
       "3  SC257960  06085503218  Low Resource        NaN\n",
       "4  SC258065  06085503218  Low Resource        NaN\n",
       "5  SC260847  06085503218  Low Resource        NaN\n",
       "6  SC260970  06085503218  Low Resource        NaN\n",
       "7  SC262229  06085503218  Low Resource        NaN\n",
       "8  SC262448  06085503218  Low Resource        NaN\n",
       "9  SC263710  06085503218  Low Resource        NaN"
      ]
     },
     "execution_count": 63,
     "metadata": {},
     "output_type": "execute_result"
    }
   ],
   "source": [
    "ra_parcels_tracts_blkgp.head(10)"
   ]
  },
  {
   "cell_type": "code",
   "execution_count": 64,
   "metadata": {},
   "outputs": [
    {
     "name": "stdout",
     "output_type": "stream",
     "text": [
      "<class 'pandas.core.frame.DataFrame'>\n",
      "Int64Index: 2140518 entries, 0 to 158289\n",
      "Data columns (total 4 columns):\n",
      " #   Column      Dtype \n",
      "---  ------      ----- \n",
      " 0   joinid      object\n",
      " 1   tract_geoi  object\n",
      " 2   reso_level  object\n",
      " 3   blkgp_geoi  object\n",
      "dtypes: object(4)\n",
      "memory usage: 81.7+ MB\n"
     ]
    }
   ],
   "source": [
    "ra_parcels_tracts_blkgp.info()"
   ]
  },
  {
   "cell_type": "code",
   "execution_count": 65,
   "metadata": {},
   "outputs": [
    {
     "data": {
      "text/html": [
       "<div>\n",
       "<style scoped>\n",
       "    .dataframe tbody tr th:only-of-type {\n",
       "        vertical-align: middle;\n",
       "    }\n",
       "\n",
       "    .dataframe tbody tr th {\n",
       "        vertical-align: top;\n",
       "    }\n",
       "\n",
       "    .dataframe thead th {\n",
       "        text-align: right;\n",
       "    }\n",
       "</style>\n",
       "<table border=\"1\" class=\"dataframe\">\n",
       "  <thead>\n",
       "    <tr style=\"text-align: right;\">\n",
       "      <th></th>\n",
       "      <th>joinid</th>\n",
       "      <th>tract_geoi</th>\n",
       "      <th>reso_level</th>\n",
       "      <th>blkgp_geoi</th>\n",
       "    </tr>\n",
       "  </thead>\n",
       "  <tbody>\n",
       "    <tr>\n",
       "      <th>0</th>\n",
       "      <td>SC257886</td>\n",
       "      <td>NaN</td>\n",
       "      <td>Low Resource</td>\n",
       "      <td>060855135001</td>\n",
       "    </tr>\n",
       "    <tr>\n",
       "      <th>1</th>\n",
       "      <td>SC258294</td>\n",
       "      <td>NaN</td>\n",
       "      <td>Low Resource</td>\n",
       "      <td>060855135001</td>\n",
       "    </tr>\n",
       "    <tr>\n",
       "      <th>2</th>\n",
       "      <td>SC259092</td>\n",
       "      <td>NaN</td>\n",
       "      <td>Low Resource</td>\n",
       "      <td>060855135001</td>\n",
       "    </tr>\n",
       "    <tr>\n",
       "      <th>3</th>\n",
       "      <td>SC259228</td>\n",
       "      <td>NaN</td>\n",
       "      <td>Low Resource</td>\n",
       "      <td>060855135001</td>\n",
       "    </tr>\n",
       "    <tr>\n",
       "      <th>4</th>\n",
       "      <td>SC259712</td>\n",
       "      <td>NaN</td>\n",
       "      <td>Low Resource</td>\n",
       "      <td>060855135001</td>\n",
       "    </tr>\n",
       "    <tr>\n",
       "      <th>...</th>\n",
       "      <td>...</td>\n",
       "      <td>...</td>\n",
       "      <td>...</td>\n",
       "      <td>...</td>\n",
       "    </tr>\n",
       "    <tr>\n",
       "      <th>158285</th>\n",
       "      <td>SN173115</td>\n",
       "      <td>NaN</td>\n",
       "      <td>Moderate Resource</td>\n",
       "      <td>060971538093</td>\n",
       "    </tr>\n",
       "    <tr>\n",
       "      <th>158286</th>\n",
       "      <td>SN173116</td>\n",
       "      <td>NaN</td>\n",
       "      <td>Moderate Resource</td>\n",
       "      <td>060971538093</td>\n",
       "    </tr>\n",
       "    <tr>\n",
       "      <th>158287</th>\n",
       "      <td>SN173117</td>\n",
       "      <td>NaN</td>\n",
       "      <td>Moderate Resource</td>\n",
       "      <td>060971538093</td>\n",
       "    </tr>\n",
       "    <tr>\n",
       "      <th>158288</th>\n",
       "      <td>SN173180</td>\n",
       "      <td>NaN</td>\n",
       "      <td>Moderate Resource</td>\n",
       "      <td>060971538093</td>\n",
       "    </tr>\n",
       "    <tr>\n",
       "      <th>158289</th>\n",
       "      <td>SN173184</td>\n",
       "      <td>NaN</td>\n",
       "      <td>Moderate Resource</td>\n",
       "      <td>060971538093</td>\n",
       "    </tr>\n",
       "  </tbody>\n",
       "</table>\n",
       "<p>158290 rows × 4 columns</p>\n",
       "</div>"
      ],
      "text/plain": [
       "          joinid tract_geoi         reso_level    blkgp_geoi\n",
       "0       SC257886        NaN       Low Resource  060855135001\n",
       "1       SC258294        NaN       Low Resource  060855135001\n",
       "2       SC259092        NaN       Low Resource  060855135001\n",
       "3       SC259228        NaN       Low Resource  060855135001\n",
       "4       SC259712        NaN       Low Resource  060855135001\n",
       "...          ...        ...                ...           ...\n",
       "158285  SN173115        NaN  Moderate Resource  060971538093\n",
       "158286  SN173116        NaN  Moderate Resource  060971538093\n",
       "158287  SN173117        NaN  Moderate Resource  060971538093\n",
       "158288  SN173180        NaN  Moderate Resource  060971538093\n",
       "158289  SN173184        NaN  Moderate Resource  060971538093\n",
       "\n",
       "[158290 rows x 4 columns]"
      ]
     },
     "execution_count": 65,
     "metadata": {},
     "output_type": "execute_result"
    }
   ],
   "source": [
    "ra_parcels_tracts_blkgp[ra_parcels_tracts_blkgp['blkgp_geoi'].notnull()]"
   ]
  },
  {
   "cell_type": "code",
   "execution_count": 66,
   "metadata": {},
   "outputs": [
    {
     "name": "stdout",
     "output_type": "stream",
     "text": [
      "upserting data to Socrata in 22 chunks of 100000 rows each\n",
      "upserted chunk 0\n",
      "upserted chunk 1\n",
      "upserted chunk 2\n",
      "upserted chunk 3\n",
      "upserted chunk 4\n",
      "upserted chunk 5\n",
      "upserted chunk 6\n",
      "upserted chunk 7\n",
      "upserted chunk 8\n",
      "upserted chunk 9\n",
      "upserted chunk 10\n",
      "upserted chunk 11\n",
      "upserted chunk 12\n",
      "upserted chunk 13\n",
      "upserted chunk 14\n",
      "upserted chunk 15\n",
      "upserted chunk 16\n",
      "upserted chunk 17\n",
      "upserted chunk 18\n",
      "upserted chunk 19\n",
      "upserted chunk 20\n",
      "upserted chunk 21\n",
      "data upserted to ce94-ebgq\n",
      "took 9.0543 minutes\n"
     ]
    }
   ],
   "source": [
    "#Upsert to socrata\n",
    "upsert_df_socrata(ra_parcels_tracts_blkgp[['joinid','reso_level']],housing_site_db_id,chunksize=100000)"
   ]
  },
  {
   "cell_type": "code",
   "execution_count": null,
   "metadata": {},
   "outputs": [],
   "source": [
    "# #Test process on subset of parcels\n",
    "# resource_areas_nad83_sf = resource_areas_nad83[resource_areas_nad83['county'] == 'San Francisco']\n",
    "\n",
    "# resource_areas_nad83_sf.head(5)\n",
    "\n",
    "# parcels_resource_area_overlay_sf = gp.overlay(parcels_nad83_gdf,\n",
    "#                                               resource_areas_nad83_sf[['finalcat','geometry']],\n",
    "#                                               how='intersection')\n",
    "\n",
    "# #Calculate overlay area\n",
    "# parcels_resource_area_overlay_sf['overlay_area'] = parcels_resource_area_overlay_sf['geometry'].area\n",
    "\n",
    "# #Calculate percentate overlay\n",
    "# parcels_resource_area_overlay_sf['pct_overlay'] = (parcels_resource_area_overlay_sf['overlay_area'] /\n",
    "#                                                   parcels_resource_area_overlay_sf['parcel_area'])\n",
    "# #Get info \n",
    "# #(149828 rows)\n",
    "# parcels_resource_area_overlay_sf.info()\n",
    "\n",
    "# parcels_resource_area_overlay_sf[parcels_resource_area_overlay_sf['pct_overlay'] < 1]\n",
    "\n",
    "# #Select parcels with the largest area within resource areas\n",
    "# parcels_resource_area_overlay_largest_sf = (parcels_resource_area_overlay_sf\n",
    "#                                             .iloc[parcels_resource_area_overlay_sf\n",
    "#                                                   .groupby(['county_apn_id'])['pct_overlay']\n",
    "#                                                   .idxmax()])\n",
    "\n",
    "# #Check for duplicates\n",
    "# #(0,11)\n",
    "# parcels_resource_area_overlay_largest_sf[parcels_resource_area_overlay_largest_sf.duplicated(subset=['county_apn_id'])].shape\n",
    "\n",
    "# #Get info again\n",
    "# #(149657 rows)\n",
    "# #Loss of rows \n",
    "# parcels_resource_area_overlay_largest_sf.info()"
   ]
  },
  {
   "cell_type": "markdown",
   "metadata": {},
   "source": [
    "### Process HUD Fair Market Rents dataset"
   ]
  },
  {
   "cell_type": "code",
   "execution_count": 71,
   "metadata": {},
   "outputs": [
    {
     "data": {
      "text/plain": [
       "'../../../Box/DataViz Projects/Data Analysis and Visualization/Housing Element Site Mapping and Pre-screening/data/'"
      ]
     },
     "execution_count": 71,
     "metadata": {},
     "output_type": "execute_result"
    }
   ],
   "source": [
    "data_dir"
   ]
  },
  {
   "cell_type": "code",
   "execution_count": 72,
   "metadata": {},
   "outputs": [
    {
     "name": "stdout",
     "output_type": "stream",
     "text": [
      "\u001b[34mIntermediate Data\u001b[m\u001b[m\r\n",
      "Potential_data_sources.xlsx\r\n",
      "\u001b[34msite_selection_prescreening_database.gdb\u001b[m\u001b[m\r\n",
      "\u001b[34mtabular\u001b[m\u001b[m\r\n"
     ]
    }
   ],
   "source": [
    "!ls '../../../Box/DataViz Projects/Data Analysis and Visualization/Housing Element Site Mapping and Pre-screening/data/'"
   ]
  },
  {
   "cell_type": "code",
   "execution_count": 73,
   "metadata": {},
   "outputs": [
    {
     "data": {
      "text/plain": [
       "['COCs_ACS2014_2018',\n",
       " 'priority_development_areas_current',\n",
       " 'US_Treasury_Opportunity_Zones_Bay_Area',\n",
       " 'oehha_calenviroscreen3_bay_area',\n",
       " 'u_richmond_mapping_inequality_redlining_07_2020',\n",
       " 'hud_fair_market_rents_bay_area_7_28_20',\n",
       " 'ca_healthy_places_index_bay_area_04_04_2018',\n",
       " 'ctcac_hcd_resource_opportunity_areas_2020']"
      ]
     },
     "execution_count": 73,
     "metadata": {},
     "output_type": "execute_result"
    }
   ],
   "source": [
    "fiona.listlayers(os.path.join(data_dir,'site_selection_prescreening_database.gdb'))"
   ]
  },
  {
   "cell_type": "code",
   "execution_count": 74,
   "metadata": {},
   "outputs": [],
   "source": [
    "fmr = gp.read_file(os.path.join(data_dir,'site_selection_prescreening_database.gdb'),\n",
    "                   driver='FileGDB',\n",
    "                   layer='hud_fair_market_rents_bay_area_7_28_20')"
   ]
  },
  {
   "cell_type": "code",
   "execution_count": 75,
   "metadata": {},
   "outputs": [
    {
     "data": {
      "text/html": [
       "<div>\n",
       "<style scoped>\n",
       "    .dataframe tbody tr th:only-of-type {\n",
       "        vertical-align: middle;\n",
       "    }\n",
       "\n",
       "    .dataframe tbody tr th {\n",
       "        vertical-align: top;\n",
       "    }\n",
       "\n",
       "    .dataframe thead th {\n",
       "        text-align: right;\n",
       "    }\n",
       "</style>\n",
       "<table border=\"1\" class=\"dataframe\">\n",
       "  <thead>\n",
       "    <tr style=\"text-align: right;\">\n",
       "      <th></th>\n",
       "      <th>FMR_0BDR</th>\n",
       "      <th>FMR_1BDR</th>\n",
       "      <th>FMR_2BDR</th>\n",
       "      <th>FMR_3BDR</th>\n",
       "      <th>FMR_4BDR</th>\n",
       "      <th>FMR_AREANAME</th>\n",
       "      <th>FMR_CODE</th>\n",
       "      <th>FMR_4PLUSBDR</th>\n",
       "      <th>Shape__Area</th>\n",
       "      <th>Shape__Length</th>\n",
       "      <th>Shape_Length</th>\n",
       "      <th>Shape_Area</th>\n",
       "      <th>geometry</th>\n",
       "    </tr>\n",
       "  </thead>\n",
       "  <tbody>\n",
       "    <tr>\n",
       "      <th>0</th>\n",
       "      <td>1095.0</td>\n",
       "      <td>1289.0</td>\n",
       "      <td>1705.0</td>\n",
       "      <td>2465.0</td>\n",
       "      <td>2685.0</td>\n",
       "      <td>Napa, CA MSA</td>\n",
       "      <td>METRO34900M34900</td>\n",
       "      <td>2685.0</td>\n",
       "      <td>3.340480e+09</td>\n",
       "      <td>349734.279550</td>\n",
       "      <td>2.788192</td>\n",
       "      <td>0.210944</td>\n",
       "      <td>MULTIPOLYGON (((-122.35430 38.83715, -122.3499...</td>\n",
       "    </tr>\n",
       "    <tr>\n",
       "      <th>1</th>\n",
       "      <td>983.0</td>\n",
       "      <td>1184.0</td>\n",
       "      <td>1443.0</td>\n",
       "      <td>2086.0</td>\n",
       "      <td>2531.0</td>\n",
       "      <td>Vallejo-Fairfield, CA MSA</td>\n",
       "      <td>METRO46700M46700</td>\n",
       "      <td>2531.0</td>\n",
       "      <td>3.744063e+09</td>\n",
       "      <td>337353.781359</td>\n",
       "      <td>2.756668</td>\n",
       "      <td>0.237205</td>\n",
       "      <td>MULTIPOLYGON (((-121.88139 38.53820, -121.8798...</td>\n",
       "    </tr>\n",
       "    <tr>\n",
       "      <th>2</th>\n",
       "      <td>1397.0</td>\n",
       "      <td>1693.0</td>\n",
       "      <td>2109.0</td>\n",
       "      <td>2902.0</td>\n",
       "      <td>3558.0</td>\n",
       "      <td>Oakland-Fremont, CA HUD Metro FMR Area</td>\n",
       "      <td>METRO41860MM5775</td>\n",
       "      <td>3558.0</td>\n",
       "      <td>6.241888e+09</td>\n",
       "      <td>621020.566568</td>\n",
       "      <td>5.063336</td>\n",
       "      <td>0.398083</td>\n",
       "      <td>MULTIPOLYGON (((-121.58225 38.09489, -121.5812...</td>\n",
       "    </tr>\n",
       "    <tr>\n",
       "      <th>3</th>\n",
       "      <td>1822.0</td>\n",
       "      <td>2255.0</td>\n",
       "      <td>2809.0</td>\n",
       "      <td>3663.0</td>\n",
       "      <td>3912.0</td>\n",
       "      <td>San Francisco, CA HUD Metro FMR Area</td>\n",
       "      <td>METRO41860MM7360</td>\n",
       "      <td>3912.0</td>\n",
       "      <td>4.275324e+09</td>\n",
       "      <td>955407.207799</td>\n",
       "      <td>7.646650</td>\n",
       "      <td>0.272706</td>\n",
       "      <td>MULTIPOLYGON (((-122.90949 38.31439, -122.9081...</td>\n",
       "    </tr>\n",
       "    <tr>\n",
       "      <th>4</th>\n",
       "      <td>1865.0</td>\n",
       "      <td>2212.0</td>\n",
       "      <td>2712.0</td>\n",
       "      <td>3658.0</td>\n",
       "      <td>4198.0</td>\n",
       "      <td>San Jose-Sunnyvale-Santa Clara, CA HUD Metro F...</td>\n",
       "      <td>METRO41940M41940</td>\n",
       "      <td>4198.0</td>\n",
       "      <td>5.314492e+09</td>\n",
       "      <td>470583.392021</td>\n",
       "      <td>3.858972</td>\n",
       "      <td>0.341458</td>\n",
       "      <td>MULTIPOLYGON (((-121.86339 37.48462, -121.8007...</td>\n",
       "    </tr>\n",
       "    <tr>\n",
       "      <th>5</th>\n",
       "      <td>1254.0</td>\n",
       "      <td>1447.0</td>\n",
       "      <td>1887.0</td>\n",
       "      <td>2728.0</td>\n",
       "      <td>3298.0</td>\n",
       "      <td>Santa Rosa, CA MSA</td>\n",
       "      <td>METRO42220M42220</td>\n",
       "      <td>3298.0</td>\n",
       "      <td>6.739300e+09</td>\n",
       "      <td>497301.082655</td>\n",
       "      <td>4.051204</td>\n",
       "      <td>0.425442</td>\n",
       "      <td>MULTIPOLYGON (((-123.01878 38.85237, -123.0069...</td>\n",
       "    </tr>\n",
       "  </tbody>\n",
       "</table>\n",
       "</div>"
      ],
      "text/plain": [
       "   FMR_0BDR  FMR_1BDR  FMR_2BDR  FMR_3BDR  FMR_4BDR  \\\n",
       "0    1095.0    1289.0    1705.0    2465.0    2685.0   \n",
       "1     983.0    1184.0    1443.0    2086.0    2531.0   \n",
       "2    1397.0    1693.0    2109.0    2902.0    3558.0   \n",
       "3    1822.0    2255.0    2809.0    3663.0    3912.0   \n",
       "4    1865.0    2212.0    2712.0    3658.0    4198.0   \n",
       "5    1254.0    1447.0    1887.0    2728.0    3298.0   \n",
       "\n",
       "                                        FMR_AREANAME          FMR_CODE  \\\n",
       "0                                       Napa, CA MSA  METRO34900M34900   \n",
       "1                          Vallejo-Fairfield, CA MSA  METRO46700M46700   \n",
       "2             Oakland-Fremont, CA HUD Metro FMR Area  METRO41860MM5775   \n",
       "3               San Francisco, CA HUD Metro FMR Area  METRO41860MM7360   \n",
       "4  San Jose-Sunnyvale-Santa Clara, CA HUD Metro F...  METRO41940M41940   \n",
       "5                                 Santa Rosa, CA MSA  METRO42220M42220   \n",
       "\n",
       "   FMR_4PLUSBDR   Shape__Area  Shape__Length  Shape_Length  Shape_Area  \\\n",
       "0        2685.0  3.340480e+09  349734.279550      2.788192    0.210944   \n",
       "1        2531.0  3.744063e+09  337353.781359      2.756668    0.237205   \n",
       "2        3558.0  6.241888e+09  621020.566568      5.063336    0.398083   \n",
       "3        3912.0  4.275324e+09  955407.207799      7.646650    0.272706   \n",
       "4        4198.0  5.314492e+09  470583.392021      3.858972    0.341458   \n",
       "5        3298.0  6.739300e+09  497301.082655      4.051204    0.425442   \n",
       "\n",
       "                                            geometry  \n",
       "0  MULTIPOLYGON (((-122.35430 38.83715, -122.3499...  \n",
       "1  MULTIPOLYGON (((-121.88139 38.53820, -121.8798...  \n",
       "2  MULTIPOLYGON (((-121.58225 38.09489, -121.5812...  \n",
       "3  MULTIPOLYGON (((-122.90949 38.31439, -122.9081...  \n",
       "4  MULTIPOLYGON (((-121.86339 37.48462, -121.8007...  \n",
       "5  MULTIPOLYGON (((-123.01878 38.85237, -123.0069...  "
      ]
     },
     "execution_count": 75,
     "metadata": {},
     "output_type": "execute_result"
    }
   ],
   "source": [
    "fmr.head(10)"
   ]
  },
  {
   "cell_type": "code",
   "execution_count": 76,
   "metadata": {},
   "outputs": [],
   "source": [
    "fmr.columns = map(str.lower, fmr.columns)"
   ]
  },
  {
   "cell_type": "code",
   "execution_count": 77,
   "metadata": {},
   "outputs": [
    {
     "name": "stdout",
     "output_type": "stream",
     "text": [
      "<class 'geopandas.geodataframe.GeoDataFrame'>\n",
      "RangeIndex: 6 entries, 0 to 5\n",
      "Data columns (total 13 columns):\n",
      " #   Column         Non-Null Count  Dtype   \n",
      "---  ------         --------------  -----   \n",
      " 0   fmr_0bdr       6 non-null      float64 \n",
      " 1   fmr_1bdr       6 non-null      float64 \n",
      " 2   fmr_2bdr       6 non-null      float64 \n",
      " 3   fmr_3bdr       6 non-null      float64 \n",
      " 4   fmr_4bdr       6 non-null      float64 \n",
      " 5   fmr_areaname   6 non-null      object  \n",
      " 6   fmr_code       6 non-null      object  \n",
      " 7   fmr_4plusbdr   6 non-null      float64 \n",
      " 8   shape__area    6 non-null      float64 \n",
      " 9   shape__length  6 non-null      float64 \n",
      " 10  shape_length   6 non-null      float64 \n",
      " 11  shape_area     6 non-null      float64 \n",
      " 12  geometry       6 non-null      geometry\n",
      "dtypes: float64(10), geometry(1), object(2)\n",
      "memory usage: 752.0+ bytes\n"
     ]
    }
   ],
   "source": [
    "fmr.info()"
   ]
  },
  {
   "cell_type": "code",
   "execution_count": 78,
   "metadata": {},
   "outputs": [],
   "source": [
    "fmr.rename(columns={'fmr_4plusbdr':'fmr_4plbdr'},inplace=True)"
   ]
  },
  {
   "cell_type": "code",
   "execution_count": 79,
   "metadata": {},
   "outputs": [
    {
     "name": "stdout",
     "output_type": "stream",
     "text": [
      "<class 'geopandas.geodataframe.GeoDataFrame'>\n",
      "RangeIndex: 6 entries, 0 to 5\n",
      "Data columns (total 13 columns):\n",
      " #   Column         Non-Null Count  Dtype   \n",
      "---  ------         --------------  -----   \n",
      " 0   fmr_0bdr       6 non-null      float64 \n",
      " 1   fmr_1bdr       6 non-null      float64 \n",
      " 2   fmr_2bdr       6 non-null      float64 \n",
      " 3   fmr_3bdr       6 non-null      float64 \n",
      " 4   fmr_4bdr       6 non-null      float64 \n",
      " 5   fmr_areaname   6 non-null      object  \n",
      " 6   fmr_code       6 non-null      object  \n",
      " 7   fmr_4plbdr     6 non-null      float64 \n",
      " 8   shape__area    6 non-null      float64 \n",
      " 9   shape__length  6 non-null      float64 \n",
      " 10  shape_length   6 non-null      float64 \n",
      " 11  shape_area     6 non-null      float64 \n",
      " 12  geometry       6 non-null      geometry\n",
      "dtypes: float64(10), geometry(1), object(2)\n",
      "memory usage: 752.0+ bytes\n"
     ]
    }
   ],
   "source": [
    "fmr.info()"
   ]
  },
  {
   "cell_type": "code",
   "execution_count": 82,
   "metadata": {},
   "outputs": [
    {
     "data": {
      "text/plain": [
       "{'init': 'epsg:4326'}"
      ]
     },
     "execution_count": 82,
     "metadata": {},
     "output_type": "execute_result"
    }
   ],
   "source": [
    "fmr.crs"
   ]
  },
  {
   "cell_type": "code",
   "execution_count": 96,
   "metadata": {},
   "outputs": [],
   "source": [
    "parcels_centroid = gp.GeoDataFrame(parcels,\n",
    "                                  geometry=gp.points_from_xy(parcels.x_centroid,parcels.y_centroid),\n",
    "                                   crs={'init': 'epsg:4326'})"
   ]
  },
  {
   "cell_type": "code",
   "execution_count": 98,
   "metadata": {},
   "outputs": [],
   "source": [
    "fmr_parcels_centroid = gp.sjoin(parcels_centroid,\n",
    "                               fmr,\n",
    "                               how='left',\n",
    "                               op='intersects')"
   ]
  },
  {
   "cell_type": "code",
   "execution_count": 99,
   "metadata": {},
   "outputs": [
    {
     "data": {
      "text/html": [
       "<div>\n",
       "<style scoped>\n",
       "    .dataframe tbody tr th:only-of-type {\n",
       "        vertical-align: middle;\n",
       "    }\n",
       "\n",
       "    .dataframe tbody tr th {\n",
       "        vertical-align: top;\n",
       "    }\n",
       "\n",
       "    .dataframe thead th {\n",
       "        text-align: right;\n",
       "    }\n",
       "</style>\n",
       "<table border=\"1\" class=\"dataframe\">\n",
       "  <thead>\n",
       "    <tr style=\"text-align: right;\">\n",
       "      <th></th>\n",
       "      <th>joinid</th>\n",
       "      <th>fipco</th>\n",
       "      <th>jurisdict</th>\n",
       "      <th>apn_frm</th>\n",
       "      <th>acres</th>\n",
       "      <th>tract_geoi</th>\n",
       "      <th>blkgp_geoi</th>\n",
       "      <th>reso_level</th>\n",
       "      <th>x_centroid</th>\n",
       "      <th>y_centroid</th>\n",
       "      <th>...</th>\n",
       "      <th>fmr_2bdr</th>\n",
       "      <th>fmr_3bdr</th>\n",
       "      <th>fmr_4bdr</th>\n",
       "      <th>fmr_areaname</th>\n",
       "      <th>fmr_code</th>\n",
       "      <th>fmr_4plbdr</th>\n",
       "      <th>shape__area</th>\n",
       "      <th>shape__length</th>\n",
       "      <th>shape_length</th>\n",
       "      <th>shape_area</th>\n",
       "    </tr>\n",
       "  </thead>\n",
       "  <tbody>\n",
       "    <tr>\n",
       "      <th>0</th>\n",
       "      <td>SC257788</td>\n",
       "      <td>CA085</td>\n",
       "      <td>San Jose</td>\n",
       "      <td>None</td>\n",
       "      <td>0.118218005006097</td>\n",
       "      <td>06085503218</td>\n",
       "      <td>060855032182</td>\n",
       "      <td>None</td>\n",
       "      <td>-121.825062</td>\n",
       "      <td>37.278626</td>\n",
       "      <td>...</td>\n",
       "      <td>2712.0</td>\n",
       "      <td>3658.0</td>\n",
       "      <td>4198.0</td>\n",
       "      <td>San Jose-Sunnyvale-Santa Clara, CA HUD Metro F...</td>\n",
       "      <td>METRO41940M41940</td>\n",
       "      <td>4198.0</td>\n",
       "      <td>5.314492e+09</td>\n",
       "      <td>470583.392021</td>\n",
       "      <td>3.858972</td>\n",
       "      <td>0.341458</td>\n",
       "    </tr>\n",
       "    <tr>\n",
       "      <th>1</th>\n",
       "      <td>SC257789</td>\n",
       "      <td>CA085</td>\n",
       "      <td>San Jose</td>\n",
       "      <td>None</td>\n",
       "      <td>0.148489035363832</td>\n",
       "      <td>06085512005</td>\n",
       "      <td>060855120051</td>\n",
       "      <td>None</td>\n",
       "      <td>-121.873356</td>\n",
       "      <td>37.264377</td>\n",
       "      <td>...</td>\n",
       "      <td>2712.0</td>\n",
       "      <td>3658.0</td>\n",
       "      <td>4198.0</td>\n",
       "      <td>San Jose-Sunnyvale-Santa Clara, CA HUD Metro F...</td>\n",
       "      <td>METRO41940M41940</td>\n",
       "      <td>4198.0</td>\n",
       "      <td>5.314492e+09</td>\n",
       "      <td>470583.392021</td>\n",
       "      <td>3.858972</td>\n",
       "      <td>0.341458</td>\n",
       "    </tr>\n",
       "    <tr>\n",
       "      <th>2</th>\n",
       "      <td>SC257790</td>\n",
       "      <td>CA085</td>\n",
       "      <td>San Jose</td>\n",
       "      <td>None</td>\n",
       "      <td>0.125657625517105</td>\n",
       "      <td>06085502702</td>\n",
       "      <td>060855027024</td>\n",
       "      <td>None</td>\n",
       "      <td>-121.940662</td>\n",
       "      <td>37.255301</td>\n",
       "      <td>...</td>\n",
       "      <td>2712.0</td>\n",
       "      <td>3658.0</td>\n",
       "      <td>4198.0</td>\n",
       "      <td>San Jose-Sunnyvale-Santa Clara, CA HUD Metro F...</td>\n",
       "      <td>METRO41940M41940</td>\n",
       "      <td>4198.0</td>\n",
       "      <td>5.314492e+09</td>\n",
       "      <td>470583.392021</td>\n",
       "      <td>3.858972</td>\n",
       "      <td>0.341458</td>\n",
       "    </tr>\n",
       "    <tr>\n",
       "      <th>3</th>\n",
       "      <td>SC257791</td>\n",
       "      <td>CA085</td>\n",
       "      <td>Los Gatos</td>\n",
       "      <td>None</td>\n",
       "      <td>0.294159103918568</td>\n",
       "      <td>06085507205</td>\n",
       "      <td>060855072054</td>\n",
       "      <td>None</td>\n",
       "      <td>-121.989760</td>\n",
       "      <td>37.253136</td>\n",
       "      <td>...</td>\n",
       "      <td>2712.0</td>\n",
       "      <td>3658.0</td>\n",
       "      <td>4198.0</td>\n",
       "      <td>San Jose-Sunnyvale-Santa Clara, CA HUD Metro F...</td>\n",
       "      <td>METRO41940M41940</td>\n",
       "      <td>4198.0</td>\n",
       "      <td>5.314492e+09</td>\n",
       "      <td>470583.392021</td>\n",
       "      <td>3.858972</td>\n",
       "      <td>0.341458</td>\n",
       "    </tr>\n",
       "    <tr>\n",
       "      <th>4</th>\n",
       "      <td>SC257792</td>\n",
       "      <td>CA085</td>\n",
       "      <td>San Jose</td>\n",
       "      <td>None</td>\n",
       "      <td>1.06964856345635</td>\n",
       "      <td>06085500100</td>\n",
       "      <td>060855001001</td>\n",
       "      <td>None</td>\n",
       "      <td>-121.894749</td>\n",
       "      <td>37.362045</td>\n",
       "      <td>...</td>\n",
       "      <td>2712.0</td>\n",
       "      <td>3658.0</td>\n",
       "      <td>4198.0</td>\n",
       "      <td>San Jose-Sunnyvale-Santa Clara, CA HUD Metro F...</td>\n",
       "      <td>METRO41940M41940</td>\n",
       "      <td>4198.0</td>\n",
       "      <td>5.314492e+09</td>\n",
       "      <td>470583.392021</td>\n",
       "      <td>3.858972</td>\n",
       "      <td>0.341458</td>\n",
       "    </tr>\n",
       "  </tbody>\n",
       "</table>\n",
       "<p>5 rows × 24 columns</p>\n",
       "</div>"
      ],
      "text/plain": [
       "     joinid  fipco  jurisdict apn_frm              acres   tract_geoi  \\\n",
       "0  SC257788  CA085   San Jose    None  0.118218005006097  06085503218   \n",
       "1  SC257789  CA085   San Jose    None  0.148489035363832  06085512005   \n",
       "2  SC257790  CA085   San Jose    None  0.125657625517105  06085502702   \n",
       "3  SC257791  CA085  Los Gatos    None  0.294159103918568  06085507205   \n",
       "4  SC257792  CA085   San Jose    None   1.06964856345635  06085500100   \n",
       "\n",
       "     blkgp_geoi reso_level  x_centroid  y_centroid  ... fmr_2bdr  fmr_3bdr  \\\n",
       "0  060855032182       None -121.825062   37.278626  ...   2712.0    3658.0   \n",
       "1  060855120051       None -121.873356   37.264377  ...   2712.0    3658.0   \n",
       "2  060855027024       None -121.940662   37.255301  ...   2712.0    3658.0   \n",
       "3  060855072054       None -121.989760   37.253136  ...   2712.0    3658.0   \n",
       "4  060855001001       None -121.894749   37.362045  ...   2712.0    3658.0   \n",
       "\n",
       "   fmr_4bdr                                       fmr_areaname  \\\n",
       "0    4198.0  San Jose-Sunnyvale-Santa Clara, CA HUD Metro F...   \n",
       "1    4198.0  San Jose-Sunnyvale-Santa Clara, CA HUD Metro F...   \n",
       "2    4198.0  San Jose-Sunnyvale-Santa Clara, CA HUD Metro F...   \n",
       "3    4198.0  San Jose-Sunnyvale-Santa Clara, CA HUD Metro F...   \n",
       "4    4198.0  San Jose-Sunnyvale-Santa Clara, CA HUD Metro F...   \n",
       "\n",
       "           fmr_code  fmr_4plbdr   shape__area  shape__length shape_length  \\\n",
       "0  METRO41940M41940      4198.0  5.314492e+09  470583.392021     3.858972   \n",
       "1  METRO41940M41940      4198.0  5.314492e+09  470583.392021     3.858972   \n",
       "2  METRO41940M41940      4198.0  5.314492e+09  470583.392021     3.858972   \n",
       "3  METRO41940M41940      4198.0  5.314492e+09  470583.392021     3.858972   \n",
       "4  METRO41940M41940      4198.0  5.314492e+09  470583.392021     3.858972   \n",
       "\n",
       "   shape_area  \n",
       "0    0.341458  \n",
       "1    0.341458  \n",
       "2    0.341458  \n",
       "3    0.341458  \n",
       "4    0.341458  \n",
       "\n",
       "[5 rows x 24 columns]"
      ]
     },
     "execution_count": 99,
     "metadata": {},
     "output_type": "execute_result"
    }
   ],
   "source": [
    "fmr_parcels_centroid.head(5)"
   ]
  },
  {
   "cell_type": "code",
   "execution_count": 100,
   "metadata": {},
   "outputs": [
    {
     "name": "stdout",
     "output_type": "stream",
     "text": [
      "<class 'geopandas.geodataframe.GeoDataFrame'>\n",
      "Int64Index: 2142255 entries, 0 to 2142254\n",
      "Data columns (total 24 columns):\n",
      " #   Column         Dtype   \n",
      "---  ------         -----   \n",
      " 0   joinid         object  \n",
      " 1   fipco          object  \n",
      " 2   jurisdict      object  \n",
      " 3   apn_frm        object  \n",
      " 4   acres          object  \n",
      " 5   tract_geoi     object  \n",
      " 6   blkgp_geoi     object  \n",
      " 7   reso_level     object  \n",
      " 8   x_centroid     float64 \n",
      " 9   y_centroid     float64 \n",
      " 10  geometry       geometry\n",
      " 11  index_right    float64 \n",
      " 12  fmr_0bdr       float64 \n",
      " 13  fmr_1bdr       float64 \n",
      " 14  fmr_2bdr       float64 \n",
      " 15  fmr_3bdr       float64 \n",
      " 16  fmr_4bdr       float64 \n",
      " 17  fmr_areaname   object  \n",
      " 18  fmr_code       object  \n",
      " 19  fmr_4plbdr     float64 \n",
      " 20  shape__area    float64 \n",
      " 21  shape__length  float64 \n",
      " 22  shape_length   float64 \n",
      " 23  shape_area     float64 \n",
      "dtypes: float64(13), geometry(1), object(10)\n",
      "memory usage: 408.6+ MB\n"
     ]
    }
   ],
   "source": [
    "fmr_parcels_centroid.info()"
   ]
  },
  {
   "cell_type": "code",
   "execution_count": 104,
   "metadata": {},
   "outputs": [
    {
     "data": {
      "image/png": "[encoded data removed]",
      "text/plain": [
       "<Figure size 720x720 with 1 Axes>"
      ]
     },
     "metadata": {
      "needs_background": "light"
     },
     "output_type": "display_data"
    }
   ],
   "source": [
    "fmr_parcels_centroid[fmr_parcels_centroid['fmr_code'].isnull()].plot(figsize=(10,10));"
   ]
  },
  {
   "cell_type": "code",
   "execution_count": 105,
   "metadata": {},
   "outputs": [],
   "source": [
    "#Subset not null values \n",
    "fmr_parcels_centroid_sub = fmr_parcels_centroid[fmr_parcels_centroid['fmr_code'].notnull()]"
   ]
  },
  {
   "cell_type": "code",
   "execution_count": 106,
   "metadata": {},
   "outputs": [
    {
     "data": {
      "text/plain": [
       "(2139678, 24)"
      ]
     },
     "execution_count": 106,
     "metadata": {},
     "output_type": "execute_result"
    }
   ],
   "source": [
    "fmr_parcels_centroid_sub.shape"
   ]
  },
  {
   "cell_type": "code",
   "execution_count": 107,
   "metadata": {},
   "outputs": [
    {
     "data": {
      "text/plain": [
       "Index(['joinid', 'fipco', 'jurisdict', 'apn_frm', 'acres', 'tract_geoi',\n",
       "       'blkgp_geoi', 'reso_level', 'x_centroid', 'y_centroid', 'geometry',\n",
       "       'index_right', 'fmr_0bdr', 'fmr_1bdr', 'fmr_2bdr', 'fmr_3bdr',\n",
       "       'fmr_4bdr', 'fmr_areaname', 'fmr_code', 'fmr_4plbdr', 'shape__area',\n",
       "       'shape__length', 'shape_length', 'shape_area'],\n",
       "      dtype='object')"
      ]
     },
     "execution_count": 107,
     "metadata": {},
     "output_type": "execute_result"
    }
   ],
   "source": [
    "fmr_parcels_centroid_sub.columns"
   ]
  },
  {
   "cell_type": "code",
   "execution_count": 108,
   "metadata": {},
   "outputs": [
    {
     "name": "stdout",
     "output_type": "stream",
     "text": [
      "upserting data to Socrata in 43 chunks of 50000 rows each\n",
      "upserted chunk 0\n",
      "upserted chunk 1\n",
      "upserted chunk 2\n",
      "upserted chunk 3\n",
      "upserted chunk 4\n",
      "upserted chunk 5\n",
      "upserted chunk 6\n",
      "upserted chunk 7\n",
      "upserted chunk 8\n",
      "upserted chunk 9\n",
      "upserted chunk 10\n",
      "upserted chunk 11\n",
      "upserted chunk 12\n",
      "upserted chunk 13\n",
      "upserted chunk 14\n",
      "upserted chunk 15\n",
      "upserted chunk 16\n",
      "upserted chunk 17\n",
      "upserted chunk 18\n",
      "upserted chunk 19\n",
      "upserted chunk 20\n",
      "upserted chunk 21\n",
      "upserted chunk 22\n",
      "upserted chunk 23\n",
      "upserted chunk 24\n",
      "upserted chunk 25\n",
      "upserted chunk 26\n",
      "upserted chunk 27\n",
      "upserted chunk 28\n",
      "upserted chunk 29\n",
      "upserted chunk 30\n",
      "upserted chunk 31\n",
      "upserted chunk 32\n",
      "upserted chunk 33\n",
      "upserted chunk 34\n",
      "upserted chunk 35\n",
      "upserted chunk 36\n",
      "upserted chunk 37\n",
      "upserted chunk 38\n",
      "upserted chunk 39\n",
      "upserted chunk 40\n",
      "upserted chunk 41\n",
      "upserted chunk 42\n",
      "data upserted to ce94-ebgq\n",
      "took 11.1532 minutes\n"
     ]
    }
   ],
   "source": [
    "#upsert to socrata\n",
    "sub_columns = ['joinid','fmr_0bdr', 'fmr_1bdr', 'fmr_2bdr', 'fmr_3bdr','fmr_4bdr','fmr_4plbdr']\n",
    "upsert_df_socrata(fmr_parcels_centroid_sub[sub_columns],housing_site_db_id,chunksize=50000)"
   ]
  },
  {
   "cell_type": "markdown",
   "metadata": {},
   "source": [
    "### Read in accessibility datasets\n",
    "\n",
    "#### MTC/ABAG Transit Rich Areas\n",
    "\n",
    "A Transit-Rich Area is defined as areas 1/2 mile of:\n",
    "- An existing, under construction, or fully funded rail station or ferry terminal\n",
    "- A rail station or ferry terminal included in the PBA 2050 Final Blueprint\n",
    "- A bus stop with headways of 15 minutes or less during the AM (6:00 - 10:00 AM) and PM (3:00 - 7:00 PM) peak periods in January 2020"
   ]
  },
  {
   "cell_type": "code",
   "execution_count": 4,
   "metadata": {},
   "outputs": [
    {
     "name": "stdout",
     "output_type": "stream",
     "text": [
      "pulling 2142255 rows as geojson\n"
     ]
    }
   ],
   "source": [
    "#Pull housing site selection parcels from Socrata\n",
    "parcels_geojson = pull_geojson_from_socrata(housing_site_db_id)"
   ]
  },
  {
   "cell_type": "code",
   "execution_count": 5,
   "metadata": {},
   "outputs": [],
   "source": [
    "# Convert to geojson to geodataframe\n",
    "parcel_columns = ['joinid',\n",
    "                  'fipco',\n",
    "                  'jurisdict',\n",
    "                  'apn_frm',\n",
    "                  'acres',\n",
    "                  'tract_geoi',\n",
    "                  'blkgp_geoi',\n",
    "                  'reso_level',\n",
    "                  'x_centroid',\n",
    "                  'y_centroid',\n",
    "                  'geometry']\n",
    "parcels = gp.GeoDataFrame.from_features(parcels_geojson['features'],\n",
    "                                        columns=parcel_columns,\n",
    "                                        crs={'init': 'epsg:4326'})"
   ]
  },
  {
   "cell_type": "code",
   "execution_count": null,
   "metadata": {},
   "outputs": [],
   "source": [
    "#MTC/ABAG Transit Rich Areas (2020)\n"
   ]
  },
  {
   "cell_type": "code",
   "execution_count": null,
   "metadata": {},
   "outputs": [],
   "source": [
    "# # Spatial Overlay Method to only select parcels with a majority of area within Major Transit Stops buffer area. \n",
    "# # Attempted both spatial join and overlay methods which resulted in the same number of parcels flagged. \n",
    "# # Spatial join method performed a join, then grouped parcel by apn. This process disregarded percentage area overlap,\n",
    "# # but was liberal in the sense that any parcel that intersected a stop buffer was counted. Spatial overlay method\n",
    "# # was similarly liberal. Parcels within multiple buffer overlays were filtered to only include parcels maximally within\n",
    "# # a set of stop buffers. The resulting dataset also included parcels that only intersected a single buffer overlay. \n",
    "# # These parcels were also included but could be filtered out using a percentage overlay threshold (eg parcel intersects\n",
    "# # stop buffer 50% or more)\n",
    "# #Area was calculated for parcels prior to this step. In following steps, area of intersect geom will be calculated, as well\n",
    "# # as a percentage overlay to choose parcels with maximal overlay in cases where there are multiple stop buffers \n",
    "# # intersecting with parcels. \n",
    "# parcels_major_st_overlay = gp.overlay(parcels_nad83_gdf,stops_nad83_gdf,how='intersection')\n",
    "\n",
    "# #Get info on gdf after overlay\n",
    "# parcels_major_st_overlay.info()\n",
    "\n",
    "# #Calculate area column. \n",
    "# parcels_major_st_overlay['overlay_area'] = parcels_major_st_overlay['geometry'].area\n",
    "\n",
    "# #Calculate percentage overlay area\n",
    "# parcels_major_st_overlay['pct_overlay'] = parcels_major_st_overlay['overlay_area'] / parcels_major_st_overlay['parcel_area']\n",
    "\n",
    "# #Inspect results\n",
    "# parcels_major_st_overlay.tail(10)\n",
    "\n",
    "# #Get info on parcel, stops overlay \n",
    "# parcels_major_st_overlay.info()\n",
    "\n",
    "# #Select parcels with largest area as a subset. As a result of overlaying parcels w/ multiple transit stop buffers,\n",
    "# #there will be duplicated apns. We are only interested in parcels that intersecting with stop buffers generally, not in the \n",
    "# #particular individual relationship between a parcel and a given stops, stop buffer. \n",
    "# #So here we are grouping by apn, and selecting parcels that have the largest area overlap with stop buffers to create\n",
    "# #a subset.\n",
    "# #parcels_major_st_overlay.groupby(['county_apn_id'],group_keys=False)['area'].nlargest(1)\n",
    "# parcels_major_st_overlay_largest = parcels_major_st_overlay.iloc[parcels_major_st_overlay.groupby(['county_apn_id'])['pct_overlay'].idxmax()]\n",
    "\n",
    "# #Get info on parcels after filtering for largest parcel - stops buffer overlay area parcels\n",
    "# parcels_major_st_overlay_largest.info()\n",
    "\n",
    "# #Review parcels with less than 50% overlap. Because some parcels only intersect with one stop buffer, the \n",
    "# #percent overlay may be negligible. May want to set a percent overlay threshold for these cases or just \n",
    "# #go with a more libral approach and keep any parcels that intersect, even narrowly, with stop buffers. \n",
    "# parcels_major_st_overlay_largest[parcels_major_st_overlay_largest['pct_overlay'] < .50].head(10)"
   ]
  },
  {
   "cell_type": "code",
   "execution_count": null,
   "metadata": {},
   "outputs": [],
   "source": [
    "#Spatial join to parcels using inner method - example of using this method vs. overlay method\n",
    "# - Any parcel intersecting with buffer should be flagged\n",
    "# - Only retain intersecting parcels; this dataset will be joined back to all parcels as final step later on\n",
    "# - Intent is to ensure we don't have to keep tract of so many columns, reduces file sizes, and reduces the burdon\n",
    "#   of worry about loss of base data as we will always have the 'master' copy"
   ]
  },
  {
   "cell_type": "code",
   "execution_count": null,
   "metadata": {},
   "outputs": [],
   "source": [
    "#Check that projections are the same\n",
    "print(parcels_nad83.crs)\n",
    "print(stops_nad83_gdf.crs)"
   ]
  },
  {
   "cell_type": "code",
   "execution_count": null,
   "metadata": {},
   "outputs": [],
   "source": [
    "#Spatially join the two gdfs\n",
    "parcels_major_st = gp.sjoin(parcels_nad83,stops_nad83_gdf,how='inner',op='intersects')"
   ]
  },
  {
   "cell_type": "code",
   "execution_count": null,
   "metadata": {},
   "outputs": [],
   "source": [
    "#Inspect spatial join output\n",
    "parcels_major_st.head(10)"
   ]
  },
  {
   "cell_type": "code",
   "execution_count": null,
   "metadata": {},
   "outputs": [],
   "source": [
    "#Check for duplicate rows after spatial join\n",
    "parcels_major_st_dup = parcels_major_st[parcels_major_st.duplicated(subset=['joinid'])]\n",
    "\n",
    "parcels_major_st_dup.shape"
   ]
  },
  {
   "cell_type": "code",
   "execution_count": null,
   "metadata": {},
   "outputs": [],
   "source": [
    "#drop duplicated records created during intersect process \n",
    "parcels_major_st.drop_duplicates(subset=['joinid'],\n",
    "                                    inplace=True)"
   ]
  },
  {
   "cell_type": "code",
   "execution_count": null,
   "metadata": {},
   "outputs": [],
   "source": [
    "parcels_major_st.shape"
   ]
  },
  {
   "cell_type": "code",
   "execution_count": null,
   "metadata": {},
   "outputs": [],
   "source": [
    "#Rename column\n",
    "parcels_major_st.rename(columns={'major_stop':'tpa'},inplace=True)"
   ]
  },
  {
   "cell_type": "code",
   "execution_count": null,
   "metadata": {},
   "outputs": [],
   "source": [
    "#Graph major stop parcels by county\n",
    "parcels_major_ct = parcels_major_st.groupby(['fipco']).agg('size')\n",
    "\n",
    "#plot\n",
    "parcels_major_ct.plot(kind='bar',figsize=(10,10))\n",
    "\n",
    "#title and labels\n",
    "plt.title('Count of Parcels Near Major Transit Stops')\n",
    "plt.xlabel('County')\n",
    "plt.ylabel('Count')\n",
    "\n",
    "plt.xticks( \n",
    "    [0,1,2,3,4,5,6,7,8], # positions\n",
    "    ['Alameda','Contra Costa','Marin','Napa','San Francisco','San Mateo','Santa Clara','Solano','Sonoma'], # labels\n",
    "    rotation = 0 # default is 90\n",
    ")\n",
    "\n",
    "# convert to non-scientific notation \n",
    "plt.ticklabel_format(axis = 'y', style='plain');"
   ]
  },
  {
   "cell_type": "code",
   "execution_count": null,
   "metadata": {},
   "outputs": [],
   "source": [
    "#subset SF to view\n",
    "parcels_major_st_sf = parcels_major_st[(parcels_major_st['tpa'] == 1) & \n",
    "                                               (parcels_major_st['jurisdict'] == 'San Francisco')]"
   ]
  },
  {
   "cell_type": "code",
   "execution_count": null,
   "metadata": {},
   "outputs": [],
   "source": [
    "parcels_major_st_sf.plot(figsize=(10,10));"
   ]
  },
  {
   "cell_type": "code",
   "execution_count": null,
   "metadata": {},
   "outputs": [],
   "source": [
    "fig, ax = plt.subplots(figsize=(10,10))\n",
    "\n",
    "stops_nad83_gdf.plot(color='red',ax=ax)\n",
    "\n",
    "parcels_major_st_sf.plot(color='blue',ax=ax)\n",
    "\n",
    "# Crop map to sf bounds\n",
    "minx, miny, maxx, maxy = parcels_major_st_sf.geometry.total_bounds\n",
    "\n",
    "ax.set_xlim(minx,maxx)\n",
    "ax.set_ylim(miny,maxy)\n",
    "\n",
    "#Display map\n",
    "plt.tight_layout()\n",
    "plt.show()"
   ]
  },
  {
   "cell_type": "code",
   "execution_count": null,
   "metadata": {},
   "outputs": [],
   "source": [
    "parcels.info()"
   ]
  },
  {
   "cell_type": "code",
   "execution_count": null,
   "metadata": {},
   "outputs": [],
   "source": [
    "#Join back to parcels\n",
    "parcels_major_st_full_set = pd.DataFrame.merge(parcels,parcels_major_st[['joinid','tpa']],\n",
    "                                               left_on='joinid',\n",
    "                                               right_on='joinid',\n",
    "                                               how='left')"
   ]
  },
  {
   "cell_type": "code",
   "execution_count": null,
   "metadata": {},
   "outputs": [],
   "source": [
    "parcels_major_st_full_set.head(10)"
   ]
  },
  {
   "cell_type": "code",
   "execution_count": null,
   "metadata": {},
   "outputs": [],
   "source": [
    "#Fill tpa flag column NaN values\n",
    "parcels_major_st_full_set['tpa'].fillna(0,inplace=True)"
   ]
  },
  {
   "cell_type": "code",
   "execution_count": null,
   "metadata": {},
   "outputs": [],
   "source": [
    "parcels_major_st_full_set.groupby('tpa')['tpa'].count()"
   ]
  },
  {
   "cell_type": "code",
   "execution_count": null,
   "metadata": {},
   "outputs": [],
   "source": [
    "#Upsert to socrata\n",
    "upsert_df_socrata(parcels_major_st_full_set[['joinid','tpa']],housing_site_db_id)"
   ]
  },
  {
   "cell_type": "markdown",
   "metadata": {},
   "source": [
    "### Read in Health Datasets"
   ]
  },
  {
   "cell_type": "code",
   "execution_count": null,
   "metadata": {},
   "outputs": [],
   "source": [
    "#Read in California Healthy Places Index data\n",
    "healthy_pi = gp.read_file(os.path.join(data_dir,'site_selection_prescreening_database.gdb'),\n",
    "                          driver='FileGDB',\n",
    "                          layer='ca_healthy_places_index_bay_area_04_04_2018')\n",
    "\n",
    "healthy_pi.head(5)"
   ]
  },
  {
   "cell_type": "code",
   "execution_count": null,
   "metadata": {},
   "outputs": [],
   "source": [
    "#Subset dataset\n",
    "healthy_pi = healthy_pi[['STATE','COUNTY','TRACT','NAME','ct10','hpi2score','geometry']]\n"
   ]
  },
  {
   "cell_type": "code",
   "execution_count": null,
   "metadata": {},
   "outputs": [],
   "source": [
    "#Get info\n",
    "healthy_pi.info()"
   ]
  },
  {
   "cell_type": "code",
   "execution_count": null,
   "metadata": {},
   "outputs": [],
   "source": [
    "healthy_pi.head(5)"
   ]
  },
  {
   "cell_type": "code",
   "execution_count": null,
   "metadata": {},
   "outputs": [],
   "source": []
  },
  {
   "cell_type": "code",
   "execution_count": null,
   "metadata": {},
   "outputs": [],
   "source": []
  },
  {
   "cell_type": "code",
   "execution_count": null,
   "metadata": {},
   "outputs": [],
   "source": []
  },
  {
   "cell_type": "code",
   "execution_count": null,
   "metadata": {},
   "outputs": [],
   "source": []
  },
  {
   "cell_type": "code",
   "execution_count": null,
   "metadata": {},
   "outputs": [],
   "source": []
  },
  {
   "cell_type": "markdown",
   "metadata": {},
   "source": [
    "### Read Regional Growth Areas"
   ]
  },
  {
   "cell_type": "code",
   "execution_count": null,
   "metadata": {},
   "outputs": [],
   "source": [
    "#MTC/ABAG Priority Development Areas\n",
    "pda_url = 'https://opendata.arcgis.com/datasets/36dd7a36576f42d4a3d6b0708e3982f4_0.geojson'\n",
    "pda_gdf = gp.read_file(pda_url)\n",
    "pda_gdf.head(5)"
   ]
  }
 ],
 "metadata": {
  "kernelspec": {
   "display_name": "Python 3",
   "language": "python",
   "name": "python3"
  },
  "language_info": {
   "codemirror_mode": {
    "name": "ipython",
    "version": 3
   },
   "file_extension": ".py",
   "mimetype": "text/x-python",
   "name": "python",
   "nbconvert_exporter": "python",
   "pygments_lexer": "ipython3",
   "version": "3.7.7"
  }
 },
 "nbformat": 4,
 "nbformat_minor": 4
}
