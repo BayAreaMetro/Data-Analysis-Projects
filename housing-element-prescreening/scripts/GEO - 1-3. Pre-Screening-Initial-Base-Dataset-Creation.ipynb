{
 "cells": [
  {
   "cell_type": "code",
   "execution_count": 1,
   "metadata": {},
   "outputs": [
    {
     "name": "stdout",
     "output_type": "stream",
     "text": [
      "geo_env\r\n"
     ]
    }
   ],
   "source": [
    "# GEO prefix implies geo_env (geopandas/arcgis enabled)\n",
    "# https://geopandas.org/install.html#creating-a-new-environment\n",
    "! echo $CONDA_DEFAULT_ENV"
   ]
  },
  {
   "cell_type": "code",
   "execution_count": 2,
   "metadata": {},
   "outputs": [],
   "source": [
    "# standard imports\n",
    "import sys\n",
    "import getpass\n",
    "user = getpass.getuser()\n",
    "sys.dont_write_bytecode = True\n",
    "sys.path.insert(0, '/Users/{}/Box/DataViz Projects/Utility Code'.format(user))\n",
    "from utils_io import *"
   ]
  },
  {
   "cell_type": "code",
   "execution_count": 3,
   "metadata": {},
   "outputs": [],
   "source": [
    "# geo imports\n",
    "import geopandas as gpd"
   ]
  },
  {
   "cell_type": "code",
   "execution_count": 4,
   "metadata": {},
   "outputs": [],
   "source": [
    "# plot imports\n",
    "import contextily as ctx\n",
    "import matplotlib.pyplot as plt"
   ]
  },
  {
   "cell_type": "code",
   "execution_count": 5,
   "metadata": {},
   "outputs": [],
   "source": [
    "data_dir = os.path.join('/Users',\n",
    "                        user,\n",
    "                        'Box',\n",
    "                        'DataViz Projects',\n",
    "                        'Data Analysis and Visualization',\n",
    "                        'Housing Element Site Mapping and Pre-screening',\n",
    "                        'data')"
   ]
  },
  {
   "cell_type": "markdown",
   "metadata": {},
   "source": [
    "# RHNA Site Selection Pre-Screening Dataset Processing\n",
    "\n",
    "## Approach\n",
    "\n",
    "Develop a parcel-level dataset containing factors required by HCD as well as optional factors such as whether the site is located within a high opportunity area, or a transportation priority area, any floor area ratio requirements of the site, etc. The dataset will be developed from a combination of publically available datasets as well as datasets developed by MTC/ABAG from local governments and counties throughout the Bay Area.\n",
    "\n",
    "## Data Sources\n",
    "\n",
    "**[Data Sources Inventory](https://mtcdrive.app.box.com/file/700718735166)**\n",
    "\n",
    "## Steps\n",
    "### 1. [Initialize housing sites dataset on socrata](#step1)\n",
    "### 2. [Pull regional parcel data from Socrata as geojson](#step2)\n",
    "### 3. [Query Census TIGER Block Groups to get Bay Area Census Tracts & Block Groups](#step3)"
   ]
  },
  {
   "cell_type": "markdown",
   "metadata": {},
   "source": [
    "<a name=\"step1\"></a>\n",
    "## Step1: Initialize housing sites dataset on socrata\n",
    "\n",
    "- This step creates an empty table on the Socrata platform which will serve as our database for following steps\n",
    "\n",
    "### Resulting dataset: [Housing Element Site Selection Parcels](https://data.bayareametro.gov/Land-People/Housing-Element-Site-Selection-Parcels/j9hp-a3zr)\n",
    "\n",
    "Add this to metadata manually on Socrata:\n",
    "\n",
    "- county: county FIPS\n",
    "- jurisdict: jurisdiction\n",
    "- apn: County Assessor Parcel Number\n",
    "- exist_lu: existing land use\n",
    "- plu_zoning: planned land use zoning\n",
    "- plu_gp: planned land use general plan\n",
    "- public_own: public ownership\n",
    "- trct_geoid: tract geoid\n",
    "- blkg_geoid: block group geoid\n",
    "- rsrc_level: HCD community resource level\n",
    "- fire_risk: CAL FIRE fire risk\n",
    "- fire_autho: CAL FIRE regulatory authority\n",
    "- sea_level: BDCD sea level rise\n",
    "- cpad: California Protected Areas Database\n",
    "- urban_serv: urban service area\n",
    "- tra: transit rich area\n",
    "- vmt: vehicle miles traveled"
   ]
  },
  {
   "cell_type": "code",
   "execution_count": 6,
   "metadata": {},
   "outputs": [],
   "source": [
    "# Set cnames and ctypes--renamed a few fields for readability\n",
    "ctypes = {'parcel_id': 'text',\n",
    "          'geom_id': 'text',\n",
    "          'county': 'text',\n",
    "          'jurisdict': 'text',\n",
    "          'apn': 'text',\n",
    "          'acres': 'number',\n",
    "          'exist_lu': 'text',\n",
    "          'public_own': 'number',\n",
    "          'vacant': 'number',\n",
    "          'underutilized': 'number',\n",
    "          'zn_code': 'text',\n",
    "          'zn_description': 'text',\n",
    "          'zn_area_overlay': 'text',\n",
    "          'zn_max_dua': 'number',\n",
    "          'gp_code': 'text',\n",
    "          'gp_description': 'text',\n",
    "          'gp_max_dua': 'number',\n",
    "          'fmr_0bdr': 'number',\n",
    "          'fmr_1bdr': 'number',\n",
    "          'fmr_2bdr': 'number',\n",
    "          'fmr_3bdr': 'number',\n",
    "          'fmr_4bdr': 'number',\n",
    "          'fmr_4plbdr': 'number',\n",
    "          'trct_geoid': 'text',\n",
    "          'blkg_geoid': 'text',\n",
    "          'rsrc_level': 'text',\n",
    "          'fire_risk': 'text',\n",
    "          'fire_autho': 'text',\n",
    "          'sea_level': 'number',\n",
    "          'cpad': 'number',\n",
    "          'urban_serv': 'number',\n",
    "          'tra': 'number',\n",
    "          'rhna_5': 'number',\n",
    "          'rhna_4': 'number',\n",
    "          'bldg_permt': 'number',\n",
    "          'vmt': 'number',\n",
    "          'centroid_x': 'number',\n",
    "          'centroid_y': 'number',\n",
    "          'geometry': 'multipolygon'}"
   ]
  },
  {
   "cell_type": "code",
   "execution_count": 7,
   "metadata": {
    "scrolled": true
   },
   "outputs": [
    {
     "name": "stdout",
     "output_type": "stream",
     "text": [
      "[{'fieldName': 'parcel_id', 'name': 'parcel_id', 'dataTypeName': 'text'}, {'fieldName': 'geom_id', 'name': 'geom_id', 'dataTypeName': 'text'}, {'fieldName': 'fipco', 'name': 'fipco', 'dataTypeName': 'text'}, {'fieldName': 'jurisdict', 'name': 'jurisdict', 'dataTypeName': 'text'}, {'fieldName': 'apn_frm', 'name': 'apn_frm', 'dataTypeName': 'text'}]\n"
     ]
    }
   ],
   "source": [
    "columns = create_socrata_column_list(ctypes)\n",
    "print(columns[:5])"
   ]
  },
  {
   "cell_type": "code",
   "execution_count": null,
   "metadata": {},
   "outputs": [],
   "source": [
    "# Initialize dataset\n",
    "dataset_name = 'Housing Element Site Selection Parcels'\n",
    "dataset_desc = '''This dataset contains regional parcels from 2018\n",
    "                with factors used to support development of a\n",
    "                site selection pre-screening tool'''\n",
    "\n",
    "category = 'Land & People'\n",
    "row_identifier = 'parcel_id'\n",
    "\n",
    "tags = ['housing',\n",
    "        'housing element',\n",
    "        'site selection',\n",
    "        'hcd',\n",
    "        'housing and community development',\n",
    "        'rhna']\n",
    "\n",
    "# metadata = create_socrata_dataset(dataset_name,\n",
    "#                                   dataset_desc,\n",
    "#                                   columns,\n",
    "#                                   category,\n",
    "#                                   tags,\n",
    "#                                   row_identifier)\n",
    "\n",
    "# housing_site_db_id = metadata['id']\n",
    "# print(housing_site_db_id)  # j9hp-a3zr\n",
    "# publish_socrata_dataset(housing_site_db_id)"
   ]
  },
  {
   "cell_type": "markdown",
   "metadata": {},
   "source": [
    "### Resulting dataset: [Housing Element Site Selection Parcels](https://data.bayareametro.gov/Land-People/Housing-Element-Site-Selection-Parcels/j9hp-a3zr)"
   ]
  },
  {
   "cell_type": "code",
   "execution_count": 8,
   "metadata": {},
   "outputs": [],
   "source": [
    "housing_site_db_id = 'j9hp-a3zr'"
   ]
  },
  {
   "cell_type": "code",
   "execution_count": null,
   "metadata": {},
   "outputs": [],
   "source": [
    "# # Joshua's Socrata housing site selection db 4x4\n",
    "# housing_site_db_id = 'ce94-ebgq'"
   ]
  },
  {
   "cell_type": "markdown",
   "metadata": {},
   "source": [
    "<a name=\"step2\"></a>\n",
    "## Step 2: Pull regional parcel data from Socrata\n",
    "\n",
    "- This step pulls in parcel data collected from each County Assessor's office in the 9-County Bay Area in 2018: [Parcels 2018](https://data.bayareametro.gov/Cadastral/Parcels-2018/qqfm-y9ey)\n",
    "    - this step is a modification from the previous version which used [Parcels 2018 V2](https://data.bayareametro.gov/Cadastral/Parcels-2018-V2/pu8t-xzre) and created a centroid using `representative_point`. This version uses the utils_analytics method `get_centroid`, which uses `representative_point` only when the centroid is not contained in the polygon\n",
    "\n",
    "- These data were processed, cleaned, and standardized by the Data & Visualization team \n",
    "- These data will serve the 'framework' data, which overlay data attributes will be added to "
   ]
  },
  {
   "cell_type": "code",
   "execution_count": 9,
   "metadata": {},
   "outputs": [
    {
     "name": "stdout",
     "output_type": "stream",
     "text": [
      "pulling 2142677 rows as geojson\n"
     ]
    }
   ],
   "source": [
    "# https://data.bayareametro.gov/Cadastral/Parcels-2018/qqfm-y9ey\n",
    "parcels = pull_geojson_from_socrata('qqfm-y9ey')\n",
    "# pulling 2142677 rows as geojson"
   ]
  },
  {
   "cell_type": "code",
   "execution_count": 10,
   "metadata": {},
   "outputs": [
    {
     "name": "stderr",
     "output_type": "stream",
     "text": [
      "/opt/anaconda3/envs/geo_env/lib/python3.8/site-packages/geopandas/geodataframe.py:852: UserWarning: Geometry column does not contain geometry.\n",
      "  warnings.warn(\"Geometry column does not contain geometry.\")\n"
     ]
    }
   ],
   "source": [
    "gdf = gpd.GeoDataFrame.from_features(parcels['features'],\n",
    "                                     crs='EPSG:4326')\n",
    "\n",
    "# extract desired columns\n",
    "parcel_columns = ['geom_id',\n",
    "                  'joinid_geoserver',\n",
    "                  'county',\n",
    "                  'city',\n",
    "                  'apn',\n",
    "                  'acres',\n",
    "                  'centroid_x',\n",
    "                  'centroid_y',\n",
    "                  'geometry']\n",
    "\n",
    "# rename columns to final column names\n",
    "rename_d = {'joinid_geoserver': 'parcel_id',\n",
    "            'city': 'jurisdict'}\n",
    "\n",
    "parcels_gdf = (gdf[parcel_columns]\n",
    "               .rename(columns=rename_d)\n",
    "              )\n",
    "\n",
    "# cast county: '75.0' -> '75'\n",
    "parcels_gdf['county'] = (parcels_gdf['county']\n",
    "                        .astype(float)\n",
    "                        .astype(int)\n",
    "                        .astype(str)\n",
    "                       )\n",
    "\n",
    "# cast county: '75' -> 'CA075'\n",
    "parcels_gdf['county'] = ('CA'\n",
    "                        + parcels_gdf['county'].str.zfill(3)\n",
    "                       )\n",
    "\n",
    "parcels_gdf['geometry'] = parcels_gdf['geometry'].map(lambda x: x.wkt)"
   ]
  },
  {
   "cell_type": "code",
   "execution_count": 11,
   "metadata": {},
   "outputs": [
    {
     "data": {
      "text/html": [
       "<div>\n",
       "<style scoped>\n",
       "    .dataframe tbody tr th:only-of-type {\n",
       "        vertical-align: middle;\n",
       "    }\n",
       "\n",
       "    .dataframe tbody tr th {\n",
       "        vertical-align: top;\n",
       "    }\n",
       "\n",
       "    .dataframe thead th {\n",
       "        text-align: right;\n",
       "    }\n",
       "</style>\n",
       "<table border=\"1\" class=\"dataframe\">\n",
       "  <thead>\n",
       "    <tr style=\"text-align: right;\">\n",
       "      <th></th>\n",
       "      <th>geom_id</th>\n",
       "      <th>parcel_id</th>\n",
       "      <th>fipco</th>\n",
       "      <th>jurisdict</th>\n",
       "      <th>apn_frm</th>\n",
       "      <th>acres</th>\n",
       "      <th>centroid_x</th>\n",
       "      <th>centroid_y</th>\n",
       "      <th>geometry</th>\n",
       "    </tr>\n",
       "  </thead>\n",
       "  <tbody>\n",
       "    <tr>\n",
       "      <th>0</th>\n",
       "      <td>N519787380022023374</td>\n",
       "      <td>AL050297</td>\n",
       "      <td>CA001</td>\n",
       "      <td>Fremont</td>\n",
       "      <td>513073306300</td>\n",
       "      <td>0.130282673690588</td>\n",
       "      <td>-121.931593621497</td>\n",
       "      <td>37.517590870352</td>\n",
       "      <td>MULTIPOLYGON (((-121.9314340609999 37.51750546...</td>\n",
       "    </tr>\n",
       "    <tr>\n",
       "      <th>1</th>\n",
       "      <td>7777965113668899400</td>\n",
       "      <td>AL064565</td>\n",
       "      <td>CA001</td>\n",
       "      <td>Dublin</td>\n",
       "      <td>986002109200</td>\n",
       "      <td>0.134538967957149</td>\n",
       "      <td>-121.874998288998</td>\n",
       "      <td>37.7069546035818</td>\n",
       "      <td>MULTIPOLYGON (((-121.874822287 37.707028194000...</td>\n",
       "    </tr>\n",
       "    <tr>\n",
       "      <th>2</th>\n",
       "      <td>8592358637913523614</td>\n",
       "      <td>AL027583</td>\n",
       "      <td>CA001</td>\n",
       "      <td>Oakland</td>\n",
       "      <td>030193901800</td>\n",
       "      <td>0.0596464335915547</td>\n",
       "      <td>-122.189772409697</td>\n",
       "      <td>37.7901961828431</td>\n",
       "      <td>MULTIPOLYGON (((-122.189637685 37.790153423000...</td>\n",
       "    </tr>\n",
       "    <tr>\n",
       "      <th>3</th>\n",
       "      <td>N3603110186859102487</td>\n",
       "      <td>AL132639</td>\n",
       "      <td>CA001</td>\n",
       "      <td>Berkeley</td>\n",
       "      <td>060240001700</td>\n",
       "      <td>0.0652835256088313</td>\n",
       "      <td>-122.291838389711</td>\n",
       "      <td>37.8800674363449</td>\n",
       "      <td>MULTIPOLYGON (((-122.291720683 37.880021532000...</td>\n",
       "    </tr>\n",
       "    <tr>\n",
       "      <th>4</th>\n",
       "      <td>N7048726851848113656</td>\n",
       "      <td>AL065372</td>\n",
       "      <td>CA001</td>\n",
       "      <td>Dublin</td>\n",
       "      <td>985005600400</td>\n",
       "      <td>0.157939883697465</td>\n",
       "      <td>-121.870061053204</td>\n",
       "      <td>37.731050067</td>\n",
       "      <td>MULTIPOLYGON (((-121.869508097 37.731754854000...</td>\n",
       "    </tr>\n",
       "  </tbody>\n",
       "</table>\n",
       "</div>"
      ],
      "text/plain": [
       "                geom_id parcel_id  fipco jurisdict       apn_frm  \\\n",
       "0   N519787380022023374  AL050297  CA001   Fremont  513073306300   \n",
       "1   7777965113668899400  AL064565  CA001    Dublin  986002109200   \n",
       "2   8592358637913523614  AL027583  CA001   Oakland  030193901800   \n",
       "3  N3603110186859102487  AL132639  CA001  Berkeley  060240001700   \n",
       "4  N7048726851848113656  AL065372  CA001    Dublin  985005600400   \n",
       "\n",
       "                acres         centroid_x        centroid_y  \\\n",
       "0   0.130282673690588  -121.931593621497   37.517590870352   \n",
       "1   0.134538967957149  -121.874998288998  37.7069546035818   \n",
       "2  0.0596464335915547  -122.189772409697  37.7901961828431   \n",
       "3  0.0652835256088313  -122.291838389711  37.8800674363449   \n",
       "4   0.157939883697465  -121.870061053204      37.731050067   \n",
       "\n",
       "                                            geometry  \n",
       "0  MULTIPOLYGON (((-121.9314340609999 37.51750546...  \n",
       "1  MULTIPOLYGON (((-121.874822287 37.707028194000...  \n",
       "2  MULTIPOLYGON (((-122.189637685 37.790153423000...  \n",
       "3  MULTIPOLYGON (((-122.291720683 37.880021532000...  \n",
       "4  MULTIPOLYGON (((-121.869508097 37.731754854000...  "
      ]
     },
     "execution_count": 11,
     "metadata": {},
     "output_type": "execute_result"
    }
   ],
   "source": [
    "parcels_gdf.head()"
   ]
  },
  {
   "cell_type": "markdown",
   "metadata": {},
   "source": [
    "### Upsert to socrata"
   ]
  },
  {
   "cell_type": "code",
   "execution_count": null,
   "metadata": {
    "scrolled": true
   },
   "outputs": [],
   "source": [
    "# upsert_df_socrata(parcels_gdf,\n",
    "#                   housing_site_db_id,\n",
    "#                   chunksize=10000)\n",
    "# # upserting data to Socrata in 215 chunks of 10000 rows each\n",
    "# # data upserted to j9hp-a3zr\n",
    "# # took 24.2408 minutes"
   ]
  },
  {
   "cell_type": "markdown",
   "metadata": {},
   "source": [
    "<a name=\"step3\"></a>\n",
    "## Step 3: Query Census TIGER Block Groups to get Bay Area Census Tracts & Block Groups\n",
    "#### [Census TIGERweb REST API Documentation](https://tigerweb.geo.census.gov/tigerwebmain/TIGERweb_restmapservice.html)\n",
    "\n",
    "- This is a pre-step for later work. Many of the potential overlay datasets contain Census Tracts level data and in some cases, Census Block Group level data. \n",
    "- This step will create a crosswalk between parcels and Census tracts and blocks, using a centroid (parcel representive centroid) in polygon (Census Tract or Block) method.  \n",
    "- We are using Census Blocks as Blocks nest within tracts. We can therefore get Tracts from Blocks by splitting out the tract geoid from the block geoid."
   ]
  },
  {
   "cell_type": "code",
   "execution_count": 19,
   "metadata": {},
   "outputs": [
    {
     "data": {
      "text/html": [
       "<div>\n",
       "<style scoped>\n",
       "    .dataframe tbody tr th:only-of-type {\n",
       "        vertical-align: middle;\n",
       "    }\n",
       "\n",
       "    .dataframe tbody tr th {\n",
       "        vertical-align: top;\n",
       "    }\n",
       "\n",
       "    .dataframe thead th {\n",
       "        text-align: right;\n",
       "    }\n",
       "</style>\n",
       "<table border=\"1\" class=\"dataframe\">\n",
       "  <thead>\n",
       "    <tr style=\"text-align: right;\">\n",
       "      <th></th>\n",
       "      <th>blkg_geoid</th>\n",
       "      <th>trct_geoid</th>\n",
       "      <th>blkgrp</th>\n",
       "      <th>geometry</th>\n",
       "    </tr>\n",
       "  </thead>\n",
       "  <tbody>\n",
       "    <tr>\n",
       "      <th>0</th>\n",
       "      <td>060759804011</td>\n",
       "      <td>06075980401</td>\n",
       "      <td>1</td>\n",
       "      <td>POLYGON ((-123.01392 37.70035, -123.01278 37.6...</td>\n",
       "    </tr>\n",
       "    <tr>\n",
       "      <th>1</th>\n",
       "      <td>060750615006</td>\n",
       "      <td>06075061500</td>\n",
       "      <td>6</td>\n",
       "      <td>POLYGON ((-122.39362 37.78308, -122.39053 37.7...</td>\n",
       "    </tr>\n",
       "    <tr>\n",
       "      <th>2</th>\n",
       "      <td>060750264011</td>\n",
       "      <td>06075026401</td>\n",
       "      <td>1</td>\n",
       "      <td>POLYGON ((-122.41563 37.71273, -122.41600 37.7...</td>\n",
       "    </tr>\n",
       "    <tr>\n",
       "      <th>3</th>\n",
       "      <td>060855135001</td>\n",
       "      <td>06085513500</td>\n",
       "      <td>1</td>\n",
       "      <td>POLYGON ((-121.85576 37.48454, -121.85529 37.4...</td>\n",
       "    </tr>\n",
       "    <tr>\n",
       "      <th>4</th>\n",
       "      <td>060014237003</td>\n",
       "      <td>06001423700</td>\n",
       "      <td>3</td>\n",
       "      <td>POLYGON ((-122.25395 37.86574, -122.25374 37.8...</td>\n",
       "    </tr>\n",
       "  </tbody>\n",
       "</table>\n",
       "</div>"
      ],
      "text/plain": [
       "     blkg_geoid   trct_geoid blkgrp  \\\n",
       "0  060759804011  06075980401      1   \n",
       "1  060750615006  06075061500      6   \n",
       "2  060750264011  06075026401      1   \n",
       "3  060855135001  06085513500      1   \n",
       "4  060014237003  06001423700      3   \n",
       "\n",
       "                                            geometry  \n",
       "0  POLYGON ((-123.01392 37.70035, -123.01278 37.6...  \n",
       "1  POLYGON ((-122.39362 37.78308, -122.39053 37.7...  \n",
       "2  POLYGON ((-122.41563 37.71273, -122.41600 37.7...  \n",
       "3  POLYGON ((-121.85576 37.48454, -121.85529 37.4...  \n",
       "4  POLYGON ((-122.25395 37.86574, -122.25374 37.8...  "
      ]
     },
     "execution_count": 19,
     "metadata": {},
     "output_type": "execute_result"
    }
   ],
   "source": [
    "blkgp_2018 = pull_acs_geodata()  # added your function to utils_io\n",
    "blkgp_2018.head()"
   ]
  },
  {
   "cell_type": "markdown",
   "metadata": {},
   "source": [
    "### Create centroid geodataframe using the representative x,y centroids created in previous steps"
   ]
  },
  {
   "cell_type": "code",
   "execution_count": 16,
   "metadata": {},
   "outputs": [
    {
     "name": "stdout",
     "output_type": "stream",
     "text": [
      "took 12.6299 seconds\n"
     ]
    }
   ],
   "source": [
    "a = time.time()\n",
    "parcels_centroid = gpd.GeoDataFrame(parcels_gdf,\n",
    "                                    geometry=gpd.points_from_xy(parcels_gdf['centroid_x'],\n",
    "                                                                parcels_gdf['centroid_y']),\n",
    "                                    crs='EPSG:4326')\n",
    "b = time.time()\n",
    "print('took {}'.format(print_runtime(b-a)))\n",
    "# took 12.6299 seconds"
   ]
  },
  {
   "cell_type": "markdown",
   "metadata": {},
   "source": [
    "### Visualize on map"
   ]
  },
  {
   "cell_type": "code",
   "execution_count": 17,
   "metadata": {
    "scrolled": true
   },
   "outputs": [
    {
     "data": {
      "image/png": "[encoded data removed]",
      "text/plain": [
       "<Figure size 720x720 with 1 Axes>"
      ]
     },
     "metadata": {
      "needs_background": "light"
     },
     "output_type": "display_data"
    }
   ],
   "source": [
    "parcels_centroid[parcels_centroid['jurisdict'] == 'San Francisco'].plot(figsize=(10,10));"
   ]
  },
  {
   "cell_type": "markdown",
   "metadata": {},
   "source": [
    "### Perform point on polygon overlay"
   ]
  },
  {
   "cell_type": "code",
   "execution_count": 20,
   "metadata": {},
   "outputs": [
    {
     "name": "stdout",
     "output_type": "stream",
     "text": [
      "took 4.2107 minutes\n"
     ]
    }
   ],
   "source": [
    "a = time.time()\n",
    "parcels_centroid_census = gpd.sjoin(parcels_centroid,\n",
    "                                    blkgp_2018,\n",
    "                                    how='left',\n",
    "                                    op='intersects')\n",
    "b = time.time()\n",
    "print('took {}'.format(print_runtime(b-a)))\n",
    "# took 12.6299 seconds"
   ]
  },
  {
   "cell_type": "code",
   "execution_count": 21,
   "metadata": {},
   "outputs": [
    {
     "data": {
      "text/html": [
       "<div>\n",
       "<style scoped>\n",
       "    .dataframe tbody tr th:only-of-type {\n",
       "        vertical-align: middle;\n",
       "    }\n",
       "\n",
       "    .dataframe tbody tr th {\n",
       "        vertical-align: top;\n",
       "    }\n",
       "\n",
       "    .dataframe thead th {\n",
       "        text-align: right;\n",
       "    }\n",
       "</style>\n",
       "<table border=\"1\" class=\"dataframe\">\n",
       "  <thead>\n",
       "    <tr style=\"text-align: right;\">\n",
       "      <th></th>\n",
       "      <th>geom_id</th>\n",
       "      <th>parcel_id</th>\n",
       "      <th>fipco</th>\n",
       "      <th>jurisdict</th>\n",
       "      <th>apn_frm</th>\n",
       "      <th>acres</th>\n",
       "      <th>centroid_x</th>\n",
       "      <th>centroid_y</th>\n",
       "      <th>geometry</th>\n",
       "      <th>index_right</th>\n",
       "      <th>blkg_geoid</th>\n",
       "      <th>trct_geoid</th>\n",
       "      <th>blkgrp</th>\n",
       "    </tr>\n",
       "  </thead>\n",
       "  <tbody>\n",
       "    <tr>\n",
       "      <th>0</th>\n",
       "      <td>N519787380022023374</td>\n",
       "      <td>AL050297</td>\n",
       "      <td>CA001</td>\n",
       "      <td>Fremont</td>\n",
       "      <td>513073306300</td>\n",
       "      <td>0.130282673690588</td>\n",
       "      <td>-121.931593621497</td>\n",
       "      <td>37.517590870352</td>\n",
       "      <td>POINT (-121.93159 37.51759)</td>\n",
       "      <td>3933.0</td>\n",
       "      <td>060014431052</td>\n",
       "      <td>06001443105</td>\n",
       "      <td>2</td>\n",
       "    </tr>\n",
       "    <tr>\n",
       "      <th>1</th>\n",
       "      <td>7777965113668899400</td>\n",
       "      <td>AL064565</td>\n",
       "      <td>CA001</td>\n",
       "      <td>Dublin</td>\n",
       "      <td>986002109200</td>\n",
       "      <td>0.134538967957149</td>\n",
       "      <td>-121.874998288998</td>\n",
       "      <td>37.7069546035818</td>\n",
       "      <td>POINT (-121.87500 37.70695)</td>\n",
       "      <td>3991.0</td>\n",
       "      <td>060014501011</td>\n",
       "      <td>06001450101</td>\n",
       "      <td>1</td>\n",
       "    </tr>\n",
       "    <tr>\n",
       "      <th>2</th>\n",
       "      <td>8592358637913523614</td>\n",
       "      <td>AL027583</td>\n",
       "      <td>CA001</td>\n",
       "      <td>Oakland</td>\n",
       "      <td>030193901800</td>\n",
       "      <td>0.0596464335915547</td>\n",
       "      <td>-122.189772409697</td>\n",
       "      <td>37.7901961828431</td>\n",
       "      <td>POINT (-122.18977 37.79020)</td>\n",
       "      <td>185.0</td>\n",
       "      <td>060014069002</td>\n",
       "      <td>06001406900</td>\n",
       "      <td>2</td>\n",
       "    </tr>\n",
       "    <tr>\n",
       "      <th>3</th>\n",
       "      <td>N3603110186859102487</td>\n",
       "      <td>AL132639</td>\n",
       "      <td>CA001</td>\n",
       "      <td>Berkeley</td>\n",
       "      <td>060240001700</td>\n",
       "      <td>0.0652835256088313</td>\n",
       "      <td>-122.291838389711</td>\n",
       "      <td>37.8800674363449</td>\n",
       "      <td>POINT (-122.29184 37.88007)</td>\n",
       "      <td>4088.0</td>\n",
       "      <td>060014219004</td>\n",
       "      <td>06001421900</td>\n",
       "      <td>4</td>\n",
       "    </tr>\n",
       "    <tr>\n",
       "      <th>4</th>\n",
       "      <td>N7048726851848113656</td>\n",
       "      <td>AL065372</td>\n",
       "      <td>CA001</td>\n",
       "      <td>Dublin</td>\n",
       "      <td>985005600400</td>\n",
       "      <td>0.157939883697465</td>\n",
       "      <td>-121.870061053204</td>\n",
       "      <td>37.731050067</td>\n",
       "      <td>POINT (-121.87006 37.73105)</td>\n",
       "      <td>1886.0</td>\n",
       "      <td>060014507521</td>\n",
       "      <td>06001450752</td>\n",
       "      <td>1</td>\n",
       "    </tr>\n",
       "  </tbody>\n",
       "</table>\n",
       "</div>"
      ],
      "text/plain": [
       "                geom_id parcel_id  fipco jurisdict       apn_frm  \\\n",
       "0   N519787380022023374  AL050297  CA001   Fremont  513073306300   \n",
       "1   7777965113668899400  AL064565  CA001    Dublin  986002109200   \n",
       "2   8592358637913523614  AL027583  CA001   Oakland  030193901800   \n",
       "3  N3603110186859102487  AL132639  CA001  Berkeley  060240001700   \n",
       "4  N7048726851848113656  AL065372  CA001    Dublin  985005600400   \n",
       "\n",
       "                acres         centroid_x        centroid_y  \\\n",
       "0   0.130282673690588  -121.931593621497   37.517590870352   \n",
       "1   0.134538967957149  -121.874998288998  37.7069546035818   \n",
       "2  0.0596464335915547  -122.189772409697  37.7901961828431   \n",
       "3  0.0652835256088313  -122.291838389711  37.8800674363449   \n",
       "4   0.157939883697465  -121.870061053204      37.731050067   \n",
       "\n",
       "                      geometry  index_right    blkg_geoid   trct_geoid blkgrp  \n",
       "0  POINT (-121.93159 37.51759)       3933.0  060014431052  06001443105      2  \n",
       "1  POINT (-121.87500 37.70695)       3991.0  060014501011  06001450101      1  \n",
       "2  POINT (-122.18977 37.79020)        185.0  060014069002  06001406900      2  \n",
       "3  POINT (-122.29184 37.88007)       4088.0  060014219004  06001421900      4  \n",
       "4  POINT (-121.87006 37.73105)       1886.0  060014507521  06001450752      1  "
      ]
     },
     "execution_count": 21,
     "metadata": {},
     "output_type": "execute_result"
    }
   ],
   "source": [
    "parcels_centroid_census.head()"
   ]
  },
  {
   "cell_type": "code",
   "execution_count": 22,
   "metadata": {},
   "outputs": [
    {
     "name": "stdout",
     "output_type": "stream",
     "text": [
      "<class 'geopandas.geodataframe.GeoDataFrame'>\n",
      "Int64Index: 2142677 entries, 0 to 2142676\n",
      "Data columns (total 13 columns):\n",
      " #   Column       Dtype   \n",
      "---  ------       -----   \n",
      " 0   geom_id      object  \n",
      " 1   parcel_id    object  \n",
      " 2   fipco        object  \n",
      " 3   jurisdict    object  \n",
      " 4   apn_frm      object  \n",
      " 5   acres        object  \n",
      " 6   centroid_x   object  \n",
      " 7   centroid_y   object  \n",
      " 8   geometry     geometry\n",
      " 9   index_right  float64 \n",
      " 10  blkg_geoid   object  \n",
      " 11  trct_geoid   object  \n",
      " 12  blkgrp       object  \n",
      "dtypes: float64(1), geometry(1), object(11)\n",
      "memory usage: 228.9+ MB\n"
     ]
    }
   ],
   "source": [
    "parcels_centroid_census.info()"
   ]
  },
  {
   "cell_type": "markdown",
   "metadata": {},
   "source": [
    "### Inspect tracts will null geoids to see why they were not assigned a value\n",
    "- Appears that these tracts are mostly water tracts"
   ]
  },
  {
   "cell_type": "code",
   "execution_count": 23,
   "metadata": {},
   "outputs": [
    {
     "name": "stderr",
     "output_type": "stream",
     "text": [
      "/opt/anaconda3/envs/geo_env/lib/python3.8/site-packages/contextily/tile.py:629: UserWarning: The inferred zoom level of 26 is not valid for the current tile provider (valid zooms: 0 - 18).\n",
      "  warnings.warn(msg)\n"
     ]
    },
    {
     "data": {
      "image/png": "[encoded data removed]",
      "text/plain": [
       "<Figure size 720x720 with 1 Axes>"
      ]
     },
     "metadata": {
      "needs_background": "light"
     },
     "output_type": "display_data"
    }
   ],
   "source": [
    "parcels_null_tract = parcels_centroid_census[parcels_centroid_census['trct_geoid'].isnull()]\n",
    "ax = parcels_null_tract.plot(figsize=(10, 10), alpha=0.5, edgecolor='k')\n",
    "ctx.add_basemap(ax)"
   ]
  },
  {
   "cell_type": "markdown",
   "metadata": {},
   "source": [
    "### Subset parcels_centroid_census geodataframe for upsert to Socrata"
   ]
  },
  {
   "cell_type": "code",
   "execution_count": 24,
   "metadata": {},
   "outputs": [],
   "source": [
    "sub_columns = ['parcel_id',\n",
    "               'blkg_geoid',\n",
    "               'trct_geoid']\n",
    "# upsert_df_socrata(parcels_centroid_census[sub_columns],\n",
    "#                   housing_site_db_id,\n",
    "#                   chunksize=100000)"
   ]
  },
  {
   "cell_type": "code",
   "execution_count": null,
   "metadata": {},
   "outputs": [],
   "source": []
  }
 ],
 "metadata": {
  "kernelspec": {
   "display_name": "Python 3",
   "language": "python",
   "name": "python3"
  },
  "language_info": {
   "codemirror_mode": {
    "name": "ipython",
    "version": 3
   },
   "file_extension": ".py",
   "mimetype": "text/x-python",
   "name": "python",
   "nbconvert_exporter": "python",
   "pygments_lexer": "ipython3",
   "version": "3.7.7"
  }
 },
 "nbformat": 4,
 "nbformat_minor": 4
}
