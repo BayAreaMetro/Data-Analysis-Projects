{
 "cells": [
  {
   "cell_type": "code",
   "execution_count": 1,
   "metadata": {},
   "outputs": [],
   "source": [
    "import os\n",
    "import sys\n",
    "import pandas as pd, geopandas as gp, matplotlib.pyplot as plt, numpy as np\n",
    "import json\n",
    "import fiona\n",
    "import sys\n",
    "import getpass\n",
    "import requests\n",
    "from shapely.geometry.polygon import Polygon\n",
    "from shapely.geometry.multipolygon import MultiPolygon\n",
    "\n",
    "user = getpass.getuser()\n",
    "sys.dont_write_bytecode = True\n",
    "\n",
    "sys.path.insert(0, '/Users/{}/Box/DataViz Projects/Utility Code'.format(user))\n",
    "\n",
    "from utils_io import *"
   ]
  },
  {
   "cell_type": "code",
   "execution_count": 2,
   "metadata": {},
   "outputs": [],
   "source": [
    "data_dir = '../../../Box/DataViz Projects/Data Analysis and Visualization/Housing Element Site Mapping and Pre-screening/data/'"
   ]
  },
  {
   "cell_type": "markdown",
   "metadata": {},
   "source": [
    "# RHNA Site Selection Pre-Screening Dataset Processing\n",
    "\n",
    "## Approach\n",
    "\n",
    "Develop a parcel-level dataset containing factors required by HCD as well as optional factors such as whether the site is located within a high opportunity area, or a transportation priority area, any floor area ratio requirements of the site, etc. The dataset will be developed from a combination of publically available datasets as well as datasets developed by MTC/ABAG from local governments and counties throughout the Bay Area.\n",
    "\n",
    "## Data Sources\n",
    "\n",
    "**[Data Sources Inventory](https://mtcdrive.app.box.com/file/700718735166)**"
   ]
  },
  {
   "cell_type": "markdown",
   "metadata": {},
   "source": [
    "### Create housing sites dataset on socrata"
   ]
  },
  {
   "cell_type": "code",
   "execution_count": 5,
   "metadata": {},
   "outputs": [
    {
     "name": "stdout",
     "output_type": "stream",
     "text": [
      "created dataset on Socrata with id: js6f-hc9f\n"
     ]
    },
    {
     "data": {
      "text/plain": [
       "{'id': 'js6f-hc9f',\n",
       " 'name': 'Housing Element Site Selection Parcels',\n",
       " 'averageRating': 0,\n",
       " 'category': 'Land & People',\n",
       " 'createdAt': 1597114828,\n",
       " 'description': 'This dataset contains regional parcels from 2018 with factors used to support development of a site selection pre-screening tool',\n",
       " 'displayType': 'table',\n",
       " 'downloadCount': 0,\n",
       " 'hideFromCatalog': False,\n",
       " 'hideFromDataJson': False,\n",
       " 'newBackend': True,\n",
       " 'numberOfComments': 0,\n",
       " 'oid': 34915233,\n",
       " 'provenance': 'official',\n",
       " 'publicationAppendEnabled': False,\n",
       " 'publicationGroup': 17431033,\n",
       " 'publicationStage': 'unpublished',\n",
       " 'rowIdentifierColumnId': 487265506,\n",
       " 'rowsUpdatedAt': 1597114828,\n",
       " 'tableId': 17431033,\n",
       " 'totalTimesRated': 0,\n",
       " 'viewCount': 0,\n",
       " 'viewLastModified': 1597114830,\n",
       " 'viewType': 'tabular',\n",
       " 'columns': [{'id': 487265506,\n",
       "   'name': 'joinid',\n",
       "   'dataTypeName': 'text',\n",
       "   'fieldName': 'joinid',\n",
       "   'position': 1,\n",
       "   'renderTypeName': 'text',\n",
       "   'tableColumnId': 111651495,\n",
       "   'format': {}},\n",
       "  {'id': 487265507,\n",
       "   'name': 'county_fips',\n",
       "   'dataTypeName': 'text',\n",
       "   'fieldName': 'fipco',\n",
       "   'position': 2,\n",
       "   'renderTypeName': 'text',\n",
       "   'tableColumnId': 111651496,\n",
       "   'format': {}},\n",
       "  {'id': 487265508,\n",
       "   'name': 'jurisdiction',\n",
       "   'dataTypeName': 'text',\n",
       "   'fieldName': 'jurisdict',\n",
       "   'position': 3,\n",
       "   'renderTypeName': 'text',\n",
       "   'tableColumnId': 111651497,\n",
       "   'format': {}},\n",
       "  {'id': 487265509,\n",
       "   'name': 'apn_formatted',\n",
       "   'dataTypeName': 'text',\n",
       "   'fieldName': 'apn_frm',\n",
       "   'position': 4,\n",
       "   'renderTypeName': 'text',\n",
       "   'tableColumnId': 111651498,\n",
       "   'format': {}},\n",
       "  {'id': 487265510,\n",
       "   'name': 'acres',\n",
       "   'dataTypeName': 'number',\n",
       "   'fieldName': 'acres',\n",
       "   'position': 5,\n",
       "   'renderTypeName': 'number',\n",
       "   'tableColumnId': 111651499,\n",
       "   'format': {}},\n",
       "  {'id': 487265511,\n",
       "   'name': 'existing_land_use',\n",
       "   'dataTypeName': 'text',\n",
       "   'fieldName': 'exist_lu',\n",
       "   'position': 6,\n",
       "   'renderTypeName': 'text',\n",
       "   'tableColumnId': 111651500,\n",
       "   'format': {}},\n",
       "  {'id': 487265512,\n",
       "   'name': 'planned_lu_zoning',\n",
       "   'dataTypeName': 'text',\n",
       "   'fieldName': 'plu_zoning',\n",
       "   'position': 7,\n",
       "   'renderTypeName': 'text',\n",
       "   'tableColumnId': 111651501,\n",
       "   'format': {}},\n",
       "  {'id': 487265513,\n",
       "   'name': 'planned_lu_general_plan',\n",
       "   'dataTypeName': 'text',\n",
       "   'fieldName': 'plu_gp',\n",
       "   'position': 8,\n",
       "   'renderTypeName': 'text',\n",
       "   'tableColumnId': 111651502,\n",
       "   'format': {}},\n",
       "  {'id': 487265514,\n",
       "   'name': 'public_ownership',\n",
       "   'dataTypeName': 'number',\n",
       "   'fieldName': 'public_own',\n",
       "   'position': 9,\n",
       "   'renderTypeName': 'number',\n",
       "   'tableColumnId': 111651503,\n",
       "   'format': {}},\n",
       "  {'id': 487265515,\n",
       "   'name': 'fair_market_rent',\n",
       "   'dataTypeName': 'number',\n",
       "   'fieldName': 'fmr',\n",
       "   'position': 10,\n",
       "   'renderTypeName': 'number',\n",
       "   'tableColumnId': 111651504,\n",
       "   'format': {}},\n",
       "  {'id': 487265516,\n",
       "   'name': 'tract_geoid',\n",
       "   'dataTypeName': 'text',\n",
       "   'fieldName': 'tract_geoi',\n",
       "   'position': 11,\n",
       "   'renderTypeName': 'text',\n",
       "   'tableColumnId': 111651505,\n",
       "   'format': {}},\n",
       "  {'id': 487265517,\n",
       "   'name': 'block_geoid',\n",
       "   'dataTypeName': 'text',\n",
       "   'fieldName': 'block_geoi',\n",
       "   'position': 12,\n",
       "   'renderTypeName': 'text',\n",
       "   'tableColumnId': 111651506,\n",
       "   'format': {}},\n",
       "  {'id': 487265518,\n",
       "   'name': 'hcd_community_resource_level',\n",
       "   'dataTypeName': 'text',\n",
       "   'fieldName': 'resi_level',\n",
       "   'position': 13,\n",
       "   'renderTypeName': 'text',\n",
       "   'tableColumnId': 111651507,\n",
       "   'format': {}},\n",
       "  {'id': 487265519,\n",
       "   'name': 'calfire_fire_risk',\n",
       "   'dataTypeName': 'text',\n",
       "   'fieldName': 'fire_risk',\n",
       "   'position': 14,\n",
       "   'renderTypeName': 'text',\n",
       "   'tableColumnId': 111651508,\n",
       "   'format': {}},\n",
       "  {'id': 487265520,\n",
       "   'name': 'bcdc_sea_level_rise',\n",
       "   'dataTypeName': 'number',\n",
       "   'fieldName': 'sea_level',\n",
       "   'position': 15,\n",
       "   'renderTypeName': 'number',\n",
       "   'tableColumnId': 111651509,\n",
       "   'format': {}},\n",
       "  {'id': 487265521,\n",
       "   'name': 'cal_protected_area_database',\n",
       "   'dataTypeName': 'number',\n",
       "   'fieldName': 'cpad',\n",
       "   'position': 16,\n",
       "   'renderTypeName': 'number',\n",
       "   'tableColumnId': 111651510,\n",
       "   'format': {}},\n",
       "  {'id': 487265522,\n",
       "   'name': 'urban_service_area',\n",
       "   'dataTypeName': 'number',\n",
       "   'fieldName': 'urban_serv',\n",
       "   'position': 17,\n",
       "   'renderTypeName': 'number',\n",
       "   'tableColumnId': 111651511,\n",
       "   'format': {}},\n",
       "  {'id': 487265523,\n",
       "   'name': 'transit_rich_area',\n",
       "   'dataTypeName': 'number',\n",
       "   'fieldName': 'tra',\n",
       "   'position': 18,\n",
       "   'renderTypeName': 'number',\n",
       "   'tableColumnId': 111651512,\n",
       "   'format': {}},\n",
       "  {'id': 487265524,\n",
       "   'name': 'rhna_5',\n",
       "   'dataTypeName': 'number',\n",
       "   'fieldName': 'rhna_5',\n",
       "   'position': 19,\n",
       "   'renderTypeName': 'number',\n",
       "   'tableColumnId': 111651513,\n",
       "   'format': {}},\n",
       "  {'id': 487265525,\n",
       "   'name': 'rhna_4',\n",
       "   'dataTypeName': 'number',\n",
       "   'fieldName': 'rhna_4',\n",
       "   'position': 20,\n",
       "   'renderTypeName': 'number',\n",
       "   'tableColumnId': 111651514,\n",
       "   'format': {}},\n",
       "  {'id': 487265526,\n",
       "   'name': 'bldg_permi',\n",
       "   'dataTypeName': 'number',\n",
       "   'fieldName': 'bldg_permi',\n",
       "   'position': 21,\n",
       "   'renderTypeName': 'number',\n",
       "   'tableColumnId': 111651515,\n",
       "   'format': {}},\n",
       "  {'id': 487265527,\n",
       "   'name': 'vehicle_miles_traveled',\n",
       "   'dataTypeName': 'number',\n",
       "   'fieldName': 'vmt',\n",
       "   'position': 22,\n",
       "   'renderTypeName': 'number',\n",
       "   'tableColumnId': 111651516,\n",
       "   'format': {}},\n",
       "  {'id': 487265528,\n",
       "   'name': 'x_centroid',\n",
       "   'dataTypeName': 'number',\n",
       "   'fieldName': 'x_centroid',\n",
       "   'position': 23,\n",
       "   'renderTypeName': 'number',\n",
       "   'tableColumnId': 111651517,\n",
       "   'format': {}},\n",
       "  {'id': 487265529,\n",
       "   'name': 'y_centroid',\n",
       "   'dataTypeName': 'number',\n",
       "   'fieldName': 'y_centroid',\n",
       "   'position': 24,\n",
       "   'renderTypeName': 'number',\n",
       "   'tableColumnId': 111651518,\n",
       "   'format': {}},\n",
       "  {'id': 487265530,\n",
       "   'name': 'geometry',\n",
       "   'dataTypeName': 'multipolygon',\n",
       "   'fieldName': 'geometry',\n",
       "   'position': 25,\n",
       "   'renderTypeName': 'multipolygon',\n",
       "   'tableColumnId': 111651519,\n",
       "   'format': {}}],\n",
       " 'metadata': {'rowIdentifier': 487265506},\n",
       " 'owner': {'id': 'rk9g-f4it',\n",
       "  'displayName': 'Joshua Croff',\n",
       "  'profileImageUrlLarge': '/api/users/rk9g-f4it/profile_images/LARGE',\n",
       "  'profileImageUrlMedium': '/api/users/rk9g-f4it/profile_images/THUMB',\n",
       "  'profileImageUrlSmall': '/api/users/rk9g-f4it/profile_images/TINY',\n",
       "  'screenName': 'Joshua Croff',\n",
       "  'type': 'interactive',\n",
       "  'userSegment': 'site_member',\n",
       "  'flags': ['acceptedEula', 'mayBeStoriesCoOwner', 'siteMember']},\n",
       " 'permissions': {'scope': 'private',\n",
       "  'accessLevels': [{'name': 'viewer', 'version': 'published'},\n",
       "   {'name': 'owner', 'version': 'all'}],\n",
       "  'users': [{'id': 'rk9g-f4it',\n",
       "    'displayName': 'Joshua Croff',\n",
       "    'email': 'jcroff@bayareametro.gov',\n",
       "    'type': 'interactive',\n",
       "    'accessLevels': [{'name': 'current_owner', 'version': 'all'}]}]},\n",
       " 'query': {},\n",
       " 'rights': ['read',\n",
       "  'write',\n",
       "  'add',\n",
       "  'delete',\n",
       "  'grant',\n",
       "  'add_column',\n",
       "  'remove_column',\n",
       "  'update_column',\n",
       "  'update_view',\n",
       "  'delete_view',\n",
       "  'transfer_ownership',\n",
       "  'manage_provenance'],\n",
       " 'tableAuthor': {'id': 'rk9g-f4it',\n",
       "  'displayName': 'Joshua Croff',\n",
       "  'profileImageUrlLarge': '/api/users/rk9g-f4it/profile_images/LARGE',\n",
       "  'profileImageUrlMedium': '/api/users/rk9g-f4it/profile_images/THUMB',\n",
       "  'profileImageUrlSmall': '/api/users/rk9g-f4it/profile_images/TINY',\n",
       "  'screenName': 'Joshua Croff',\n",
       "  'type': 'interactive',\n",
       "  'userSegment': 'site_member',\n",
       "  'flags': ['acceptedEula', 'mayBeStoriesCoOwner', 'siteMember']},\n",
       " 'tags': ['housing',\n",
       "  'housing element',\n",
       "  'site selection',\n",
       "  'hcd',\n",
       "  'housing and community development',\n",
       "  'rhna'],\n",
       " 'flags': ['default']}"
      ]
     },
     "execution_count": 5,
     "metadata": {},
     "output_type": "execute_result"
    }
   ],
   "source": [
    "dataset_name= 'Housing Element Site Selection Parcels'\n",
    "dataset_desc= 'This dataset contains regional parcels from 2018 with factors used to support development of a site selection pre-screening tool'\n",
    "columns = [{'fieldName': 'joinid', 'name': 'joinid' , 'dataTypeName': 'text'},\n",
    "          {'fieldName': 'fipco', 'name': 'county_fips' , 'dataTypeName': 'text'},\n",
    "          {'fieldName': 'jurisdict', 'name': 'jurisdiction' , 'dataTypeName': 'text'},\n",
    "          {'fieldName': 'apn_frm', 'name': 'apn_formatted' , 'dataTypeName': 'text'},\n",
    "          {'fieldName': 'acres', 'name': 'acres' , 'dataTypeName': 'number'},\n",
    "           {'fieldName': 'exist_lu', 'name': 'existing_land_use' , 'dataTypeName': 'text'},\n",
    "           {'fieldName': 'plu_zoning', 'name': 'planned_lu_zoning' , 'dataTypeName': 'text'},\n",
    "           {'fieldName': 'plu_gp', 'name': 'planned_lu_general_plan' , 'dataTypeName': 'text'},\n",
    "           {'fieldName': 'public_own', 'name': 'public_ownership' , 'dataTypeName': 'number'},\n",
    "           {'fieldName': 'fmr', 'name': 'fair_market_rent' , 'dataTypeName': 'number'},\n",
    "          {'fieldName': 'tract_geoi', 'name': 'tract_geoid' , 'dataTypeName': 'text'},\n",
    "           {'fieldName': 'block_geoi', 'name': 'block_geoid' , 'dataTypeName': 'text'},\n",
    "           {'fieldName': 'resi_level', 'name': 'hcd_community_resource_level' , 'dataTypeName': 'text'},\n",
    "           {'fieldName': 'fire_risk', 'name': 'calfire_fire_risk' , 'dataTypeName': 'text'},\n",
    "           {'fieldName': 'sea_level', 'name': 'bcdc_sea_level_rise' , 'dataTypeName': 'number'},\n",
    "           {'fieldName': 'cpad', 'name': 'cal_protected_area_database' , 'dataTypeName': 'number'},\n",
    "           {'fieldName': 'urban_serv', 'name': 'urban_service_area' , 'dataTypeName': 'number'},\n",
    "           {'fieldName': 'tra', 'name': 'transit_rich_area' , 'dataTypeName': 'number'},\n",
    "           {'fieldName': 'rhna_5', 'name': 'rhna_5' , 'dataTypeName': 'number'},\n",
    "           {'fieldName': 'rhna_4', 'name': 'rhna_4' , 'dataTypeName': 'number'},\n",
    "           {'fieldName': 'bldg_permi', 'name': 'bldg_permi' , 'dataTypeName': 'number'},\n",
    "           {'fieldName': 'vmt', 'name': 'vehicle_miles_traveled' , 'dataTypeName': 'number'},\n",
    "           {'fieldName': 'x_centroid', 'name': 'x_centroid' , 'dataTypeName': 'number'},\n",
    "           {'fieldName': 'y_centroid', 'name': 'y_centroid' , 'dataTypeName': 'number'},\n",
    "          {'fieldName': 'geometry', 'name': 'geometry' , 'dataTypeName': 'multipolygon'}]\n",
    "category= 'Land & People'\n",
    "tags = ['housing','housing element','site selection','hcd','housing and community development','rhna']\n",
    "row_identifier='joinid'\n",
    "create_socrata_dataset(dataset_name,dataset_desc,columns,category,tags,row_identifier)"
   ]
  },
  {
   "cell_type": "code",
   "execution_count": 6,
   "metadata": {},
   "outputs": [],
   "source": [
    "#Socrata housing site selection db 4x4\n",
    "housing_site_db_id = 'js6f-hc9f'"
   ]
  },
  {
   "cell_type": "markdown",
   "metadata": {},
   "source": [
    "### Pull regional parcel data from Socrata as geojson"
   ]
  },
  {
   "cell_type": "code",
   "execution_count": null,
   "metadata": {},
   "outputs": [
    {
     "name": "stdout",
     "output_type": "stream",
     "text": [
      "pulling 2142255 rows as geojson\n"
     ]
    }
   ],
   "source": [
    "parcel_geojson = pull_geojson_from_socrata('pu8t-xzre')"
   ]
  },
  {
   "cell_type": "code",
   "execution_count": null,
   "metadata": {},
   "outputs": [],
   "source": [
    "parcel_geojson['features']"
   ]
  },
  {
   "cell_type": "code",
   "execution_count": null,
   "metadata": {},
   "outputs": [],
   "source": [
    "# Convert to geojson to geodataframe\n",
    "parcel_columns = ['joinid',\n",
    "                  'fipco',\n",
    "                  'jurisdict',\n",
    "                  'apn_frm',\n",
    "                  'acres',\n",
    "                  'geometry']\n",
    "parcels = gp.GeoDataFrame.from_features(parcel_geojson['features'],columns=parcel_columns,crs={'init': 'epsg:4326'})"
   ]
  },
  {
   "cell_type": "code",
   "execution_count": null,
   "metadata": {},
   "outputs": [],
   "source": [
    "parcels.crs"
   ]
  },
  {
   "cell_type": "code",
   "execution_count": null,
   "metadata": {},
   "outputs": [],
   "source": [
    "parcels.info()"
   ]
  },
  {
   "cell_type": "code",
   "execution_count": 19,
   "metadata": {},
   "outputs": [
    {
     "name": "stderr",
     "output_type": "stream",
     "text": [
      "/Users/jcroff/anaconda3/envs/geo_env/lib/python3.7/site-packages/pyproj/crs/crs.py:53: FutureWarning: '+init=<authority>:<code>' syntax is deprecated. '<authority>:<code>' is the preferred initialization method. When making the change, be mindful of axis order changes: https://pyproj4.github.io/pyproj/stable/gotchas.html#axis-order-changes-in-proj-6\n",
      "  return _prepare_from_string(\" \".join(pjargs))\n"
     ]
    }
   ],
   "source": [
    "# Project parcels for later area overlay work\n",
    "parcels_nad83 = parcels.to_crs(epsg='26910')"
   ]
  },
  {
   "cell_type": "code",
   "execution_count": 20,
   "metadata": {},
   "outputs": [],
   "source": [
    "# Create area column for later overlay work\n",
    "parcels_nad83['parcel_area'] = parcels_nad83['geometry'].area"
   ]
  },
  {
   "cell_type": "markdown",
   "metadata": {},
   "source": [
    "### Query Census TIGER Tracts to get Bay Area Census Tracts\n",
    "#### [Census TIGERweb REST API Documentation](https://tigerweb.geo.census.gov/tigerwebmain/TIGERweb_restmapservice.html)\n",
    "\n",
    "This is a pre-step for later work. Many of the overlay datasets contant Census tract geography level data. This step will create a crosswalk between parcels and Census tracts, using a 'maximal overlay' method. \n",
    "\n",
    "- Where a given parcel is split by a census tract, the parcel will get the GEOID of the largest intersecting area. "
   ]
  },
  {
   "cell_type": "code",
   "execution_count": 21,
   "metadata": {},
   "outputs": [],
   "source": [
    "state = \"'06'\"\n",
    "counties = \"('001','013','041','055','075','081','085','095','097')\"\n",
    "url = 'https://tigerweb.geo.census.gov/arcgis/rest/services/Generalized_ACS2018/Tracts_Blocks/MapServer/3/query?where=STATE={state}+AND+COUNTY+IN{counties}&outFields=GEOID&f=geojson'.format(state=state,counties=counties)"
   ]
  },
  {
   "cell_type": "code",
   "execution_count": 22,
   "metadata": {},
   "outputs": [
    {
     "name": "stdout",
     "output_type": "stream",
     "text": [
      "https://tigerweb.geo.census.gov/arcgis/rest/services/Generalized_ACS2018/Tracts_Blocks/MapServer/3/query?where=STATE='06'+AND+COUNTY+IN('001','013','041','055','075','081','085','095','097')&outFields=GEOID&f=geojson\n"
     ]
    }
   ],
   "source": [
    "print(url)"
   ]
  },
  {
   "cell_type": "code",
   "execution_count": 25,
   "metadata": {},
   "outputs": [],
   "source": [
    "geo_rq = requests.get(url)\n",
    "tracts_json = geo_rq.json()"
   ]
  },
  {
   "cell_type": "code",
   "execution_count": 28,
   "metadata": {},
   "outputs": [],
   "source": [
    "tracts_2018 = gp.GeoDataFrame.from_features(tracts_json['features'],crs=tracts_json['crs']['properties']['name'])"
   ]
  },
  {
   "cell_type": "code",
   "execution_count": 29,
   "metadata": {},
   "outputs": [
    {
     "data": {
      "text/plain": [
       "'EPSG:4326'"
      ]
     },
     "execution_count": 29,
     "metadata": {},
     "output_type": "execute_result"
    }
   ],
   "source": [
    "tracts_2018.crs"
   ]
  },
  {
   "cell_type": "code",
   "execution_count": 34,
   "metadata": {},
   "outputs": [
    {
     "name": "stderr",
     "output_type": "stream",
     "text": [
      "/Users/jcroff/anaconda3/envs/geo_env/lib/python3.7/site-packages/pyproj/crs/crs.py:53: FutureWarning: '+init=<authority>:<code>' syntax is deprecated. '<authority>:<code>' is the preferred initialization method. When making the change, be mindful of axis order changes: https://pyproj4.github.io/pyproj/stable/gotchas.html#axis-order-changes-in-proj-6\n",
      "  return _prepare_from_string(\" \".join(pjargs))\n"
     ]
    }
   ],
   "source": [
    "#project to NAD83 UTMZ10N \n",
    "tracts_nad83_2018 = tracts_2018.to_crs(epsg='26910')"
   ]
  },
  {
   "cell_type": "code",
   "execution_count": 35,
   "metadata": {},
   "outputs": [
    {
     "data": {
      "text/plain": [
       "{'init': 'epsg:26910', 'no_defs': True}"
      ]
     },
     "execution_count": 35,
     "metadata": {},
     "output_type": "execute_result"
    }
   ],
   "source": [
    "tracts_nad83_2018.crs"
   ]
  },
  {
   "cell_type": "code",
   "execution_count": 36,
   "metadata": {},
   "outputs": [
    {
     "name": "stdout",
     "output_type": "stream",
     "text": [
      "<class 'geopandas.geodataframe.GeoDataFrame'>\n",
      "RangeIndex: 1582 entries, 0 to 1581\n",
      "Data columns (total 2 columns):\n",
      " #   Column    Non-Null Count  Dtype   \n",
      "---  ------    --------------  -----   \n",
      " 0   geometry  1582 non-null   geometry\n",
      " 1   GEOID     1582 non-null   object  \n",
      "dtypes: geometry(1), object(1)\n",
      "memory usage: 24.8+ KB\n"
     ]
    }
   ],
   "source": [
    "tracts_nad83_2018.info()"
   ]
  },
  {
   "cell_type": "code",
   "execution_count": 37,
   "metadata": {},
   "outputs": [
    {
     "data": {
      "text/html": [
       "<div>\n",
       "<style scoped>\n",
       "    .dataframe tbody tr th:only-of-type {\n",
       "        vertical-align: middle;\n",
       "    }\n",
       "\n",
       "    .dataframe tbody tr th {\n",
       "        vertical-align: top;\n",
       "    }\n",
       "\n",
       "    .dataframe thead th {\n",
       "        text-align: right;\n",
       "    }\n",
       "</style>\n",
       "<table border=\"1\" class=\"dataframe\">\n",
       "  <thead>\n",
       "    <tr style=\"text-align: right;\">\n",
       "      <th></th>\n",
       "      <th>geometry</th>\n",
       "      <th>GEOID</th>\n",
       "    </tr>\n",
       "  </thead>\n",
       "  <tbody>\n",
       "    <tr>\n",
       "      <th>0</th>\n",
       "      <td>POLYGON ((566221.610 4193371.510, 566230.454 4...</td>\n",
       "      <td>06001400100</td>\n",
       "    </tr>\n",
       "    <tr>\n",
       "      <th>1</th>\n",
       "      <td>POLYGON ((565335.837 4188666.188, 565291.836 4...</td>\n",
       "      <td>06001400200</td>\n",
       "    </tr>\n",
       "    <tr>\n",
       "      <th>2</th>\n",
       "      <td>POLYGON ((564744.993 4188317.651, 564617.972 4...</td>\n",
       "      <td>06001400300</td>\n",
       "    </tr>\n",
       "    <tr>\n",
       "      <th>3</th>\n",
       "      <td>POLYGON ((563531.244 4189141.694, 563523.259 4...</td>\n",
       "      <td>06001400700</td>\n",
       "    </tr>\n",
       "    <tr>\n",
       "      <th>4</th>\n",
       "      <td>POLYGON ((562575.022 4189406.534, 562653.620 4...</td>\n",
       "      <td>06001400800</td>\n",
       "    </tr>\n",
       "  </tbody>\n",
       "</table>\n",
       "</div>"
      ],
      "text/plain": [
       "                                            geometry        GEOID\n",
       "0  POLYGON ((566221.610 4193371.510, 566230.454 4...  06001400100\n",
       "1  POLYGON ((565335.837 4188666.188, 565291.836 4...  06001400200\n",
       "2  POLYGON ((564744.993 4188317.651, 564617.972 4...  06001400300\n",
       "3  POLYGON ((563531.244 4189141.694, 563523.259 4...  06001400700\n",
       "4  POLYGON ((562575.022 4189406.534, 562653.620 4...  06001400800"
      ]
     },
     "execution_count": 37,
     "metadata": {},
     "output_type": "execute_result"
    }
   ],
   "source": [
    "tracts_nad83_2018.head(5)"
   ]
  },
  {
   "cell_type": "code",
   "execution_count": 39,
   "metadata": {},
   "outputs": [
    {
     "data": {
      "image/png": "[encoded data removed]",
      "text/plain": [
       "<Figure size 720x720 with 1 Axes>"
      ]
     },
     "metadata": {
      "needs_background": "light"
     },
     "output_type": "display_data"
    }
   ],
   "source": [
    "tracts_nad83_2018.plot(figsize=(10,10));"
   ]
  },
  {
   "cell_type": "code",
   "execution_count": 40,
   "metadata": {},
   "outputs": [],
   "source": [
    "#Perform overlay on parcels and tracts\n",
    "parcels_tracts = gp.overlay(parcels_nad83,tracts_nad83_2018,how='intersection')"
   ]
  },
  {
   "cell_type": "code",
   "execution_count": 41,
   "metadata": {},
   "outputs": [
    {
     "data": {
      "text/html": [
       "<div>\n",
       "<style scoped>\n",
       "    .dataframe tbody tr th:only-of-type {\n",
       "        vertical-align: middle;\n",
       "    }\n",
       "\n",
       "    .dataframe tbody tr th {\n",
       "        vertical-align: top;\n",
       "    }\n",
       "\n",
       "    .dataframe thead th {\n",
       "        text-align: right;\n",
       "    }\n",
       "</style>\n",
       "<table border=\"1\" class=\"dataframe\">\n",
       "  <thead>\n",
       "    <tr style=\"text-align: right;\">\n",
       "      <th></th>\n",
       "      <th>joinid</th>\n",
       "      <th>fipco</th>\n",
       "      <th>jurisdict</th>\n",
       "      <th>apn_frm</th>\n",
       "      <th>acres</th>\n",
       "      <th>parcel_area</th>\n",
       "      <th>GEOID</th>\n",
       "      <th>geometry</th>\n",
       "    </tr>\n",
       "  </thead>\n",
       "  <tbody>\n",
       "    <tr>\n",
       "      <th>0</th>\n",
       "      <td>AL000001</td>\n",
       "      <td>CA001</td>\n",
       "      <td>Oakland</td>\n",
       "      <td>48-6298-68</td>\n",
       "      <td>0.624495957805855</td>\n",
       "      <td>2527.247971</td>\n",
       "      <td>06001409900</td>\n",
       "      <td>POLYGON ((577484.450 4179131.291, 577447.475 4...</td>\n",
       "    </tr>\n",
       "    <tr>\n",
       "      <th>1</th>\n",
       "      <td>AL000002</td>\n",
       "      <td>CA001</td>\n",
       "      <td>Oakland</td>\n",
       "      <td>48-6298-3-2</td>\n",
       "      <td>0.149729127668363</td>\n",
       "      <td>605.931046</td>\n",
       "      <td>06001409900</td>\n",
       "      <td>POLYGON ((577178.793 4179073.245, 577149.444 4...</td>\n",
       "    </tr>\n",
       "    <tr>\n",
       "      <th>2</th>\n",
       "      <td>AL000003</td>\n",
       "      <td>CA001</td>\n",
       "      <td>Oakland</td>\n",
       "      <td>48-6299-71</td>\n",
       "      <td>0.163234864052674</td>\n",
       "      <td>660.589139</td>\n",
       "      <td>06001409900</td>\n",
       "      <td>POLYGON ((577235.731 4178674.276, 577209.595 4...</td>\n",
       "    </tr>\n",
       "    <tr>\n",
       "      <th>3</th>\n",
       "      <td>AL000004</td>\n",
       "      <td>CA001</td>\n",
       "      <td>Oakland</td>\n",
       "      <td>48-6313-23</td>\n",
       "      <td>0.267472543150323</td>\n",
       "      <td>1082.425616</td>\n",
       "      <td>06001409900</td>\n",
       "      <td>POLYGON ((577074.180 4178914.001, 577060.690 4...</td>\n",
       "    </tr>\n",
       "    <tr>\n",
       "      <th>4</th>\n",
       "      <td>AL000005</td>\n",
       "      <td>CA001</td>\n",
       "      <td>Oakland</td>\n",
       "      <td>48-6432-39</td>\n",
       "      <td>0.401868448364306</td>\n",
       "      <td>1626.304574</td>\n",
       "      <td>06001409900</td>\n",
       "      <td>POLYGON ((576758.579 4179818.295, 576715.002 4...</td>\n",
       "    </tr>\n",
       "  </tbody>\n",
       "</table>\n",
       "</div>"
      ],
      "text/plain": [
       "     joinid  fipco jurisdict      apn_frm              acres  parcel_area  \\\n",
       "0  AL000001  CA001   Oakland   48-6298-68  0.624495957805855  2527.247971   \n",
       "1  AL000002  CA001   Oakland  48-6298-3-2  0.149729127668363   605.931046   \n",
       "2  AL000003  CA001   Oakland   48-6299-71  0.163234864052674   660.589139   \n",
       "3  AL000004  CA001   Oakland   48-6313-23  0.267472543150323  1082.425616   \n",
       "4  AL000005  CA001   Oakland   48-6432-39  0.401868448364306  1626.304574   \n",
       "\n",
       "         GEOID                                           geometry  \n",
       "0  06001409900  POLYGON ((577484.450 4179131.291, 577447.475 4...  \n",
       "1  06001409900  POLYGON ((577178.793 4179073.245, 577149.444 4...  \n",
       "2  06001409900  POLYGON ((577235.731 4178674.276, 577209.595 4...  \n",
       "3  06001409900  POLYGON ((577074.180 4178914.001, 577060.690 4...  \n",
       "4  06001409900  POLYGON ((576758.579 4179818.295, 576715.002 4...  "
      ]
     },
     "execution_count": 41,
     "metadata": {},
     "output_type": "execute_result"
    }
   ],
   "source": [
    "parcels_tracts.head(5)"
   ]
  },
  {
   "cell_type": "code",
   "execution_count": 42,
   "metadata": {},
   "outputs": [],
   "source": [
    "#Calculate overlay area\n",
    "parcels_tracts['area_overlay'] = parcels_tracts['geometry'].area"
   ]
  },
  {
   "cell_type": "code",
   "execution_count": 44,
   "metadata": {},
   "outputs": [],
   "source": [
    "#Calculate overlay ratio\n",
    "parcels_tracts['pct_overlay'] = parcels_tracts['parcel_area'] / parcels_tracts['area_overlay']"
   ]
  },
  {
   "cell_type": "code",
   "execution_count": 45,
   "metadata": {},
   "outputs": [
    {
     "data": {
      "text/html": [
       "<div>\n",
       "<style scoped>\n",
       "    .dataframe tbody tr th:only-of-type {\n",
       "        vertical-align: middle;\n",
       "    }\n",
       "\n",
       "    .dataframe tbody tr th {\n",
       "        vertical-align: top;\n",
       "    }\n",
       "\n",
       "    .dataframe thead th {\n",
       "        text-align: right;\n",
       "    }\n",
       "</style>\n",
       "<table border=\"1\" class=\"dataframe\">\n",
       "  <thead>\n",
       "    <tr style=\"text-align: right;\">\n",
       "      <th></th>\n",
       "      <th>joinid</th>\n",
       "      <th>fipco</th>\n",
       "      <th>jurisdict</th>\n",
       "      <th>apn_frm</th>\n",
       "      <th>acres</th>\n",
       "      <th>parcel_area</th>\n",
       "      <th>GEOID</th>\n",
       "      <th>geometry</th>\n",
       "      <th>area_overlay</th>\n",
       "      <th>pct_overlay</th>\n",
       "    </tr>\n",
       "  </thead>\n",
       "  <tbody>\n",
       "    <tr>\n",
       "      <th>0</th>\n",
       "      <td>AL000001</td>\n",
       "      <td>CA001</td>\n",
       "      <td>Oakland</td>\n",
       "      <td>48-6298-68</td>\n",
       "      <td>0.624495957805855</td>\n",
       "      <td>2527.247971</td>\n",
       "      <td>06001409900</td>\n",
       "      <td>POLYGON ((577484.450 4179131.291, 577447.475 4...</td>\n",
       "      <td>2527.247971</td>\n",
       "      <td>1.0</td>\n",
       "    </tr>\n",
       "    <tr>\n",
       "      <th>1</th>\n",
       "      <td>AL000002</td>\n",
       "      <td>CA001</td>\n",
       "      <td>Oakland</td>\n",
       "      <td>48-6298-3-2</td>\n",
       "      <td>0.149729127668363</td>\n",
       "      <td>605.931046</td>\n",
       "      <td>06001409900</td>\n",
       "      <td>POLYGON ((577178.793 4179073.245, 577149.444 4...</td>\n",
       "      <td>605.931046</td>\n",
       "      <td>1.0</td>\n",
       "    </tr>\n",
       "    <tr>\n",
       "      <th>2</th>\n",
       "      <td>AL000003</td>\n",
       "      <td>CA001</td>\n",
       "      <td>Oakland</td>\n",
       "      <td>48-6299-71</td>\n",
       "      <td>0.163234864052674</td>\n",
       "      <td>660.589139</td>\n",
       "      <td>06001409900</td>\n",
       "      <td>POLYGON ((577235.731 4178674.276, 577209.595 4...</td>\n",
       "      <td>660.589139</td>\n",
       "      <td>1.0</td>\n",
       "    </tr>\n",
       "    <tr>\n",
       "      <th>3</th>\n",
       "      <td>AL000004</td>\n",
       "      <td>CA001</td>\n",
       "      <td>Oakland</td>\n",
       "      <td>48-6313-23</td>\n",
       "      <td>0.267472543150323</td>\n",
       "      <td>1082.425616</td>\n",
       "      <td>06001409900</td>\n",
       "      <td>POLYGON ((577074.180 4178914.001, 577060.690 4...</td>\n",
       "      <td>1082.425616</td>\n",
       "      <td>1.0</td>\n",
       "    </tr>\n",
       "    <tr>\n",
       "      <th>4</th>\n",
       "      <td>AL000005</td>\n",
       "      <td>CA001</td>\n",
       "      <td>Oakland</td>\n",
       "      <td>48-6432-39</td>\n",
       "      <td>0.401868448364306</td>\n",
       "      <td>1626.304574</td>\n",
       "      <td>06001409900</td>\n",
       "      <td>POLYGON ((576758.579 4179818.295, 576715.002 4...</td>\n",
       "      <td>1626.304574</td>\n",
       "      <td>1.0</td>\n",
       "    </tr>\n",
       "  </tbody>\n",
       "</table>\n",
       "</div>"
      ],
      "text/plain": [
       "     joinid  fipco jurisdict      apn_frm              acres  parcel_area  \\\n",
       "0  AL000001  CA001   Oakland   48-6298-68  0.624495957805855  2527.247971   \n",
       "1  AL000002  CA001   Oakland  48-6298-3-2  0.149729127668363   605.931046   \n",
       "2  AL000003  CA001   Oakland   48-6299-71  0.163234864052674   660.589139   \n",
       "3  AL000004  CA001   Oakland   48-6313-23  0.267472543150323  1082.425616   \n",
       "4  AL000005  CA001   Oakland   48-6432-39  0.401868448364306  1626.304574   \n",
       "\n",
       "         GEOID                                           geometry  \\\n",
       "0  06001409900  POLYGON ((577484.450 4179131.291, 577447.475 4...   \n",
       "1  06001409900  POLYGON ((577178.793 4179073.245, 577149.444 4...   \n",
       "2  06001409900  POLYGON ((577235.731 4178674.276, 577209.595 4...   \n",
       "3  06001409900  POLYGON ((577074.180 4178914.001, 577060.690 4...   \n",
       "4  06001409900  POLYGON ((576758.579 4179818.295, 576715.002 4...   \n",
       "\n",
       "   area_overlay  pct_overlay  \n",
       "0   2527.247971          1.0  \n",
       "1    605.931046          1.0  \n",
       "2    660.589139          1.0  \n",
       "3   1082.425616          1.0  \n",
       "4   1626.304574          1.0  "
      ]
     },
     "execution_count": 45,
     "metadata": {},
     "output_type": "execute_result"
    }
   ],
   "source": [
    "parcels_tracts.head(5)"
   ]
  },
  {
   "cell_type": "code",
   "execution_count": 46,
   "metadata": {},
   "outputs": [
    {
     "name": "stdout",
     "output_type": "stream",
     "text": [
      "<class 'geopandas.geodataframe.GeoDataFrame'>\n",
      "RangeIndex: 2180367 entries, 0 to 2180366\n",
      "Data columns (total 10 columns):\n",
      " #   Column        Dtype   \n",
      "---  ------        -----   \n",
      " 0   joinid        object  \n",
      " 1   fipco         object  \n",
      " 2   jurisdict     object  \n",
      " 3   apn_frm       object  \n",
      " 4   acres         object  \n",
      " 5   parcel_area   float64 \n",
      " 6   GEOID         object  \n",
      " 7   geometry      geometry\n",
      " 8   area_overlay  float64 \n",
      " 9   pct_overlay   float64 \n",
      "dtypes: float64(3), geometry(1), object(6)\n",
      "memory usage: 166.3+ MB\n"
     ]
    }
   ],
   "source": [
    "parcels_tracts.info()"
   ]
  },
  {
   "cell_type": "code",
   "execution_count": 190,
   "metadata": {},
   "outputs": [],
   "source": [
    "#Find maximal overlay of tracts with parcels\n",
    "parcels_tracts_max_overlay = parcels_tracts.iloc[parcels_tracts.groupby(['joinid'])['pct_overlay'].idxmax()].copy()"
   ]
  },
  {
   "cell_type": "code",
   "execution_count": 191,
   "metadata": {},
   "outputs": [
    {
     "name": "stdout",
     "output_type": "stream",
     "text": [
      "<class 'geopandas.geodataframe.GeoDataFrame'>\n",
      "Int64Index: 2141080 entries, 0 to 2121844\n",
      "Data columns (total 10 columns):\n",
      " #   Column        Dtype   \n",
      "---  ------        -----   \n",
      " 0   joinid        object  \n",
      " 1   fipco         object  \n",
      " 2   jurisdict     object  \n",
      " 3   apn_frm       object  \n",
      " 4   acres         object  \n",
      " 5   parcel_area   float64 \n",
      " 6   GEOID         object  \n",
      " 7   geometry      geometry\n",
      " 8   area_overlay  float64 \n",
      " 9   pct_overlay   float64 \n",
      "dtypes: float64(3), geometry(1), object(6)\n",
      "memory usage: 179.7+ MB\n"
     ]
    }
   ],
   "source": [
    "parcels_tracts_max_overlay.info()"
   ]
  },
  {
   "cell_type": "code",
   "execution_count": 192,
   "metadata": {},
   "outputs": [],
   "source": [
    "#Join parcel overlay subset back to full set of parcels\n",
    "parcels_tracts_max_overlay_full = pd.merge(parcels,\n",
    "                                           parcels_tracts_max_overlay[['joinid','GEOID']],\n",
    "                                          on='joinid',\n",
    "                                          how='left')"
   ]
  },
  {
   "cell_type": "code",
   "execution_count": 193,
   "metadata": {},
   "outputs": [],
   "source": [
    "#Rename columns before upsert to socrata\n",
    "columns = {'GEOID': 'census_geoid'}\n",
    "parcels_tracts_max_overlay_full.rename(columns=columns,inplace=True)"
   ]
  },
  {
   "cell_type": "code",
   "execution_count": 194,
   "metadata": {},
   "outputs": [
    {
     "name": "stdout",
     "output_type": "stream",
     "text": [
      "<class 'geopandas.geodataframe.GeoDataFrame'>\n",
      "Int64Index: 2142255 entries, 0 to 2142254\n",
      "Data columns (total 7 columns):\n",
      " #   Column        Dtype   \n",
      "---  ------        -----   \n",
      " 0   joinid        object  \n",
      " 1   fipco         object  \n",
      " 2   jurisdict     object  \n",
      " 3   apn_frm       object  \n",
      " 4   acres         object  \n",
      " 5   geometry      geometry\n",
      " 6   census_geoid  object  \n",
      "dtypes: geometry(1), object(6)\n",
      "memory usage: 130.8+ MB\n"
     ]
    }
   ],
   "source": [
    "parcels_tracts_max_overlay_full.info()"
   ]
  },
  {
   "cell_type": "code",
   "execution_count": 195,
   "metadata": {},
   "outputs": [],
   "source": [
    "#Convert geom type from polygon to multipolygon before upsert\n",
    "parcels_tracts_max_overlay_full['geometry']= [MultiPolygon([feature]) if type(feature) == Polygon \\\n",
    "    else feature for feature in parcels_tracts_max_overlay_full[\"geometry\"]]"
   ]
  },
  {
   "cell_type": "code",
   "execution_count": 196,
   "metadata": {},
   "outputs": [],
   "source": [
    "#Convert geometry to wkt format before upserting to socrata\n",
    "parcels_tracts_max_overlay_full['geometry'] = parcels_tracts_max_overlay_full['geometry'].map(lambda x: x.wkt)"
   ]
  },
  {
   "cell_type": "code",
   "execution_count": 197,
   "metadata": {},
   "outputs": [
    {
     "data": {
      "text/html": [
       "<div>\n",
       "<style scoped>\n",
       "    .dataframe tbody tr th:only-of-type {\n",
       "        vertical-align: middle;\n",
       "    }\n",
       "\n",
       "    .dataframe tbody tr th {\n",
       "        vertical-align: top;\n",
       "    }\n",
       "\n",
       "    .dataframe thead th {\n",
       "        text-align: right;\n",
       "    }\n",
       "</style>\n",
       "<table border=\"1\" class=\"dataframe\">\n",
       "  <thead>\n",
       "    <tr style=\"text-align: right;\">\n",
       "      <th></th>\n",
       "      <th>joinid</th>\n",
       "      <th>fipco</th>\n",
       "      <th>jurisdict</th>\n",
       "      <th>apn_frm</th>\n",
       "      <th>acres</th>\n",
       "      <th>geometry</th>\n",
       "      <th>census_geoid</th>\n",
       "    </tr>\n",
       "  </thead>\n",
       "  <tbody>\n",
       "    <tr>\n",
       "      <th>0</th>\n",
       "      <td>AL000001</td>\n",
       "      <td>CA001</td>\n",
       "      <td>Oakland</td>\n",
       "      <td>48-6298-68</td>\n",
       "      <td>0.624495957805855</td>\n",
       "      <td>MULTIPOLYGON (((-122.120375004 37.756214616000...</td>\n",
       "      <td>06001409900</td>\n",
       "    </tr>\n",
       "    <tr>\n",
       "      <th>1</th>\n",
       "      <td>AL000002</td>\n",
       "      <td>CA001</td>\n",
       "      <td>Oakland</td>\n",
       "      <td>48-6298-3-2</td>\n",
       "      <td>0.149729127668363</td>\n",
       "      <td>MULTIPOLYGON (((-122.1238506989999 37.75571733...</td>\n",
       "      <td>06001409900</td>\n",
       "    </tr>\n",
       "    <tr>\n",
       "      <th>2</th>\n",
       "      <td>AL000003</td>\n",
       "      <td>CA001</td>\n",
       "      <td>Oakland</td>\n",
       "      <td>48-6299-71</td>\n",
       "      <td>0.163234864052674</td>\n",
       "      <td>MULTIPOLYGON (((-122.1232468379999 37.75211693...</td>\n",
       "      <td>06001409900</td>\n",
       "    </tr>\n",
       "    <tr>\n",
       "      <th>3</th>\n",
       "      <td>AL000004</td>\n",
       "      <td>CA001</td>\n",
       "      <td>Oakland</td>\n",
       "      <td>48-6313-23</td>\n",
       "      <td>0.267472543150323</td>\n",
       "      <td>MULTIPOLYGON (((-122.125055068 37.754291018000...</td>\n",
       "      <td>06001409900</td>\n",
       "    </tr>\n",
       "    <tr>\n",
       "      <th>4</th>\n",
       "      <td>AL000005</td>\n",
       "      <td>CA001</td>\n",
       "      <td>Oakland</td>\n",
       "      <td>48-6432-39</td>\n",
       "      <td>0.401868448364306</td>\n",
       "      <td>MULTIPOLYGON (((-122.128541781 37.762467257000...</td>\n",
       "      <td>06001409900</td>\n",
       "    </tr>\n",
       "    <tr>\n",
       "      <th>5</th>\n",
       "      <td>AL000006</td>\n",
       "      <td>CA001</td>\n",
       "      <td>Oakland</td>\n",
       "      <td>48-6432-51</td>\n",
       "      <td>0.422807899660084</td>\n",
       "      <td>MULTIPOLYGON (((-122.127357392 37.763071106000...</td>\n",
       "      <td>06001409900</td>\n",
       "    </tr>\n",
       "    <tr>\n",
       "      <th>6</th>\n",
       "      <td>AL000007</td>\n",
       "      <td>CA001</td>\n",
       "      <td>Oakland</td>\n",
       "      <td>48-6431-7</td>\n",
       "      <td>0.204664264932627</td>\n",
       "      <td>MULTIPOLYGON (((-122.1316201499999 37.76050719...</td>\n",
       "      <td>06001409900</td>\n",
       "    </tr>\n",
       "    <tr>\n",
       "      <th>7</th>\n",
       "      <td>AL000008</td>\n",
       "      <td>CA001</td>\n",
       "      <td>Oakland</td>\n",
       "      <td>48-6313-25</td>\n",
       "      <td>0.274377949904205</td>\n",
       "      <td>MULTIPOLYGON (((-122.124571039 37.754339969000...</td>\n",
       "      <td>06001409900</td>\n",
       "    </tr>\n",
       "    <tr>\n",
       "      <th>8</th>\n",
       "      <td>AL000009</td>\n",
       "      <td>CA001</td>\n",
       "      <td>Oakland</td>\n",
       "      <td>48-6313-87</td>\n",
       "      <td>0.137672686739755</td>\n",
       "      <td>MULTIPOLYGON (((-122.126366686 37.753668080000...</td>\n",
       "      <td>06001409900</td>\n",
       "    </tr>\n",
       "    <tr>\n",
       "      <th>9</th>\n",
       "      <td>AL000010</td>\n",
       "      <td>CA001</td>\n",
       "      <td>Oakland</td>\n",
       "      <td>48-6298-60</td>\n",
       "      <td>0.163036237080993</td>\n",
       "      <td>MULTIPOLYGON (((-122.121958935 37.756413339000...</td>\n",
       "      <td>06001409900</td>\n",
       "    </tr>\n",
       "  </tbody>\n",
       "</table>\n",
       "</div>"
      ],
      "text/plain": [
       "     joinid  fipco jurisdict      apn_frm              acres  \\\n",
       "0  AL000001  CA001   Oakland   48-6298-68  0.624495957805855   \n",
       "1  AL000002  CA001   Oakland  48-6298-3-2  0.149729127668363   \n",
       "2  AL000003  CA001   Oakland   48-6299-71  0.163234864052674   \n",
       "3  AL000004  CA001   Oakland   48-6313-23  0.267472543150323   \n",
       "4  AL000005  CA001   Oakland   48-6432-39  0.401868448364306   \n",
       "5  AL000006  CA001   Oakland   48-6432-51  0.422807899660084   \n",
       "6  AL000007  CA001   Oakland    48-6431-7  0.204664264932627   \n",
       "7  AL000008  CA001   Oakland   48-6313-25  0.274377949904205   \n",
       "8  AL000009  CA001   Oakland   48-6313-87  0.137672686739755   \n",
       "9  AL000010  CA001   Oakland   48-6298-60  0.163036237080993   \n",
       "\n",
       "                                            geometry census_geoid  \n",
       "0  MULTIPOLYGON (((-122.120375004 37.756214616000...  06001409900  \n",
       "1  MULTIPOLYGON (((-122.1238506989999 37.75571733...  06001409900  \n",
       "2  MULTIPOLYGON (((-122.1232468379999 37.75211693...  06001409900  \n",
       "3  MULTIPOLYGON (((-122.125055068 37.754291018000...  06001409900  \n",
       "4  MULTIPOLYGON (((-122.128541781 37.762467257000...  06001409900  \n",
       "5  MULTIPOLYGON (((-122.127357392 37.763071106000...  06001409900  \n",
       "6  MULTIPOLYGON (((-122.1316201499999 37.76050719...  06001409900  \n",
       "7  MULTIPOLYGON (((-122.124571039 37.754339969000...  06001409900  \n",
       "8  MULTIPOLYGON (((-122.126366686 37.753668080000...  06001409900  \n",
       "9  MULTIPOLYGON (((-122.121958935 37.756413339000...  06001409900  "
      ]
     },
     "execution_count": 197,
     "metadata": {},
     "output_type": "execute_result"
    }
   ],
   "source": [
    "parcels_tracts_max_overlay_full.head(10)"
   ]
  },
  {
   "cell_type": "code",
   "execution_count": 198,
   "metadata": {},
   "outputs": [
    {
     "name": "stdout",
     "output_type": "stream",
     "text": [
      "upserting data to Socrata in 15 chunks of 143000 rows each\n",
      "upserted chunk 0\n",
      "upserted chunk 1\n",
      "upserted chunk 2\n",
      "upserted chunk 3\n",
      "upserted chunk 4\n",
      "upserted chunk 5\n",
      "upserted chunk 6\n",
      "upserted chunk 7\n",
      "upserted chunk 8\n",
      "upserted chunk 9\n",
      "upserted chunk 10\n",
      "upserted chunk 11\n",
      "upserted chunk 12\n",
      "upserted chunk 13\n",
      "upserted chunk 14\n",
      "data upserted to t9zc-bu3x\n",
      "took 11.0397 minutes\n"
     ]
    }
   ],
   "source": [
    "#Upsert to socrata w/ geoid\n",
    "upsert_df_socrata(parcels_tracts_max_overlay_full[['joinid',\n",
    "                                              'fipco',\n",
    "                                              'jurisdict',\n",
    "                                              'apn_frm',\n",
    "                                              'acres',\n",
    "                                              'census_geoid',\n",
    "                                              'geometry']],housing_site_db_id)"
   ]
  }
 ],
 "metadata": {
  "kernelspec": {
   "display_name": "Python 3",
   "language": "python",
   "name": "python3"
  },
  "language_info": {
   "codemirror_mode": {
    "name": "ipython",
    "version": 3
   },
   "file_extension": ".py",
   "mimetype": "text/x-python",
   "name": "python",
   "nbconvert_exporter": "python",
   "pygments_lexer": "ipython3",
   "version": "3.7.7"
  }
 },
 "nbformat": 4,
 "nbformat_minor": 4
}
