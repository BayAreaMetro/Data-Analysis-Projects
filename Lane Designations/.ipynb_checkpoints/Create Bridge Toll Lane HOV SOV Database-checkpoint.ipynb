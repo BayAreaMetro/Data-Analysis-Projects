{
 "cells": [
  {
   "cell_type": "markdown",
   "metadata": {},
   "source": [
    "# Create Bridge Toll Lane Type Database\n",
    "\n",
    "## Purpose\n",
    "Create a database that identifies the type of lane for each bridge toll plaza by hour of each day.  This database can then be joined with the FasTrak transaction log to understand changes in usage by vehicle type.\n",
    "\n",
    "## Status (2016 03 09 dto)\n",
    "Seems to be working\n",
    "\n",
    "## General Procedures\n",
    "\n",
    "#### Overhead"
   ]
  },
  {
   "cell_type": "code",
   "execution_count": 1,
   "metadata": {
    "collapsed": false
   },
   "outputs": [],
   "source": [
    "from datetime import date, timedelta as td\n",
    "import csv\n",
    "import pandas as pd\n",
    "\n",
    "# Lane Categories\n",
    "D = 'mostly hov'\n",
    "M = 'mixed sov-hov'\n",
    "N = 'mostly sov'\n",
    "X = 'closed' # if open during carpool hours and closed during non-carpool hours"
   ]
  },
  {
   "cell_type": "markdown",
   "metadata": {},
   "source": [
    "#### Create a generic method for writing out a block of data"
   ]
  },
  {
   "cell_type": "code",
   "execution_count": 2,
   "metadata": {
    "collapsed": false
   },
   "outputs": [],
   "source": [
    "def write_out_a_sequence(writer, plaza, start_date, end_date, carpool_switches, lane_carpool):\n",
    "    \n",
    "    date_range = end_date - start_date\n",
    "    \n",
    "    for date in range(date_range.days + 1):\n",
    "        date_name = start_date + td(days = date)\n",
    "        \n",
    "        for hour_index in range(len(carpool_switches)):\n",
    "            \n",
    "            for lane_index in range(len(lane_carpool)):\n",
    "                \n",
    "                designation = M\n",
    "                if carpool_switches[hour_index]:\n",
    "                    designation = lane_carpool[lane_index]\n",
    "                    \n",
    "                row = [plaza, date_name, hour_index, (lane_index + 1), designation]\n",
    "                writer.writerow(row)"
   ]
  },
  {
   "cell_type": "markdown",
   "metadata": {},
   "source": [
    "#### Prepare the output file and generic data structures"
   ]
  },
  {
   "cell_type": "code",
   "execution_count": 3,
   "metadata": {
    "collapsed": false
   },
   "outputs": [],
   "source": [
    "# Prepare output file\n",
    "output_file_name = 'M:/Data/BATA/Transactions by Lane/Bridge Toll Lane Type Database.csv'\n",
    "output_file = open(output_file_name,'w')\n",
    "output_writer = csv.writer(output_file, delimiter = ',')\n",
    "output_writer.writerow(['plaza_name','date_string','hour_int','lane_id','lane_designation'])\n",
    "\n",
    "# Define two car pool hour schemes \n",
    "carpool_until_7 = [False,  # midnight to 1 am\n",
    "                   False,  # 1 am  to 2 am\n",
    "                   False,  # 2 am  to 3 am\n",
    "                   False,  # 3 am  to 4 am\n",
    "                   False,  # 4 am  to 5 am\n",
    "                   True,   # 5 am  to 6 am\n",
    "                   True,   # 6 am  to 7 am\n",
    "                   True,   # 7 am  to 8 am\n",
    "                   True,   # 8 am  to 9 am\n",
    "                   True,   # 9 am  to 10 am\n",
    "                   False,  # 10 am to 11 am\n",
    "                   False,  # 11 am to noon\n",
    "                   False,  # noon  to 1 pm\n",
    "                   False,  # 1 pm  to 2 pm\n",
    "                   False,  # 2 pm  to 3 pm\n",
    "                   True,   # 3 pm  to 4 pm\n",
    "                   True,   # 4 pm  to 5 pm\n",
    "                   True,   # 5 pm  to 6 pm\n",
    "                   True,   # 6 pm  to 7 pm\n",
    "                   False,  # 7 pm  to 8 pm\n",
    "                   False,  # 8 pm  to 9 pm\n",
    "                   False,  # 9 pm  to 10 pm\n",
    "                   False,  # 10 pm to 11 pm\n",
    "                   False]  # 11 pm to midnight \n",
    "\n",
    "carpool_until_6 = [False,  # midnight to 1 am\n",
    "                   False,  # 1 am  to 2 am\n",
    "                   False,  # 2 am  to 3 am\n",
    "                   False,  # 3 am  to 4 am\n",
    "                   False,  # 4 am  to 5 am\n",
    "                   True,   # 5 am  to 6 am\n",
    "                   True,   # 6 am  to 7 am\n",
    "                   True,   # 7 am  to 8 am\n",
    "                   True,   # 8 am  to 9 am\n",
    "                   True,   # 9 am  to 10 am\n",
    "                   False,  # 10 am to 11 am\n",
    "                   False,  # 11 am to noon\n",
    "                   False,  # noon  to 1 pm\n",
    "                   False,  # 1 pm  to 2 pm\n",
    "                   False,  # 2 pm  to 3 pm\n",
    "                   True,   # 3 pm  to 4 pm\n",
    "                   True,   # 4 pm  to 5 pm\n",
    "                   True,   # 5 pm  to 6 pm\n",
    "                   False,   # 6 pm  to 7 pm\n",
    "                   False,  # 7 pm  to 8 pm\n",
    "                   False,  # 8 pm  to 9 pm\n",
    "                   False,  # 9 pm  to 10 pm\n",
    "                   False,  # 10 pm to 11 pm\n",
    "                   False]  # 11 pm to midnight \n"
   ]
  },
  {
   "cell_type": "markdown",
   "metadata": {},
   "source": [
    "## Bridge-specific Routines\n",
    "\n",
    "#### Antioch Bridge"
   ]
  },
  {
   "cell_type": "code",
   "execution_count": 4,
   "metadata": {
    "collapsed": false
   },
   "outputs": [],
   "source": [
    "#  1 Jan 2007 to 30 June 2010 \n",
    "write_out_a_sequence(output_writer, \n",
    "                     'Antioch Bridge', \n",
    "                     date(2007,1,1), \n",
    "                     date(2010,6,30), \n",
    "                     carpool_until_7, \n",
    "                     [M,M,N])\n",
    "\n",
    "# 1 July 2010 to 31 December 2016\n",
    "write_out_a_sequence(output_writer, \n",
    "                     'Antioch Bridge', \n",
    "                     date(2010,7,1), \n",
    "                     date(2016,12,31), \n",
    "                     carpool_until_7, \n",
    "                     [N,N,D])\n"
   ]
  },
  {
   "cell_type": "markdown",
   "metadata": {},
   "source": [
    "#### Richmond Bridge"
   ]
  },
  {
   "cell_type": "code",
   "execution_count": 5,
   "metadata": {
    "collapsed": false
   },
   "outputs": [],
   "source": [
    "#  1 Jan 2007 to 24 October 2007\n",
    "write_out_a_sequence(output_writer, \n",
    "                     'Richmond Bridge', \n",
    "                     date(2007,1,1), \n",
    "                     date(2007,10,24), \n",
    "                     carpool_until_6, \n",
    "                     [N, N, N, M, N, N, N])\n",
    "\n",
    "# 18 August 2007 to 24 October 2007\n",
    "write_out_a_sequence(output_writer, \n",
    "                     'Richmond Bridge', \n",
    "                     date(2007,8,18), \n",
    "                     date(2007,10,24), \n",
    "                     carpool_until_6, \n",
    "                     [N, N, M, N, N, N, N])\n",
    "\n",
    "# 25 October 2007 to 30 June 2010\n",
    "write_out_a_sequence(output_writer, \n",
    "                     'Richmond Bridge', \n",
    "                     date(2007,10,25), \n",
    "                     date(2010,6,9), \n",
    "                     carpool_until_6, \n",
    "                     [N, N, M, N, N, M, N])\n",
    "\n",
    "# 1 July 2010 to 31 December 2016\n",
    "write_out_a_sequence(output_writer, \n",
    "                     'Richmond Bridge', \n",
    "                     date(2010,6,10), \n",
    "                     date(2016,12,31), \n",
    "                     carpool_until_7, \n",
    "                     [D, N, N, N, N, N, N])\n"
   ]
  },
  {
   "cell_type": "markdown",
   "metadata": {},
   "source": [
    "#### Bay Bridge"
   ]
  },
  {
   "cell_type": "code",
   "execution_count": 6,
   "metadata": {
    "collapsed": false
   },
   "outputs": [],
   "source": [
    "# 1 January 2007 to 2 September 2009\n",
    "write_out_a_sequence(output_writer, \n",
    "                     'Bay Bridge', \n",
    "                     date(2007,1,1), \n",
    "                     date(2009,9,2), \n",
    "                     carpool_until_7,\n",
    "                     #1  2  3  4  5  6  7  8  9 10 11 12 13 14 15 16 17 18 19 20 21 22 \n",
    "                     [D, D, N, N, N, N, N, N, N, N, N, N, N, N, N, N, N, N, N, N, D, D])\n",
    "\n",
    "# 3 September 2009 to 31 December 2016 \n",
    "write_out_a_sequence(output_writer, \n",
    "                     'Bay Bridge', \n",
    "                     date(2009,9,3), \n",
    "                     date(2016,12,31), \n",
    "                     carpool_until_7,\n",
    "                     #1  2  3  4  5  6  7  8  9 10 11 12 13 14 15 16 17 18 19 20  \n",
    "                     [D, D, N, N, N, N, N, N, N, N, N, N, N, N, N, N, N, N, D, D])\n"
   ]
  },
  {
   "cell_type": "markdown",
   "metadata": {},
   "source": [
    "#### San Mateo Bridge"
   ]
  },
  {
   "cell_type": "code",
   "execution_count": 7,
   "metadata": {
    "collapsed": false
   },
   "outputs": [],
   "source": [
    "# 1 January 2007 to 8 July 2007\n",
    "write_out_a_sequence(output_writer, \n",
    "                     'San Mateo Bridge', \n",
    "                     date(2007,1,1), \n",
    "                     date(2007,7,8), \n",
    "                     carpool_until_6, \n",
    "                     #1  2  3  4  5  6  7  8  9 10\n",
    "                     [M, N, N, N, N, N, N, N, N, N])\n",
    "\n",
    "# 9 July 2007 to 30 June 2010\n",
    "write_out_a_sequence(output_writer, \n",
    "                     'San Mateo Bridge', \n",
    "                     date(2007,7,9), \n",
    "                     date(2010,6,30), \n",
    "                     carpool_until_6, \n",
    "                     #1  2  3  4  5  6  7  8  9 10\n",
    "                     [D, D, N, N, N, N, N, N, N, N])\n",
    "\n",
    "# 1 July 2010 to 31 December 2016\n",
    "write_out_a_sequence(output_writer, \n",
    "                     'San Mateo Bridge', \n",
    "                     date(2010,7,1), \n",
    "                     date(2016,12,31), \n",
    "                     carpool_until_7, \n",
    "                     #1  2  3  4  5  6  7  8  9 10\n",
    "                     [D, D, N, N, N, N, N, N, N, N])"
   ]
  },
  {
   "cell_type": "markdown",
   "metadata": {},
   "source": [
    "#### Dumbarton Bridge"
   ]
  },
  {
   "cell_type": "code",
   "execution_count": 8,
   "metadata": {
    "collapsed": false
   },
   "outputs": [],
   "source": [
    "# 1 January 2007 to 30 June 2010\n",
    "write_out_a_sequence(output_writer, \n",
    "                     'Dumbarton Bridge', \n",
    "                     date(2007,1,1), \n",
    "                     date(2010,6,30), \n",
    "                     carpool_until_6, \n",
    "                     #1  2  3  4  5  6  7\n",
    "                     [N, N, N, N, N, N, D])\n",
    "\n",
    "# 1 July 2010 to 31 December 2016\n",
    "write_out_a_sequence(output_writer, \n",
    "                     'Dumbarton Bridge', \n",
    "                     date(2010,7,1), \n",
    "                     date(2016,12,31), \n",
    "                     carpool_until_7, \n",
    "                     #1  2  3  4  5  6  7\n",
    "                     [N, N, N, N, N, N, D])\n"
   ]
  },
  {
   "cell_type": "markdown",
   "metadata": {},
   "source": [
    "#### Carquinez Bridge"
   ]
  },
  {
   "cell_type": "code",
   "execution_count": 9,
   "metadata": {
    "collapsed": false
   },
   "outputs": [],
   "source": [
    "# 1 January 2007 to 10 August 2007\n",
    "write_out_a_sequence(output_writer, \n",
    "                     'Carquinez Bridge', \n",
    "                     date(2007,1,1), \n",
    "                     date(2007,8,10), \n",
    "                     carpool_until_7, \n",
    "                     #1  2  3  4  5  6  7  8  9 10 11 12\n",
    "                     [N, N, N, N, N, D, N, N, N, N, N, N])\n",
    "\n",
    "# 11 August 2007 to 24 October 2007\n",
    "write_out_a_sequence(output_writer, \n",
    "                     'Carquinez Bridge', \n",
    "                     date(2007,8,11), \n",
    "                     date(2007,10,24), \n",
    "                     carpool_until_7, \n",
    "                     #1  2  3  4  5  6  7  8  9 10 11 12\n",
    "                     [D, N, N, N, N, N, N, N, N, N, N, N])\n",
    "\n",
    "# 25 October 2007 to 27 June 2010\n",
    "write_out_a_sequence(output_writer, \n",
    "                     'Carquinez Bridge', \n",
    "                     date(2007,10,24), \n",
    "                     date(2010,6,27), \n",
    "                     carpool_until_7, \n",
    "                     #1  2  3  4  5  6  7  8  9 10 11 12\n",
    "                     [D, N, N, N, N, N, N, N, N, N, M, N])\n",
    "\n",
    "# 28 June 2010 to 31 December 2016\n",
    "write_out_a_sequence(output_writer, \n",
    "                     'Carquinez Bridge', \n",
    "                     date(2010,6,28), \n",
    "                     date(2016,12,31), \n",
    "                     carpool_until_7, \n",
    "                     #1  2  3  4  5  6  7  8  9 10 11 12\n",
    "                     [D, N, N, N, D, N, N, N, N, N, N, N])"
   ]
  },
  {
   "cell_type": "markdown",
   "metadata": {},
   "source": [
    "#### Benicia Bridge"
   ]
  },
  {
   "cell_type": "code",
   "execution_count": 10,
   "metadata": {
    "collapsed": false
   },
   "outputs": [],
   "source": [
    "# 1 January 2007 to 25 August 2007\n",
    "write_out_a_sequence(output_writer, \n",
    "                     'Benicia Bridge', \n",
    "                     date(2007,1,1), \n",
    "                     date(2007,8,25), \n",
    "                     carpool_until_7, \n",
    "                     #1  2  3  4  5  6  7  8  9\n",
    "                     [N, N, N, M, M, N, N, N, N])\n",
    "\n",
    "# 26 August 2007 to 13 June 2010\n",
    "write_out_a_sequence(output_writer, \n",
    "                     'Benicia Bridge', \n",
    "                     date(2007,8,26), \n",
    "                     date(2010,6,13), \n",
    "                     carpool_until_7, \n",
    "                     #1  2  3  4  5  6  7  8  9 10 11 12 13 14 15 16 17 18\n",
    "                     [N, N, M, N, N, N, N, N, N, X, X, N, N, X, X, X, D, X])\n",
    "\n",
    "# 14 June 2010 to 31 December 2016\n",
    "write_out_a_sequence(output_writer, \n",
    "                     'Benicia Bridge', \n",
    "                     date(2010,6,14), \n",
    "                     date(2016,12,31), \n",
    "                     carpool_until_7, \n",
    "                     #1  2  3  4  5  6  7  8  9 10 11 12 13 14 15 16 17 18\n",
    "                     [N, N, D, N, N, N, N, N, N, N, N, N, N, N, N, D, D, D])"
   ]
  },
  {
   "cell_type": "markdown",
   "metadata": {},
   "source": [
    "## Close up Shop"
   ]
  },
  {
   "cell_type": "code",
   "execution_count": 11,
   "metadata": {
    "collapsed": false
   },
   "outputs": [],
   "source": [
    "output_file.close();"
   ]
  },
  {
   "cell_type": "markdown",
   "metadata": {},
   "source": [
    "#### Read data in as dataframe to print snippet"
   ]
  },
  {
   "cell_type": "code",
   "execution_count": 12,
   "metadata": {
    "collapsed": false
   },
   "outputs": [
    {
     "data": {
      "text/html": [
       "<div>\n",
       "<table border=\"1\" class=\"dataframe\">\n",
       "  <thead>\n",
       "    <tr style=\"text-align: right;\">\n",
       "      <th></th>\n",
       "      <th>plaza_name</th>\n",
       "      <th>date_string</th>\n",
       "      <th>hour_int</th>\n",
       "      <th>lane_id</th>\n",
       "      <th>lane_designation</th>\n",
       "    </tr>\n",
       "  </thead>\n",
       "  <tbody>\n",
       "    <tr>\n",
       "      <th>0</th>\n",
       "      <td>Antioch Bridge</td>\n",
       "      <td>2007-01-01</td>\n",
       "      <td>0</td>\n",
       "      <td>1</td>\n",
       "      <td>mixed sov-hov</td>\n",
       "    </tr>\n",
       "    <tr>\n",
       "      <th>1</th>\n",
       "      <td>Antioch Bridge</td>\n",
       "      <td>2007-01-01</td>\n",
       "      <td>0</td>\n",
       "      <td>2</td>\n",
       "      <td>mixed sov-hov</td>\n",
       "    </tr>\n",
       "    <tr>\n",
       "      <th>2</th>\n",
       "      <td>Antioch Bridge</td>\n",
       "      <td>2007-01-01</td>\n",
       "      <td>0</td>\n",
       "      <td>3</td>\n",
       "      <td>mixed sov-hov</td>\n",
       "    </tr>\n",
       "    <tr>\n",
       "      <th>3</th>\n",
       "      <td>Antioch Bridge</td>\n",
       "      <td>2007-01-01</td>\n",
       "      <td>1</td>\n",
       "      <td>1</td>\n",
       "      <td>mixed sov-hov</td>\n",
       "    </tr>\n",
       "    <tr>\n",
       "      <th>4</th>\n",
       "      <td>Antioch Bridge</td>\n",
       "      <td>2007-01-01</td>\n",
       "      <td>1</td>\n",
       "      <td>2</td>\n",
       "      <td>mixed sov-hov</td>\n",
       "    </tr>\n",
       "    <tr>\n",
       "      <th>5</th>\n",
       "      <td>Antioch Bridge</td>\n",
       "      <td>2007-01-01</td>\n",
       "      <td>1</td>\n",
       "      <td>3</td>\n",
       "      <td>mixed sov-hov</td>\n",
       "    </tr>\n",
       "    <tr>\n",
       "      <th>6</th>\n",
       "      <td>Antioch Bridge</td>\n",
       "      <td>2007-01-01</td>\n",
       "      <td>2</td>\n",
       "      <td>1</td>\n",
       "      <td>mixed sov-hov</td>\n",
       "    </tr>\n",
       "    <tr>\n",
       "      <th>7</th>\n",
       "      <td>Antioch Bridge</td>\n",
       "      <td>2007-01-01</td>\n",
       "      <td>2</td>\n",
       "      <td>2</td>\n",
       "      <td>mixed sov-hov</td>\n",
       "    </tr>\n",
       "    <tr>\n",
       "      <th>8</th>\n",
       "      <td>Antioch Bridge</td>\n",
       "      <td>2007-01-01</td>\n",
       "      <td>2</td>\n",
       "      <td>3</td>\n",
       "      <td>mixed sov-hov</td>\n",
       "    </tr>\n",
       "    <tr>\n",
       "      <th>9</th>\n",
       "      <td>Antioch Bridge</td>\n",
       "      <td>2007-01-01</td>\n",
       "      <td>3</td>\n",
       "      <td>1</td>\n",
       "      <td>mixed sov-hov</td>\n",
       "    </tr>\n",
       "    <tr>\n",
       "      <th>10</th>\n",
       "      <td>Antioch Bridge</td>\n",
       "      <td>2007-01-01</td>\n",
       "      <td>3</td>\n",
       "      <td>2</td>\n",
       "      <td>mixed sov-hov</td>\n",
       "    </tr>\n",
       "    <tr>\n",
       "      <th>11</th>\n",
       "      <td>Antioch Bridge</td>\n",
       "      <td>2007-01-01</td>\n",
       "      <td>3</td>\n",
       "      <td>3</td>\n",
       "      <td>mixed sov-hov</td>\n",
       "    </tr>\n",
       "    <tr>\n",
       "      <th>12</th>\n",
       "      <td>Antioch Bridge</td>\n",
       "      <td>2007-01-01</td>\n",
       "      <td>4</td>\n",
       "      <td>1</td>\n",
       "      <td>mixed sov-hov</td>\n",
       "    </tr>\n",
       "    <tr>\n",
       "      <th>13</th>\n",
       "      <td>Antioch Bridge</td>\n",
       "      <td>2007-01-01</td>\n",
       "      <td>4</td>\n",
       "      <td>2</td>\n",
       "      <td>mixed sov-hov</td>\n",
       "    </tr>\n",
       "    <tr>\n",
       "      <th>14</th>\n",
       "      <td>Antioch Bridge</td>\n",
       "      <td>2007-01-01</td>\n",
       "      <td>4</td>\n",
       "      <td>3</td>\n",
       "      <td>mixed sov-hov</td>\n",
       "    </tr>\n",
       "    <tr>\n",
       "      <th>15</th>\n",
       "      <td>Antioch Bridge</td>\n",
       "      <td>2007-01-01</td>\n",
       "      <td>5</td>\n",
       "      <td>1</td>\n",
       "      <td>mixed sov-hov</td>\n",
       "    </tr>\n",
       "    <tr>\n",
       "      <th>16</th>\n",
       "      <td>Antioch Bridge</td>\n",
       "      <td>2007-01-01</td>\n",
       "      <td>5</td>\n",
       "      <td>2</td>\n",
       "      <td>mixed sov-hov</td>\n",
       "    </tr>\n",
       "    <tr>\n",
       "      <th>17</th>\n",
       "      <td>Antioch Bridge</td>\n",
       "      <td>2007-01-01</td>\n",
       "      <td>5</td>\n",
       "      <td>3</td>\n",
       "      <td>mostly sov</td>\n",
       "    </tr>\n",
       "    <tr>\n",
       "      <th>18</th>\n",
       "      <td>Antioch Bridge</td>\n",
       "      <td>2007-01-01</td>\n",
       "      <td>6</td>\n",
       "      <td>1</td>\n",
       "      <td>mixed sov-hov</td>\n",
       "    </tr>\n",
       "    <tr>\n",
       "      <th>19</th>\n",
       "      <td>Antioch Bridge</td>\n",
       "      <td>2007-01-01</td>\n",
       "      <td>6</td>\n",
       "      <td>2</td>\n",
       "      <td>mixed sov-hov</td>\n",
       "    </tr>\n",
       "  </tbody>\n",
       "</table>\n",
       "</div>"
      ],
      "text/plain": [
       "        plaza_name date_string  hour_int  lane_id lane_designation\n",
       "0   Antioch Bridge  2007-01-01         0        1    mixed sov-hov\n",
       "1   Antioch Bridge  2007-01-01         0        2    mixed sov-hov\n",
       "2   Antioch Bridge  2007-01-01         0        3    mixed sov-hov\n",
       "3   Antioch Bridge  2007-01-01         1        1    mixed sov-hov\n",
       "4   Antioch Bridge  2007-01-01         1        2    mixed sov-hov\n",
       "5   Antioch Bridge  2007-01-01         1        3    mixed sov-hov\n",
       "6   Antioch Bridge  2007-01-01         2        1    mixed sov-hov\n",
       "7   Antioch Bridge  2007-01-01         2        2    mixed sov-hov\n",
       "8   Antioch Bridge  2007-01-01         2        3    mixed sov-hov\n",
       "9   Antioch Bridge  2007-01-01         3        1    mixed sov-hov\n",
       "10  Antioch Bridge  2007-01-01         3        2    mixed sov-hov\n",
       "11  Antioch Bridge  2007-01-01         3        3    mixed sov-hov\n",
       "12  Antioch Bridge  2007-01-01         4        1    mixed sov-hov\n",
       "13  Antioch Bridge  2007-01-01         4        2    mixed sov-hov\n",
       "14  Antioch Bridge  2007-01-01         4        3    mixed sov-hov\n",
       "15  Antioch Bridge  2007-01-01         5        1    mixed sov-hov\n",
       "16  Antioch Bridge  2007-01-01         5        2    mixed sov-hov\n",
       "17  Antioch Bridge  2007-01-01         5        3       mostly sov\n",
       "18  Antioch Bridge  2007-01-01         6        1    mixed sov-hov\n",
       "19  Antioch Bridge  2007-01-01         6        2    mixed sov-hov"
      ]
     },
     "execution_count": 12,
     "metadata": {},
     "output_type": "execute_result"
    }
   ],
   "source": [
    "df_out = pd.read_csv(output_file_name)\n",
    "df_out = df_out.dropna()\n",
    "df_out[:20]"
   ]
  },
  {
   "cell_type": "code",
   "execution_count": null,
   "metadata": {
    "collapsed": false
   },
   "outputs": [],
   "source": []
  }
 ],
 "metadata": {
  "anaconda-cloud": {},
  "kernelspec": {
   "display_name": "Python [Root]",
   "language": "python",
   "name": "Python [Root]"
  },
  "language_info": {
   "codemirror_mode": {
    "name": "ipython",
    "version": 2
   },
   "file_extension": ".py",
   "mimetype": "text/x-python",
   "name": "python",
   "nbconvert_exporter": "python",
   "pygments_lexer": "ipython2",
   "version": "2.7.11"
  }
 },
 "nbformat": 4,
 "nbformat_minor": 0
}
